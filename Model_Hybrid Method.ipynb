{
 "cells": [
  {
   "cell_type": "markdown",
   "id": "d8efc53f",
   "metadata": {},
   "source": [
    "### Importing Libraries"
   ]
  },
  {
   "cell_type": "code",
   "execution_count": 1,
   "id": "75d536a1",
   "metadata": {},
   "outputs": [
    {
     "name": "stdout",
     "output_type": "stream",
     "text": [
      "Imported 0.2.04 version. Select nrows to a small number when running on huge datasets.\n",
      "output = featurewiz(dataname, target, corr_limit=0.90, verbose=2, sep=',', \n",
      "\t\theader=0, test_data='',feature_engg='', category_encoders='',\n",
      "\t\tdask_xgboost_flag=False, nrows=None, skip_sulov=False)\n",
      "Create new features via 'feature_engg' flag : ['interactions','groupby','target']\n",
      "\n"
     ]
    }
   ],
   "source": [
    "import pandas as pd\n",
    "import numpy as np\n",
    "import matplotlib.pyplot as plt\n",
    "import seaborn as sns\n",
    "%matplotlib inline\n",
    "\n",
    "\n",
    "\n",
    "from sklearn.preprocessing import StandardScaler\n",
    "from featurewiz import featurewiz\n",
    "from imblearn.over_sampling import SMOTE\n",
    "from imblearn.under_sampling import RandomUnderSampler\n",
    "\n",
    "from sklearn.model_selection import train_test_split\n",
    "\n",
    "\n",
    "from sklearn import metrics\n",
    "from sklearn.metrics import confusion_matrix, accuracy_score,f1_score,recall_score, precision_score, classification_report\n",
    "from sklearn.metrics import roc_curve, roc_auc_score\n",
    "from sklearn.metrics import top_k_accuracy_score\n",
    "from sklearn.metrics import average_precision_score\n",
    "\n",
    "from sklearn.ensemble import RandomForestClassifier\n",
    "from lightgbm import LGBMClassifier\n",
    "import lightgbm as lgb\n",
    "from sklearn.linear_model import LogisticRegression\n",
    "from sklearn.tree import DecisionTreeClassifier \n",
    "from sklearn.linear_model import LogisticRegression\n",
    "import xgboost as xgb\n",
    "from xgboost import XGBClassifier"
   ]
  },
  {
   "cell_type": "markdown",
   "id": "ac825e0b",
   "metadata": {},
   "source": [
    "### Loading in the Dataset"
   ]
  },
  {
   "cell_type": "code",
   "execution_count": 2,
   "id": "e47441bd",
   "metadata": {},
   "outputs": [
    {
     "data": {
      "text/plain": [
       "(2928154, 21)"
      ]
     },
     "execution_count": 2,
     "metadata": {},
     "output_type": "execute_result"
    }
   ],
   "source": [
    "df = pd.read_csv('transactions_data.csv')\n",
    "df.shape"
   ]
  },
  {
   "cell_type": "code",
   "execution_count": 3,
   "id": "0e47fd06",
   "metadata": {},
   "outputs": [
    {
     "data": {
      "text/html": [
       "<div>\n",
       "<style scoped>\n",
       "    .dataframe tbody tr th:only-of-type {\n",
       "        vertical-align: middle;\n",
       "    }\n",
       "\n",
       "    .dataframe tbody tr th {\n",
       "        vertical-align: top;\n",
       "    }\n",
       "\n",
       "    .dataframe thead th {\n",
       "        text-align: right;\n",
       "    }\n",
       "</style>\n",
       "<table border=\"1\" class=\"dataframe\">\n",
       "  <thead>\n",
       "    <tr style=\"text-align: right;\">\n",
       "      <th></th>\n",
       "      <th>Unnamed: 0</th>\n",
       "      <th>TRANSACTION_ID</th>\n",
       "      <th>TX_DATETIME</th>\n",
       "      <th>CUSTOMER_ID</th>\n",
       "      <th>TERMINAL_ID</th>\n",
       "      <th>TX_AMOUNT</th>\n",
       "      <th>TX_FRAUD</th>\n",
       "      <th>TX_DURING_WEEKEND</th>\n",
       "      <th>TX_DURING_NIGHT</th>\n",
       "      <th>CUSTOMER_ID_NB_TX_1DAY_WINDOW</th>\n",
       "      <th>...</th>\n",
       "      <th>CUSTOMER_ID_NB_TX_7DAY_WINDOW</th>\n",
       "      <th>CUSTOMER_ID_AVG_AMOUNT_7DAY_WINDOW</th>\n",
       "      <th>CUSTOMER_ID_NB_TX_30DAY_WINDOW</th>\n",
       "      <th>CUSTOMER_ID_AVG_AMOUNT_30DAY_WINDOW</th>\n",
       "      <th>TERMINAL_ID_NB_TX_1DAY_WINDOW</th>\n",
       "      <th>TERMINAL_ID_RISK_1DAY_WINDOW</th>\n",
       "      <th>TERMINAL_ID_NB_TX_7DAY_WINDOW</th>\n",
       "      <th>TERMINAL_ID_RISK_7DAY_WINDOW</th>\n",
       "      <th>TERMINAL_ID_NB_TX_30DAY_WINDOW</th>\n",
       "      <th>TERMINAL_ID_RISK_30DAY_WINDOW</th>\n",
       "    </tr>\n",
       "  </thead>\n",
       "  <tbody>\n",
       "    <tr>\n",
       "      <th>0</th>\n",
       "      <td>0</td>\n",
       "      <td>0</td>\n",
       "      <td>2022-01-01 00:00:17</td>\n",
       "      <td>6160</td>\n",
       "      <td>6202</td>\n",
       "      <td>31.83</td>\n",
       "      <td>0</td>\n",
       "      <td>1</td>\n",
       "      <td>1</td>\n",
       "      <td>1.0</td>\n",
       "      <td>...</td>\n",
       "      <td>1.0</td>\n",
       "      <td>31.83</td>\n",
       "      <td>1.0</td>\n",
       "      <td>31.83</td>\n",
       "      <td>0.0</td>\n",
       "      <td>0.0</td>\n",
       "      <td>0.0</td>\n",
       "      <td>0.0</td>\n",
       "      <td>0.0</td>\n",
       "      <td>0.0</td>\n",
       "    </tr>\n",
       "    <tr>\n",
       "      <th>1</th>\n",
       "      <td>1</td>\n",
       "      <td>1</td>\n",
       "      <td>2022-01-01 00:00:31</td>\n",
       "      <td>596</td>\n",
       "      <td>6532</td>\n",
       "      <td>57.16</td>\n",
       "      <td>0</td>\n",
       "      <td>1</td>\n",
       "      <td>1</td>\n",
       "      <td>1.0</td>\n",
       "      <td>...</td>\n",
       "      <td>1.0</td>\n",
       "      <td>57.16</td>\n",
       "      <td>1.0</td>\n",
       "      <td>57.16</td>\n",
       "      <td>0.0</td>\n",
       "      <td>0.0</td>\n",
       "      <td>0.0</td>\n",
       "      <td>0.0</td>\n",
       "      <td>0.0</td>\n",
       "      <td>0.0</td>\n",
       "    </tr>\n",
       "    <tr>\n",
       "      <th>2</th>\n",
       "      <td>2</td>\n",
       "      <td>2</td>\n",
       "      <td>2022-01-01 00:01:05</td>\n",
       "      <td>9339</td>\n",
       "      <td>10651</td>\n",
       "      <td>28.92</td>\n",
       "      <td>0</td>\n",
       "      <td>1</td>\n",
       "      <td>1</td>\n",
       "      <td>1.0</td>\n",
       "      <td>...</td>\n",
       "      <td>1.0</td>\n",
       "      <td>28.92</td>\n",
       "      <td>1.0</td>\n",
       "      <td>28.92</td>\n",
       "      <td>0.0</td>\n",
       "      <td>0.0</td>\n",
       "      <td>0.0</td>\n",
       "      <td>0.0</td>\n",
       "      <td>0.0</td>\n",
       "      <td>0.0</td>\n",
       "    </tr>\n",
       "    <tr>\n",
       "      <th>3</th>\n",
       "      <td>3</td>\n",
       "      <td>3</td>\n",
       "      <td>2022-01-01 00:02:10</td>\n",
       "      <td>4961</td>\n",
       "      <td>8673</td>\n",
       "      <td>81.51</td>\n",
       "      <td>0</td>\n",
       "      <td>1</td>\n",
       "      <td>1</td>\n",
       "      <td>1.0</td>\n",
       "      <td>...</td>\n",
       "      <td>1.0</td>\n",
       "      <td>81.51</td>\n",
       "      <td>1.0</td>\n",
       "      <td>81.51</td>\n",
       "      <td>0.0</td>\n",
       "      <td>0.0</td>\n",
       "      <td>0.0</td>\n",
       "      <td>0.0</td>\n",
       "      <td>0.0</td>\n",
       "      <td>0.0</td>\n",
       "    </tr>\n",
       "    <tr>\n",
       "      <th>4</th>\n",
       "      <td>4</td>\n",
       "      <td>4</td>\n",
       "      <td>2022-01-01 00:02:21</td>\n",
       "      <td>6170</td>\n",
       "      <td>4884</td>\n",
       "      <td>25.17</td>\n",
       "      <td>0</td>\n",
       "      <td>1</td>\n",
       "      <td>1</td>\n",
       "      <td>1.0</td>\n",
       "      <td>...</td>\n",
       "      <td>1.0</td>\n",
       "      <td>25.17</td>\n",
       "      <td>1.0</td>\n",
       "      <td>25.17</td>\n",
       "      <td>0.0</td>\n",
       "      <td>0.0</td>\n",
       "      <td>0.0</td>\n",
       "      <td>0.0</td>\n",
       "      <td>0.0</td>\n",
       "      <td>0.0</td>\n",
       "    </tr>\n",
       "  </tbody>\n",
       "</table>\n",
       "<p>5 rows × 21 columns</p>\n",
       "</div>"
      ],
      "text/plain": [
       "   Unnamed: 0  TRANSACTION_ID          TX_DATETIME  CUSTOMER_ID  TERMINAL_ID  \\\n",
       "0           0               0  2022-01-01 00:00:17         6160         6202   \n",
       "1           1               1  2022-01-01 00:00:31          596         6532   \n",
       "2           2               2  2022-01-01 00:01:05         9339        10651   \n",
       "3           3               3  2022-01-01 00:02:10         4961         8673   \n",
       "4           4               4  2022-01-01 00:02:21         6170         4884   \n",
       "\n",
       "   TX_AMOUNT  TX_FRAUD  TX_DURING_WEEKEND  TX_DURING_NIGHT  \\\n",
       "0      31.83         0                  1                1   \n",
       "1      57.16         0                  1                1   \n",
       "2      28.92         0                  1                1   \n",
       "3      81.51         0                  1                1   \n",
       "4      25.17         0                  1                1   \n",
       "\n",
       "   CUSTOMER_ID_NB_TX_1DAY_WINDOW  ...  CUSTOMER_ID_NB_TX_7DAY_WINDOW  \\\n",
       "0                            1.0  ...                            1.0   \n",
       "1                            1.0  ...                            1.0   \n",
       "2                            1.0  ...                            1.0   \n",
       "3                            1.0  ...                            1.0   \n",
       "4                            1.0  ...                            1.0   \n",
       "\n",
       "   CUSTOMER_ID_AVG_AMOUNT_7DAY_WINDOW  CUSTOMER_ID_NB_TX_30DAY_WINDOW  \\\n",
       "0                               31.83                             1.0   \n",
       "1                               57.16                             1.0   \n",
       "2                               28.92                             1.0   \n",
       "3                               81.51                             1.0   \n",
       "4                               25.17                             1.0   \n",
       "\n",
       "   CUSTOMER_ID_AVG_AMOUNT_30DAY_WINDOW  TERMINAL_ID_NB_TX_1DAY_WINDOW  \\\n",
       "0                                31.83                            0.0   \n",
       "1                                57.16                            0.0   \n",
       "2                                28.92                            0.0   \n",
       "3                                81.51                            0.0   \n",
       "4                                25.17                            0.0   \n",
       "\n",
       "   TERMINAL_ID_RISK_1DAY_WINDOW  TERMINAL_ID_NB_TX_7DAY_WINDOW  \\\n",
       "0                           0.0                            0.0   \n",
       "1                           0.0                            0.0   \n",
       "2                           0.0                            0.0   \n",
       "3                           0.0                            0.0   \n",
       "4                           0.0                            0.0   \n",
       "\n",
       "   TERMINAL_ID_RISK_7DAY_WINDOW  TERMINAL_ID_NB_TX_30DAY_WINDOW  \\\n",
       "0                           0.0                             0.0   \n",
       "1                           0.0                             0.0   \n",
       "2                           0.0                             0.0   \n",
       "3                           0.0                             0.0   \n",
       "4                           0.0                             0.0   \n",
       "\n",
       "   TERMINAL_ID_RISK_30DAY_WINDOW  \n",
       "0                            0.0  \n",
       "1                            0.0  \n",
       "2                            0.0  \n",
       "3                            0.0  \n",
       "4                            0.0  \n",
       "\n",
       "[5 rows x 21 columns]"
      ]
     },
     "execution_count": 3,
     "metadata": {},
     "output_type": "execute_result"
    }
   ],
   "source": [
    "df.head()"
   ]
  },
  {
   "cell_type": "code",
   "execution_count": 4,
   "id": "6a4b887a",
   "metadata": {},
   "outputs": [
    {
     "data": {
      "text/html": [
       "<div>\n",
       "<style scoped>\n",
       "    .dataframe tbody tr th:only-of-type {\n",
       "        vertical-align: middle;\n",
       "    }\n",
       "\n",
       "    .dataframe tbody tr th {\n",
       "        vertical-align: top;\n",
       "    }\n",
       "\n",
       "    .dataframe thead th {\n",
       "        text-align: right;\n",
       "    }\n",
       "</style>\n",
       "<table border=\"1\" class=\"dataframe\">\n",
       "  <thead>\n",
       "    <tr style=\"text-align: right;\">\n",
       "      <th></th>\n",
       "      <th>TRANSACTION_ID</th>\n",
       "      <th>TX_AMOUNT</th>\n",
       "      <th>TX_FRAUD</th>\n",
       "      <th>TX_DURING_WEEKEND</th>\n",
       "      <th>TX_DURING_NIGHT</th>\n",
       "      <th>CUSTOMER_ID_NB_TX_1DAY_WINDOW</th>\n",
       "      <th>CUSTOMER_ID_AVG_AMOUNT_1DAY_WINDOW</th>\n",
       "      <th>CUSTOMER_ID_NB_TX_7DAY_WINDOW</th>\n",
       "      <th>CUSTOMER_ID_AVG_AMOUNT_7DAY_WINDOW</th>\n",
       "      <th>CUSTOMER_ID_NB_TX_30DAY_WINDOW</th>\n",
       "      <th>CUSTOMER_ID_AVG_AMOUNT_30DAY_WINDOW</th>\n",
       "      <th>TERMINAL_ID_NB_TX_1DAY_WINDOW</th>\n",
       "      <th>TERMINAL_ID_RISK_1DAY_WINDOW</th>\n",
       "      <th>TERMINAL_ID_NB_TX_7DAY_WINDOW</th>\n",
       "      <th>TERMINAL_ID_RISK_7DAY_WINDOW</th>\n",
       "      <th>TERMINAL_ID_NB_TX_30DAY_WINDOW</th>\n",
       "      <th>TERMINAL_ID_RISK_30DAY_WINDOW</th>\n",
       "    </tr>\n",
       "  </thead>\n",
       "  <tbody>\n",
       "    <tr>\n",
       "      <th>0</th>\n",
       "      <td>0</td>\n",
       "      <td>31.83</td>\n",
       "      <td>0</td>\n",
       "      <td>1</td>\n",
       "      <td>1</td>\n",
       "      <td>1.0</td>\n",
       "      <td>31.83</td>\n",
       "      <td>1.0</td>\n",
       "      <td>31.83</td>\n",
       "      <td>1.0</td>\n",
       "      <td>31.83</td>\n",
       "      <td>0.0</td>\n",
       "      <td>0.0</td>\n",
       "      <td>0.0</td>\n",
       "      <td>0.0</td>\n",
       "      <td>0.0</td>\n",
       "      <td>0.0</td>\n",
       "    </tr>\n",
       "    <tr>\n",
       "      <th>1</th>\n",
       "      <td>1</td>\n",
       "      <td>57.16</td>\n",
       "      <td>0</td>\n",
       "      <td>1</td>\n",
       "      <td>1</td>\n",
       "      <td>1.0</td>\n",
       "      <td>57.16</td>\n",
       "      <td>1.0</td>\n",
       "      <td>57.16</td>\n",
       "      <td>1.0</td>\n",
       "      <td>57.16</td>\n",
       "      <td>0.0</td>\n",
       "      <td>0.0</td>\n",
       "      <td>0.0</td>\n",
       "      <td>0.0</td>\n",
       "      <td>0.0</td>\n",
       "      <td>0.0</td>\n",
       "    </tr>\n",
       "    <tr>\n",
       "      <th>2</th>\n",
       "      <td>2</td>\n",
       "      <td>28.92</td>\n",
       "      <td>0</td>\n",
       "      <td>1</td>\n",
       "      <td>1</td>\n",
       "      <td>1.0</td>\n",
       "      <td>28.92</td>\n",
       "      <td>1.0</td>\n",
       "      <td>28.92</td>\n",
       "      <td>1.0</td>\n",
       "      <td>28.92</td>\n",
       "      <td>0.0</td>\n",
       "      <td>0.0</td>\n",
       "      <td>0.0</td>\n",
       "      <td>0.0</td>\n",
       "      <td>0.0</td>\n",
       "      <td>0.0</td>\n",
       "    </tr>\n",
       "    <tr>\n",
       "      <th>3</th>\n",
       "      <td>3</td>\n",
       "      <td>81.51</td>\n",
       "      <td>0</td>\n",
       "      <td>1</td>\n",
       "      <td>1</td>\n",
       "      <td>1.0</td>\n",
       "      <td>81.51</td>\n",
       "      <td>1.0</td>\n",
       "      <td>81.51</td>\n",
       "      <td>1.0</td>\n",
       "      <td>81.51</td>\n",
       "      <td>0.0</td>\n",
       "      <td>0.0</td>\n",
       "      <td>0.0</td>\n",
       "      <td>0.0</td>\n",
       "      <td>0.0</td>\n",
       "      <td>0.0</td>\n",
       "    </tr>\n",
       "    <tr>\n",
       "      <th>4</th>\n",
       "      <td>4</td>\n",
       "      <td>25.17</td>\n",
       "      <td>0</td>\n",
       "      <td>1</td>\n",
       "      <td>1</td>\n",
       "      <td>1.0</td>\n",
       "      <td>25.17</td>\n",
       "      <td>1.0</td>\n",
       "      <td>25.17</td>\n",
       "      <td>1.0</td>\n",
       "      <td>25.17</td>\n",
       "      <td>0.0</td>\n",
       "      <td>0.0</td>\n",
       "      <td>0.0</td>\n",
       "      <td>0.0</td>\n",
       "      <td>0.0</td>\n",
       "      <td>0.0</td>\n",
       "    </tr>\n",
       "  </tbody>\n",
       "</table>\n",
       "</div>"
      ],
      "text/plain": [
       "   TRANSACTION_ID  TX_AMOUNT  TX_FRAUD  TX_DURING_WEEKEND  TX_DURING_NIGHT  \\\n",
       "0               0      31.83         0                  1                1   \n",
       "1               1      57.16         0                  1                1   \n",
       "2               2      28.92         0                  1                1   \n",
       "3               3      81.51         0                  1                1   \n",
       "4               4      25.17         0                  1                1   \n",
       "\n",
       "   CUSTOMER_ID_NB_TX_1DAY_WINDOW  CUSTOMER_ID_AVG_AMOUNT_1DAY_WINDOW  \\\n",
       "0                            1.0                               31.83   \n",
       "1                            1.0                               57.16   \n",
       "2                            1.0                               28.92   \n",
       "3                            1.0                               81.51   \n",
       "4                            1.0                               25.17   \n",
       "\n",
       "   CUSTOMER_ID_NB_TX_7DAY_WINDOW  CUSTOMER_ID_AVG_AMOUNT_7DAY_WINDOW  \\\n",
       "0                            1.0                               31.83   \n",
       "1                            1.0                               57.16   \n",
       "2                            1.0                               28.92   \n",
       "3                            1.0                               81.51   \n",
       "4                            1.0                               25.17   \n",
       "\n",
       "   CUSTOMER_ID_NB_TX_30DAY_WINDOW  CUSTOMER_ID_AVG_AMOUNT_30DAY_WINDOW  \\\n",
       "0                             1.0                                31.83   \n",
       "1                             1.0                                57.16   \n",
       "2                             1.0                                28.92   \n",
       "3                             1.0                                81.51   \n",
       "4                             1.0                                25.17   \n",
       "\n",
       "   TERMINAL_ID_NB_TX_1DAY_WINDOW  TERMINAL_ID_RISK_1DAY_WINDOW  \\\n",
       "0                            0.0                           0.0   \n",
       "1                            0.0                           0.0   \n",
       "2                            0.0                           0.0   \n",
       "3                            0.0                           0.0   \n",
       "4                            0.0                           0.0   \n",
       "\n",
       "   TERMINAL_ID_NB_TX_7DAY_WINDOW  TERMINAL_ID_RISK_7DAY_WINDOW  \\\n",
       "0                            0.0                           0.0   \n",
       "1                            0.0                           0.0   \n",
       "2                            0.0                           0.0   \n",
       "3                            0.0                           0.0   \n",
       "4                            0.0                           0.0   \n",
       "\n",
       "   TERMINAL_ID_NB_TX_30DAY_WINDOW  TERMINAL_ID_RISK_30DAY_WINDOW  \n",
       "0                             0.0                            0.0  \n",
       "1                             0.0                            0.0  \n",
       "2                             0.0                            0.0  \n",
       "3                             0.0                            0.0  \n",
       "4                             0.0                            0.0  "
      ]
     },
     "execution_count": 4,
     "metadata": {},
     "output_type": "execute_result"
    }
   ],
   "source": [
    "df.drop(['Unnamed: 0', 'TX_DATETIME', 'CUSTOMER_ID', 'TERMINAL_ID'], axis = 1, inplace = True)\n",
    "df.head()"
   ]
  },
  {
   "cell_type": "code",
   "execution_count": 5,
   "id": "d5a4d64e",
   "metadata": {},
   "outputs": [
    {
     "data": {
      "text/plain": [
       "Index(['TRANSACTION_ID', 'TX_AMOUNT', 'TX_FRAUD', 'TX_DURING_WEEKEND',\n",
       "       'TX_DURING_NIGHT', 'CUSTOMER_ID_NB_TX_1DAY_WINDOW',\n",
       "       'CUSTOMER_ID_AVG_AMOUNT_1DAY_WINDOW', 'CUSTOMER_ID_NB_TX_7DAY_WINDOW',\n",
       "       'CUSTOMER_ID_AVG_AMOUNT_7DAY_WINDOW', 'CUSTOMER_ID_NB_TX_30DAY_WINDOW',\n",
       "       'CUSTOMER_ID_AVG_AMOUNT_30DAY_WINDOW', 'TERMINAL_ID_NB_TX_1DAY_WINDOW',\n",
       "       'TERMINAL_ID_RISK_1DAY_WINDOW', 'TERMINAL_ID_NB_TX_7DAY_WINDOW',\n",
       "       'TERMINAL_ID_RISK_7DAY_WINDOW', 'TERMINAL_ID_NB_TX_30DAY_WINDOW',\n",
       "       'TERMINAL_ID_RISK_30DAY_WINDOW'],\n",
       "      dtype='object')"
      ]
     },
     "execution_count": 5,
     "metadata": {},
     "output_type": "execute_result"
    }
   ],
   "source": [
    "df.columns"
   ]
  },
  {
   "cell_type": "code",
   "execution_count": 6,
   "id": "aa35ab1d",
   "metadata": {},
   "outputs": [
    {
     "data": {
      "text/plain": [
       "0    2915051\n",
       "1      13103\n",
       "Name: TX_FRAUD, dtype: int64"
      ]
     },
     "execution_count": 6,
     "metadata": {},
     "output_type": "execute_result"
    }
   ],
   "source": [
    "df['TX_FRAUD'].value_counts()"
   ]
  },
  {
   "cell_type": "markdown",
   "id": "94d2bc3f",
   "metadata": {},
   "source": [
    "### Dealing with Data Imbalance"
   ]
  },
  {
   "cell_type": "code",
   "execution_count": 7,
   "id": "70059a13",
   "metadata": {},
   "outputs": [
    {
     "data": {
      "text/plain": [
       "0    2915051\n",
       "1      13103\n",
       "Name: TX_FRAUD, dtype: int64"
      ]
     },
     "execution_count": 7,
     "metadata": {},
     "output_type": "execute_result"
    }
   ],
   "source": [
    "df['TX_FRAUD'].value_counts()"
   ]
  },
  {
   "cell_type": "code",
   "execution_count": 8,
   "id": "6826e5ab",
   "metadata": {},
   "outputs": [
    {
     "data": {
      "image/png": "[encoded data removed]",
      "text/plain": [
       "<Figure size 700x400 with 1 Axes>"
      ]
     },
     "metadata": {},
     "output_type": "display_data"
    }
   ],
   "source": [
    "ax = df[\"TX_FRAUD\"].value_counts().sort_values().plot(kind = 'barh', figsize=(7,4))\n",
    "plt.title(\"TX_FRAUD\", fontdict={'size': 10})\n",
    "for p in ax.patches:\n",
    "    percentage ='{:,.1f}%'.format((p.get_width()/df.shape[0])*100)\n",
    "    width, height =p.get_width(),p.get_height()\n",
    "    x=p.get_x()+width+0.02\n",
    "    y=p.get_y()+height/2\n",
    "    ax.annotate(percentage,(x,y))"
   ]
  },
  {
   "cell_type": "markdown",
   "id": "b512ddeb",
   "metadata": {},
   "source": [
    "### Oversampling"
   ]
  },
  {
   "cell_type": "code",
   "execution_count": 9,
   "id": "1ed82bb2",
   "metadata": {},
   "outputs": [],
   "source": [
    "# Resampling the minority class. The strategy can be changed as required.\n",
    "sm = SMOTE(sampling_strategy=0.5, random_state=0)"
   ]
  },
  {
   "cell_type": "code",
   "execution_count": 10,
   "id": "6bf09ed1",
   "metadata": {},
   "outputs": [],
   "source": [
    "# Fit the model to generate the data.\n",
    "oversampled_X, oversampled_Y = sm.fit_resample(df.drop('TX_FRAUD', axis=1), df['TX_FRAUD'])\n",
    "\n",
    "df_over = pd.concat([pd.DataFrame(oversampled_Y), pd.DataFrame(oversampled_X)], axis=1)"
   ]
  },
  {
   "cell_type": "markdown",
   "id": "217e79da",
   "metadata": {},
   "source": [
    "### Undersampling"
   ]
  },
  {
   "cell_type": "code",
   "execution_count": 11,
   "id": "2b50826e",
   "metadata": {},
   "outputs": [],
   "source": [
    "sm = RandomUnderSampler(sampling_strategy=1.0,random_state=0)"
   ]
  },
  {
   "cell_type": "code",
   "execution_count": 12,
   "id": "dddbd076",
   "metadata": {},
   "outputs": [],
   "source": [
    "# Fit the model to generate the data.\n",
    "undersampled_X, undersampled_Y = sm.fit_resample(df_over.drop('TX_FRAUD', axis=1), df_over['TX_FRAUD'])\n",
    "\n",
    "df_under = pd.concat([pd.DataFrame(undersampled_Y), pd.DataFrame(undersampled_X)], axis=1)"
   ]
  },
  {
   "cell_type": "code",
   "execution_count": 13,
   "id": "1cb31ffd",
   "metadata": {},
   "outputs": [
    {
     "data": {
      "text/plain": [
       "0    1457525\n",
       "1    1457525\n",
       "Name: TX_FRAUD, dtype: int64"
      ]
     },
     "execution_count": 13,
     "metadata": {},
     "output_type": "execute_result"
    }
   ],
   "source": [
    "df_under['TX_FRAUD'].value_counts()"
   ]
  },
  {
   "cell_type": "code",
   "execution_count": 14,
   "id": "e3c9f720",
   "metadata": {},
   "outputs": [
    {
     "data": {
      "image/png": "[encoded data removed]",
      "text/plain": [
       "<Figure size 800x500 with 1 Axes>"
      ]
     },
     "metadata": {},
     "output_type": "display_data"
    }
   ],
   "source": [
    "ax = df_under[\"TX_FRAUD\"].value_counts().sort_values().plot(kind = 'barh', figsize=(8,5))\n",
    "plt.title(\"Target\", fontdict={'size': 10})\n",
    "for p in ax.patches:\n",
    "    percentage ='{:,.1f}%'.format((p.get_width()/df_under.shape[0])*100)\n",
    "    width, height =p.get_width(),p.get_height()\n",
    "    x=p.get_x()+width+0.02\n",
    "    y=p.get_y()+height/2\n",
    "    ax.annotate(percentage,(x,y))"
   ]
  },
  {
   "cell_type": "code",
   "execution_count": 15,
   "id": "54f2401b",
   "metadata": {},
   "outputs": [
    {
     "data": {
      "text/plain": [
       "(2915050, 17)"
      ]
     },
     "execution_count": 15,
     "metadata": {},
     "output_type": "execute_result"
    }
   ],
   "source": [
    "df_under.shape"
   ]
  },
  {
   "cell_type": "code",
   "execution_count": 16,
   "id": "0a218b67",
   "metadata": {},
   "outputs": [
    {
     "data": {
      "text/html": [
       "<div>\n",
       "<style scoped>\n",
       "    .dataframe tbody tr th:only-of-type {\n",
       "        vertical-align: middle;\n",
       "    }\n",
       "\n",
       "    .dataframe tbody tr th {\n",
       "        vertical-align: top;\n",
       "    }\n",
       "\n",
       "    .dataframe thead th {\n",
       "        text-align: right;\n",
       "    }\n",
       "</style>\n",
       "<table border=\"1\" class=\"dataframe\">\n",
       "  <thead>\n",
       "    <tr style=\"text-align: right;\">\n",
       "      <th></th>\n",
       "      <th>TX_FRAUD</th>\n",
       "      <th>TRANSACTION_ID</th>\n",
       "      <th>TX_AMOUNT</th>\n",
       "      <th>TX_DURING_WEEKEND</th>\n",
       "      <th>TX_DURING_NIGHT</th>\n",
       "      <th>CUSTOMER_ID_NB_TX_1DAY_WINDOW</th>\n",
       "      <th>CUSTOMER_ID_AVG_AMOUNT_1DAY_WINDOW</th>\n",
       "      <th>CUSTOMER_ID_NB_TX_7DAY_WINDOW</th>\n",
       "      <th>CUSTOMER_ID_AVG_AMOUNT_7DAY_WINDOW</th>\n",
       "      <th>CUSTOMER_ID_NB_TX_30DAY_WINDOW</th>\n",
       "      <th>CUSTOMER_ID_AVG_AMOUNT_30DAY_WINDOW</th>\n",
       "      <th>TERMINAL_ID_NB_TX_1DAY_WINDOW</th>\n",
       "      <th>TERMINAL_ID_RISK_1DAY_WINDOW</th>\n",
       "      <th>TERMINAL_ID_NB_TX_7DAY_WINDOW</th>\n",
       "      <th>TERMINAL_ID_RISK_7DAY_WINDOW</th>\n",
       "      <th>TERMINAL_ID_NB_TX_30DAY_WINDOW</th>\n",
       "      <th>TERMINAL_ID_RISK_30DAY_WINDOW</th>\n",
       "    </tr>\n",
       "  </thead>\n",
       "  <tbody>\n",
       "    <tr>\n",
       "      <th>0</th>\n",
       "      <td>0</td>\n",
       "      <td>12687</td>\n",
       "      <td>59.00</td>\n",
       "      <td>1</td>\n",
       "      <td>0</td>\n",
       "      <td>2.0</td>\n",
       "      <td>48.035000</td>\n",
       "      <td>2.0</td>\n",
       "      <td>48.035000</td>\n",
       "      <td>2.0</td>\n",
       "      <td>48.035000</td>\n",
       "      <td>0.0</td>\n",
       "      <td>0.0</td>\n",
       "      <td>0.0</td>\n",
       "      <td>0.0</td>\n",
       "      <td>0.0</td>\n",
       "      <td>0.00</td>\n",
       "    </tr>\n",
       "    <tr>\n",
       "      <th>1</th>\n",
       "      <td>0</td>\n",
       "      <td>1562171</td>\n",
       "      <td>27.51</td>\n",
       "      <td>0</td>\n",
       "      <td>0</td>\n",
       "      <td>3.0</td>\n",
       "      <td>21.486667</td>\n",
       "      <td>28.0</td>\n",
       "      <td>27.206429</td>\n",
       "      <td>110.0</td>\n",
       "      <td>26.447091</td>\n",
       "      <td>0.0</td>\n",
       "      <td>0.0</td>\n",
       "      <td>5.0</td>\n",
       "      <td>0.0</td>\n",
       "      <td>30.0</td>\n",
       "      <td>0.00</td>\n",
       "    </tr>\n",
       "    <tr>\n",
       "      <th>2</th>\n",
       "      <td>0</td>\n",
       "      <td>2718178</td>\n",
       "      <td>21.46</td>\n",
       "      <td>1</td>\n",
       "      <td>1</td>\n",
       "      <td>1.0</td>\n",
       "      <td>21.460000</td>\n",
       "      <td>11.0</td>\n",
       "      <td>25.707273</td>\n",
       "      <td>47.0</td>\n",
       "      <td>33.448511</td>\n",
       "      <td>1.0</td>\n",
       "      <td>0.0</td>\n",
       "      <td>5.0</td>\n",
       "      <td>0.0</td>\n",
       "      <td>33.0</td>\n",
       "      <td>0.00</td>\n",
       "    </tr>\n",
       "    <tr>\n",
       "      <th>3</th>\n",
       "      <td>0</td>\n",
       "      <td>2853776</td>\n",
       "      <td>70.21</td>\n",
       "      <td>1</td>\n",
       "      <td>1</td>\n",
       "      <td>2.0</td>\n",
       "      <td>95.570000</td>\n",
       "      <td>17.0</td>\n",
       "      <td>90.821176</td>\n",
       "      <td>85.0</td>\n",
       "      <td>92.708000</td>\n",
       "      <td>2.0</td>\n",
       "      <td>0.0</td>\n",
       "      <td>13.0</td>\n",
       "      <td>0.0</td>\n",
       "      <td>35.0</td>\n",
       "      <td>0.00</td>\n",
       "    </tr>\n",
       "    <tr>\n",
       "      <th>4</th>\n",
       "      <td>0</td>\n",
       "      <td>1881375</td>\n",
       "      <td>135.84</td>\n",
       "      <td>0</td>\n",
       "      <td>0</td>\n",
       "      <td>3.0</td>\n",
       "      <td>107.303333</td>\n",
       "      <td>19.0</td>\n",
       "      <td>90.104211</td>\n",
       "      <td>70.0</td>\n",
       "      <td>92.531000</td>\n",
       "      <td>1.0</td>\n",
       "      <td>0.0</td>\n",
       "      <td>6.0</td>\n",
       "      <td>0.0</td>\n",
       "      <td>32.0</td>\n",
       "      <td>0.00</td>\n",
       "    </tr>\n",
       "    <tr>\n",
       "      <th>5</th>\n",
       "      <td>0</td>\n",
       "      <td>1586982</td>\n",
       "      <td>48.75</td>\n",
       "      <td>0</td>\n",
       "      <td>0</td>\n",
       "      <td>2.0</td>\n",
       "      <td>45.430000</td>\n",
       "      <td>6.0</td>\n",
       "      <td>52.931667</td>\n",
       "      <td>27.0</td>\n",
       "      <td>61.332222</td>\n",
       "      <td>1.0</td>\n",
       "      <td>0.0</td>\n",
       "      <td>5.0</td>\n",
       "      <td>0.0</td>\n",
       "      <td>29.0</td>\n",
       "      <td>0.00</td>\n",
       "    </tr>\n",
       "    <tr>\n",
       "      <th>6</th>\n",
       "      <td>0</td>\n",
       "      <td>1458756</td>\n",
       "      <td>30.16</td>\n",
       "      <td>0</td>\n",
       "      <td>1</td>\n",
       "      <td>4.0</td>\n",
       "      <td>60.500000</td>\n",
       "      <td>23.0</td>\n",
       "      <td>68.208696</td>\n",
       "      <td>94.0</td>\n",
       "      <td>62.980213</td>\n",
       "      <td>0.0</td>\n",
       "      <td>0.0</td>\n",
       "      <td>4.0</td>\n",
       "      <td>0.0</td>\n",
       "      <td>20.0</td>\n",
       "      <td>0.05</td>\n",
       "    </tr>\n",
       "    <tr>\n",
       "      <th>7</th>\n",
       "      <td>0</td>\n",
       "      <td>1169431</td>\n",
       "      <td>63.07</td>\n",
       "      <td>0</td>\n",
       "      <td>0</td>\n",
       "      <td>4.0</td>\n",
       "      <td>64.627500</td>\n",
       "      <td>19.0</td>\n",
       "      <td>73.994737</td>\n",
       "      <td>83.0</td>\n",
       "      <td>80.362771</td>\n",
       "      <td>1.0</td>\n",
       "      <td>0.0</td>\n",
       "      <td>6.0</td>\n",
       "      <td>0.0</td>\n",
       "      <td>26.0</td>\n",
       "      <td>0.00</td>\n",
       "    </tr>\n",
       "    <tr>\n",
       "      <th>8</th>\n",
       "      <td>0</td>\n",
       "      <td>1131854</td>\n",
       "      <td>41.26</td>\n",
       "      <td>0</td>\n",
       "      <td>0</td>\n",
       "      <td>2.0</td>\n",
       "      <td>58.530000</td>\n",
       "      <td>15.0</td>\n",
       "      <td>86.106667</td>\n",
       "      <td>54.0</td>\n",
       "      <td>72.983333</td>\n",
       "      <td>0.0</td>\n",
       "      <td>0.0</td>\n",
       "      <td>4.0</td>\n",
       "      <td>0.0</td>\n",
       "      <td>33.0</td>\n",
       "      <td>0.00</td>\n",
       "    </tr>\n",
       "    <tr>\n",
       "      <th>9</th>\n",
       "      <td>0</td>\n",
       "      <td>2831280</td>\n",
       "      <td>20.67</td>\n",
       "      <td>0</td>\n",
       "      <td>0</td>\n",
       "      <td>4.0</td>\n",
       "      <td>23.032500</td>\n",
       "      <td>16.0</td>\n",
       "      <td>24.565625</td>\n",
       "      <td>58.0</td>\n",
       "      <td>24.395172</td>\n",
       "      <td>2.0</td>\n",
       "      <td>0.0</td>\n",
       "      <td>12.0</td>\n",
       "      <td>0.0</td>\n",
       "      <td>31.0</td>\n",
       "      <td>0.00</td>\n",
       "    </tr>\n",
       "  </tbody>\n",
       "</table>\n",
       "</div>"
      ],
      "text/plain": [
       "   TX_FRAUD  TRANSACTION_ID  TX_AMOUNT  TX_DURING_WEEKEND  TX_DURING_NIGHT  \\\n",
       "0         0           12687      59.00                  1                0   \n",
       "1         0         1562171      27.51                  0                0   \n",
       "2         0         2718178      21.46                  1                1   \n",
       "3         0         2853776      70.21                  1                1   \n",
       "4         0         1881375     135.84                  0                0   \n",
       "5         0         1586982      48.75                  0                0   \n",
       "6         0         1458756      30.16                  0                1   \n",
       "7         0         1169431      63.07                  0                0   \n",
       "8         0         1131854      41.26                  0                0   \n",
       "9         0         2831280      20.67                  0                0   \n",
       "\n",
       "   CUSTOMER_ID_NB_TX_1DAY_WINDOW  CUSTOMER_ID_AVG_AMOUNT_1DAY_WINDOW  \\\n",
       "0                            2.0                           48.035000   \n",
       "1                            3.0                           21.486667   \n",
       "2                            1.0                           21.460000   \n",
       "3                            2.0                           95.570000   \n",
       "4                            3.0                          107.303333   \n",
       "5                            2.0                           45.430000   \n",
       "6                            4.0                           60.500000   \n",
       "7                            4.0                           64.627500   \n",
       "8                            2.0                           58.530000   \n",
       "9                            4.0                           23.032500   \n",
       "\n",
       "   CUSTOMER_ID_NB_TX_7DAY_WINDOW  CUSTOMER_ID_AVG_AMOUNT_7DAY_WINDOW  \\\n",
       "0                            2.0                           48.035000   \n",
       "1                           28.0                           27.206429   \n",
       "2                           11.0                           25.707273   \n",
       "3                           17.0                           90.821176   \n",
       "4                           19.0                           90.104211   \n",
       "5                            6.0                           52.931667   \n",
       "6                           23.0                           68.208696   \n",
       "7                           19.0                           73.994737   \n",
       "8                           15.0                           86.106667   \n",
       "9                           16.0                           24.565625   \n",
       "\n",
       "   CUSTOMER_ID_NB_TX_30DAY_WINDOW  CUSTOMER_ID_AVG_AMOUNT_30DAY_WINDOW  \\\n",
       "0                             2.0                            48.035000   \n",
       "1                           110.0                            26.447091   \n",
       "2                            47.0                            33.448511   \n",
       "3                            85.0                            92.708000   \n",
       "4                            70.0                            92.531000   \n",
       "5                            27.0                            61.332222   \n",
       "6                            94.0                            62.980213   \n",
       "7                            83.0                            80.362771   \n",
       "8                            54.0                            72.983333   \n",
       "9                            58.0                            24.395172   \n",
       "\n",
       "   TERMINAL_ID_NB_TX_1DAY_WINDOW  TERMINAL_ID_RISK_1DAY_WINDOW  \\\n",
       "0                            0.0                           0.0   \n",
       "1                            0.0                           0.0   \n",
       "2                            1.0                           0.0   \n",
       "3                            2.0                           0.0   \n",
       "4                            1.0                           0.0   \n",
       "5                            1.0                           0.0   \n",
       "6                            0.0                           0.0   \n",
       "7                            1.0                           0.0   \n",
       "8                            0.0                           0.0   \n",
       "9                            2.0                           0.0   \n",
       "\n",
       "   TERMINAL_ID_NB_TX_7DAY_WINDOW  TERMINAL_ID_RISK_7DAY_WINDOW  \\\n",
       "0                            0.0                           0.0   \n",
       "1                            5.0                           0.0   \n",
       "2                            5.0                           0.0   \n",
       "3                           13.0                           0.0   \n",
       "4                            6.0                           0.0   \n",
       "5                            5.0                           0.0   \n",
       "6                            4.0                           0.0   \n",
       "7                            6.0                           0.0   \n",
       "8                            4.0                           0.0   \n",
       "9                           12.0                           0.0   \n",
       "\n",
       "   TERMINAL_ID_NB_TX_30DAY_WINDOW  TERMINAL_ID_RISK_30DAY_WINDOW  \n",
       "0                             0.0                           0.00  \n",
       "1                            30.0                           0.00  \n",
       "2                            33.0                           0.00  \n",
       "3                            35.0                           0.00  \n",
       "4                            32.0                           0.00  \n",
       "5                            29.0                           0.00  \n",
       "6                            20.0                           0.05  \n",
       "7                            26.0                           0.00  \n",
       "8                            33.0                           0.00  \n",
       "9                            31.0                           0.00  "
      ]
     },
     "execution_count": 16,
     "metadata": {},
     "output_type": "execute_result"
    }
   ],
   "source": [
    "df_under.head(10)"
   ]
  },
  {
   "cell_type": "markdown",
   "id": "93ad2766",
   "metadata": {},
   "source": [
    "### Splitting The Dataset"
   ]
  },
  {
   "cell_type": "code",
   "execution_count": 17,
   "id": "fcfecf6f",
   "metadata": {},
   "outputs": [],
   "source": [
    "X = df_under.drop(['TX_FRAUD',\"TRANSACTION_ID\"], axis =1)\n",
    "y = df_under['TX_FRAUD']"
   ]
  },
  {
   "cell_type": "code",
   "execution_count": 18,
   "id": "516e2989",
   "metadata": {},
   "outputs": [],
   "source": [
    "X_train, X_test, y_train, y_test = train_test_split(X,y,test_size=0.25, random_state=12, stratify= y)"
   ]
  },
  {
   "cell_type": "code",
   "execution_count": 19,
   "id": "4413821c",
   "metadata": {},
   "outputs": [
    {
     "data": {
      "text/plain": [
       "(2186287, 15)"
      ]
     },
     "execution_count": 19,
     "metadata": {},
     "output_type": "execute_result"
    }
   ],
   "source": [
    "X_train.shape"
   ]
  },
  {
   "cell_type": "code",
   "execution_count": 20,
   "id": "9521d86d",
   "metadata": {},
   "outputs": [
    {
     "data": {
      "text/plain": [
       "(728763, 15)"
      ]
     },
     "execution_count": 20,
     "metadata": {},
     "output_type": "execute_result"
    }
   ],
   "source": [
    "X_test.shape"
   ]
  },
  {
   "cell_type": "markdown",
   "id": "30421715",
   "metadata": {},
   "source": [
    "### 1. Random Forest Model"
   ]
  },
  {
   "cell_type": "code",
   "execution_count": 21,
   "id": "c798a8f0",
   "metadata": {},
   "outputs": [],
   "source": [
    "## Importing Random Forest Classifier from the sklearn.ensemble\n",
    "from sklearn.ensemble import RandomForestClassifier"
   ]
  },
  {
   "cell_type": "code",
   "execution_count": null,
   "id": "ab13c001",
   "metadata": {},
   "outputs": [],
   "source": []
  },
  {
   "cell_type": "code",
   "execution_count": 22,
   "id": "8b8b7260",
   "metadata": {},
   "outputs": [
    {
     "name": "stdout",
     "output_type": "stream",
     "text": [
      "Wall time: 2min 16s\n"
     ]
    }
   ],
   "source": [
    "## Instantiating the model\n",
    "\n",
    "rf = RandomForestClassifier(n_estimators = 10,max_depth= 10 )\n",
    "\n",
    "## Training the model with the the train dataset\n",
    "model_rf = %time rf.fit(X_train, y_train)"
   ]
  },
  {
   "cell_type": "code",
   "execution_count": 23,
   "id": "c33d596f",
   "metadata": {},
   "outputs": [],
   "source": [
    "## Predicitng the the target variables of the test data \n",
    "Y_pred_rf = rf.predict(X_test)"
   ]
  },
  {
   "cell_type": "code",
   "execution_count": 24,
   "id": "c87e282d",
   "metadata": {},
   "outputs": [
    {
     "name": "stdout",
     "output_type": "stream",
     "text": [
      "Random Forest Model accuracy score: 95.4472\n"
     ]
    }
   ],
   "source": [
    "# Calculating and viewing the accuracy score for the decision tree model\n",
    "\n",
    "print('Random Forest Model accuracy score: {0:0.4f}'.format(accuracy_score(y_test, Y_pred_rf)*100))"
   ]
  },
  {
   "cell_type": "code",
   "execution_count": 25,
   "id": "95fd5615",
   "metadata": {},
   "outputs": [
    {
     "name": "stdout",
     "output_type": "stream",
     "text": [
      "Random Forest Model Precision score: 98.5460\n"
     ]
    }
   ],
   "source": [
    "# Calculating and viewing the precision score for the decision tree model\n",
    "\n",
    "precision_rf = precision_score(y_test, Y_pred_rf, pos_label=1)\n",
    "print('Random Forest Model Precision score: {0:0.4f}'.format(precision_rf*100))"
   ]
  },
  {
   "cell_type": "code",
   "execution_count": 26,
   "id": "b0023e1c",
   "metadata": {},
   "outputs": [
    {
     "name": "stdout",
     "output_type": "stream",
     "text": [
      "Random Forest Model Recall score: 92.2557\n"
     ]
    }
   ],
   "source": [
    "# Calculating and viewing the recall score for the decision tree model\n",
    "\n",
    "recall_rf = recall_score(y_test, Y_pred_rf, pos_label=1)\n",
    "print('Random Forest Model Recall score: {0:0.4f}'.format(recall_rf*100))"
   ]
  },
  {
   "cell_type": "code",
   "execution_count": 27,
   "id": "daa7b018",
   "metadata": {},
   "outputs": [
    {
     "name": "stdout",
     "output_type": "stream",
     "text": [
      "Random Forest Model F1_score: 95.2971\n"
     ]
    }
   ],
   "source": [
    "# Calculating and viewing the precision score for the decision tree model\n",
    "\n",
    "f1_score_rf = f1_score(y_test, Y_pred_rf, pos_label=1)\n",
    "print('Random Forest Model F1_score: {0:0.4f}'.format(f1_score_rf*100))"
   ]
  },
  {
   "cell_type": "code",
   "execution_count": 28,
   "id": "677bd4f2",
   "metadata": {},
   "outputs": [
    {
     "name": "stdout",
     "output_type": "stream",
     "text": [
      "Random Forest Model Top k Accuracy_score: 100.0000\n"
     ]
    }
   ],
   "source": [
    "top_k_rf = top_k_accuracy_score(y_test, Y_pred_rf)\n",
    "print('Random Forest Model Top k Accuracy_score: {0:0.4f}'.format(top_k_rf*100))"
   ]
  },
  {
   "cell_type": "code",
   "execution_count": 29,
   "id": "c6672f24",
   "metadata": {},
   "outputs": [
    {
     "name": "stdout",
     "output_type": "stream",
     "text": [
      "Random Forest Model Average Precision Score: 94.7864\n"
     ]
    }
   ],
   "source": [
    "ave_pre_rf = average_precision_score(y_test, Y_pred_rf)\n",
    "print('Random Forest Model Average Precision Score: {0:0.4f}'.format(ave_pre_rf*100))"
   ]
  },
  {
   "cell_type": "code",
   "execution_count": 30,
   "id": "1a2c516c",
   "metadata": {},
   "outputs": [
    {
     "name": "stdout",
     "output_type": "stream",
     "text": [
      "Confusion matrix\n",
      "\n",
      " [[359421   4960]\n",
      " [ 28219 336163]]\n",
      "\n",
      "True Positives(TP) =  336163\n",
      "\n",
      "True Negatives(TN) =  359421\n",
      "\n",
      "False Positives(FP) =  4960\n",
      "\n",
      "False Negatives(FN) =  28219\n"
     ]
    }
   ],
   "source": [
    "#Confusion-matrix\n",
    "# view confusion-matrix\n",
    "# Print the Confusion Matrix and slice it into four pieces\n",
    "\n",
    "from sklearn.metrics import confusion_matrix\n",
    "cm_rf = confusion_matrix(y_test, Y_pred_rf)\n",
    "print('Confusion matrix\\n\\n', cm_rf)\n",
    "print('\\nTrue Positives(TP) = ', cm_rf[1,1])\n",
    "print('\\nTrue Negatives(TN) = ', cm_rf[0,0])\n",
    "print('\\nFalse Positives(FP) = ', cm_rf[0,1])\n",
    "print('\\nFalse Negatives(FN) = ', cm_rf[1,0])"
   ]
  },
  {
   "cell_type": "code",
   "execution_count": 31,
   "id": "d3bc9bd3",
   "metadata": {},
   "outputs": [
    {
     "data": {
      "text/plain": [
       "<AxesSubplot:>"
      ]
     },
     "execution_count": 31,
     "metadata": {},
     "output_type": "execute_result"
    },
    {
     "data": {
      "image/png": "[encoded data removed]",
      "text/plain": [
       "<Figure size 600x600 with 2 Axes>"
      ]
     },
     "metadata": {},
     "output_type": "display_data"
    }
   ],
   "source": [
    "# visualize confusion matrix with seaborn heatmap\n",
    "\n",
    "plt.figure(figsize=(6, 6))\n",
    "sns.set_style(\"darkgrid\")\n",
    "cm_rf_matrix = pd.DataFrame(data=cm_rf, columns=['Predict Negative:0', 'Predict Positive:1'], \n",
    "                                 index=['Actual Negative:0', 'Actual Positive:1'])\n",
    "\n",
    "sns.heatmap(cm_rf_matrix, annot=True, fmt='d', cmap=plt.cm.Greens)"
   ]
  },
  {
   "cell_type": "code",
   "execution_count": 32,
   "id": "584c3167",
   "metadata": {},
   "outputs": [
    {
     "name": "stdout",
     "output_type": "stream",
     "text": [
      "              precision    recall  f1-score   support\n",
      "\n",
      "           0       0.93      0.99      0.96    364381\n",
      "           1       0.99      0.92      0.95    364382\n",
      "\n",
      "    accuracy                           0.95    728763\n",
      "   macro avg       0.96      0.95      0.95    728763\n",
      "weighted avg       0.96      0.95      0.95    728763\n",
      "\n"
     ]
    }
   ],
   "source": [
    "## Viewing the classification report of the model\n",
    "\n",
    "print(classification_report(y_test, Y_pred_rf))"
   ]
  },
  {
   "cell_type": "code",
   "execution_count": 33,
   "id": "0ecd5cd2",
   "metadata": {},
   "outputs": [
    {
     "data": {
      "image/png": "[encoded data removed]",
      "text/plain": [
       "<Figure size 600x600 with 1 Axes>"
      ]
     },
     "metadata": {},
     "output_type": "display_data"
    }
   ],
   "source": [
    "# get predicted probabilities\n",
    "Y_probabilities = model_rf.predict_proba(X_test)[:,1]\n",
    "\n",
    "# create true and positive rates\n",
    "false_positive_rate, true_positive_rate, threshold = roc_curve(y_test, Y_probabilities,pos_label = 1)\n",
    "\n",
    "# plot ROC curve\n",
    "\n",
    "plt.figure(figsize=(6, 6))\n",
    "sns.set_style(\"whitegrid\")\n",
    "plt.title(\"Reciever Operating Characteristic\")\n",
    "plt.plot(false_positive_rate, true_positive_rate)\n",
    "plt.plot([0, 1], ls=\"--\")\n",
    "plt.plot([0, 0], [1,0], c=\".7\"), plt.plot([1, 1], c=\".7\")\n",
    "plt.ylabel(\"True Positive Rate\")\n",
    "plt.xlabel(\"False Positive Rate\")\n",
    "plt.show()"
   ]
  },
  {
   "cell_type": "code",
   "execution_count": 34,
   "id": "18016074",
   "metadata": {},
   "outputs": [
    {
     "data": {
      "text/plain": [
       "0.9892935119669882"
      ]
     },
     "execution_count": 34,
     "metadata": {},
     "output_type": "execute_result"
    }
   ],
   "source": [
    "# calculate area under curve\n",
    "roc_auc_rf = roc_auc_score(y_test, Y_probabilities)\n",
    "roc_auc_rf"
   ]
  },
  {
   "cell_type": "markdown",
   "id": "2f0e039b",
   "metadata": {},
   "source": [
    "### 2. Decision Tree Model"
   ]
  },
  {
   "cell_type": "code",
   "execution_count": 35,
   "id": "70a6c0ae",
   "metadata": {},
   "outputs": [
    {
     "name": "stdout",
     "output_type": "stream",
     "text": [
      "Wall time: 2min 12s\n"
     ]
    }
   ],
   "source": [
    "## Inputting the decision tress classifier\n",
    "\n",
    "class_tree = DecisionTreeClassifier(splitter='best', random_state=123, min_samples_split=30, min_samples_leaf=10)\n",
    "\n",
    "# Use the trainning data to train the estimator\n",
    "model_dtc=%time class_tree.fit(X_train, y_train)\n",
    "\n",
    "Y_pred_dtc =model_dtc.predict(X_test)"
   ]
  },
  {
   "cell_type": "code",
   "execution_count": 36,
   "id": "fb579d97",
   "metadata": {},
   "outputs": [
    {
     "name": "stdout",
     "output_type": "stream",
     "text": [
      "DecisionTreeClassifier Model accuracy score: 99.0569\n"
     ]
    }
   ],
   "source": [
    "# Calculating and viewing the accuracy score for the decision tree model\n",
    "\n",
    "accuracy = accuracy_score(y_test, Y_pred_dtc)\n",
    "print('DecisionTreeClassifier Model accuracy score: {0:0.4f}'.format(accuracy_score(y_test, Y_pred_dtc)*100))"
   ]
  },
  {
   "cell_type": "code",
   "execution_count": 37,
   "id": "13e999bf",
   "metadata": {},
   "outputs": [
    {
     "name": "stdout",
     "output_type": "stream",
     "text": [
      "Decision Tree Classifier Model Precision score: 99.3207\n"
     ]
    }
   ],
   "source": [
    "# Calculating and viewing the precision score for the decision tree model\n",
    "\n",
    "precision_dtc = precision_score(y_test, Y_pred_dtc, average='binary', pos_label=1)\n",
    "print('Decision Tree Classifier Model Precision score: {0:0.4f}'.format(precision_dtc*100))"
   ]
  },
  {
   "cell_type": "code",
   "execution_count": 38,
   "id": "50d1e1e2",
   "metadata": {},
   "outputs": [
    {
     "name": "stdout",
     "output_type": "stream",
     "text": [
      "Decision Tree Classifier Model Recall score: 98.7895\n"
     ]
    }
   ],
   "source": [
    "# Calculating and viewing the recall score for the decision tree model\n",
    "\n",
    "recall_dtc = recall_score(y_test, Y_pred_dtc,pos_label=1)\n",
    "print('Decision Tree Classifier Model Recall score: {0:0.4f}'.format(recall_dtc*100))"
   ]
  },
  {
   "cell_type": "code",
   "execution_count": 39,
   "id": "c8ffb11d",
   "metadata": {},
   "outputs": [
    {
     "name": "stdout",
     "output_type": "stream",
     "text": [
      "Decision Tree Classifier Model f1_score: 99.0544\n"
     ]
    }
   ],
   "source": [
    "# Calculating and viewing the f1 score for the decision tree model\n",
    "\n",
    "f1_score_dtc = f1_score(y_test, Y_pred_dtc,  pos_label=1)\n",
    "print('Decision Tree Classifier Model f1_score: {0:0.4f}'.format(f1_score_dtc*100))"
   ]
  },
  {
   "cell_type": "code",
   "execution_count": 40,
   "id": "94080204",
   "metadata": {},
   "outputs": [
    {
     "name": "stdout",
     "output_type": "stream",
     "text": [
      "Decision Tree Classifier Model Top k Accuracy_score: 100.0000\n"
     ]
    }
   ],
   "source": [
    "top_k_dtc = top_k_accuracy_score(y_test, Y_pred_dtc)\n",
    "print('Decision Tree Classifier Model Top k Accuracy_score: {0:0.4f}'.format(top_k_dtc*100))"
   ]
  },
  {
   "cell_type": "code",
   "execution_count": 41,
   "id": "f1fdcac6",
   "metadata": {},
   "outputs": [
    {
     "name": "stdout",
     "output_type": "stream",
     "text": [
      "Decision Tree Classifier Model Average Precision Score: 98.7237\n"
     ]
    }
   ],
   "source": [
    "ave_pre_dtc = average_precision_score(y_test, Y_pred_dtc)\n",
    "print('Decision Tree Classifier Model Average Precision Score: {0:0.4f}'.format(ave_pre_dtc*100))"
   ]
  },
  {
   "cell_type": "code",
   "execution_count": 42,
   "id": "cd723e21",
   "metadata": {},
   "outputs": [
    {
     "name": "stdout",
     "output_type": "stream",
     "text": [
      "              precision    recall  f1-score   support\n",
      "\n",
      "           0       0.99      0.99      0.99    364381\n",
      "           1       0.99      0.99      0.99    364382\n",
      "\n",
      "    accuracy                           0.99    728763\n",
      "   macro avg       0.99      0.99      0.99    728763\n",
      "weighted avg       0.99      0.99      0.99    728763\n",
      "\n"
     ]
    }
   ],
   "source": [
    "#Classification Metrices for the decision tree model\n",
    "\n",
    "print(classification_report(y_test, Y_pred_dtc))"
   ]
  },
  {
   "cell_type": "code",
   "execution_count": 43,
   "id": "423285c3",
   "metadata": {},
   "outputs": [
    {
     "name": "stdout",
     "output_type": "stream",
     "text": [
      "Confusion matrix\n",
      "\n",
      " [[361919   2462]\n",
      " [  4411 359971]]\n",
      "\n",
      "True Positives(TP) =  359971\n",
      "\n",
      "True Negatives(TN) =  361919\n",
      "\n",
      "False Positives(FP) =  2462\n",
      "\n",
      "False Negatives(FN) =  4411\n"
     ]
    }
   ],
   "source": [
    "#Confusion-matrix\n",
    "# view confusion-matrix\n",
    "# Print the Confusion Matrix and slice it into four pieces\n",
    "\n",
    "cm_dtc = confusion_matrix(y_test, Y_pred_dtc)\n",
    "print('Confusion matrix\\n\\n', cm_dtc)\n",
    "print('\\nTrue Positives(TP) = ', cm_dtc[1,1])\n",
    "print('\\nTrue Negatives(TN) = ', cm_dtc[0,0])\n",
    "print('\\nFalse Positives(FP) = ', cm_dtc[0,1])\n",
    "print('\\nFalse Negatives(FN) = ', cm_dtc[1,0])"
   ]
  },
  {
   "cell_type": "code",
   "execution_count": 44,
   "id": "f723e4a5",
   "metadata": {},
   "outputs": [
    {
     "data": {
      "text/plain": [
       "<AxesSubplot:>"
      ]
     },
     "execution_count": 44,
     "metadata": {},
     "output_type": "execute_result"
    },
    {
     "data": {
      "image/png": "[encoded data removed]",
      "text/plain": [
       "<Figure size 600x600 with 2 Axes>"
      ]
     },
     "metadata": {},
     "output_type": "display_data"
    }
   ],
   "source": [
    "# visualize confusion matrix with seaborn heatmap\n",
    "plt.figure(figsize=(6, 6))\n",
    "sns.set_style(\"darkgrid\")\n",
    "cm_dtc_matrix = pd.DataFrame(data=cm_dtc, columns=['Predict Negative:0', 'Predict Positive:1'], \n",
    "                                 index=['Actual Negative:0', 'Actual Positive:1'])\n",
    "\n",
    "sns.heatmap(cm_dtc_matrix, annot=True, fmt='d', cmap=plt.cm.Greens)"
   ]
  },
  {
   "cell_type": "code",
   "execution_count": 45,
   "id": "140b47a5",
   "metadata": {},
   "outputs": [
    {
     "data": {
      "image/png": "[encoded data removed]",
      "text/plain": [
       "<Figure size 600x600 with 1 Axes>"
      ]
     },
     "metadata": {},
     "output_type": "display_data"
    }
   ],
   "source": [
    "# get predicted probabilities\n",
    "Y_probabilities = model_dtc.predict_proba(X_test)[:,1]\n",
    "\n",
    "# create true and positive rates\n",
    "false_positive_rate, true_positive_rate, threshold = roc_curve(y_test, Y_probabilities,pos_label = 1)\n",
    "\n",
    "# plot ROC curve\n",
    "plt.figure(figsize=(6, 6))\n",
    "sns.set_style(\"whitegrid\")\n",
    "plt.title(\"Reciever Operating Characteristic\")\n",
    "plt.plot(false_positive_rate, true_positive_rate)\n",
    "plt.plot([0, 1], ls=\"--\")\n",
    "plt.plot([0, 0], [1,0], c=\".7\"), plt.plot([1, 1], c=\".7\")\n",
    "plt.ylabel(\"True Positive Rate\")\n",
    "plt.xlabel(\"False Positive Rate\")\n",
    "plt.show()"
   ]
  },
  {
   "cell_type": "code",
   "execution_count": 46,
   "id": "c58d5b0f",
   "metadata": {},
   "outputs": [
    {
     "data": {
      "text/plain": [
       "0.9968595438446233"
      ]
     },
     "execution_count": 46,
     "metadata": {},
     "output_type": "execute_result"
    }
   ],
   "source": [
    "# calculate area under curve\n",
    "roc_auc_dtc = roc_auc_score(y_test, Y_probabilities)\n",
    "roc_auc_dtc"
   ]
  },
  {
   "cell_type": "markdown",
   "id": "71c2be57",
   "metadata": {},
   "source": [
    "### 3. LIGHT GRADIENT BOASTING MACHINE MODEL"
   ]
  },
  {
   "cell_type": "code",
   "execution_count": 47,
   "id": "f6178e6a",
   "metadata": {},
   "outputs": [
    {
     "name": "stdout",
     "output_type": "stream",
     "text": [
      "Wall time: 4.89 s\n"
     ]
    },
    {
     "data": {
      "text/plain": [
       "LGBMClassifier(max_depth=10, n_estimators=10)"
      ]
     },
     "execution_count": 47,
     "metadata": {},
     "output_type": "execute_result"
    }
   ],
   "source": [
    "## Instantiating the model\n",
    "\n",
    "model_lgb = lgb.LGBMClassifier(n_estimators=10, max_depth= 10)\n",
    "\n",
    "## Training the model with the train dataset\n",
    "%time model_lgb.fit(X_train, y_train)"
   ]
  },
  {
   "cell_type": "code",
   "execution_count": 48,
   "id": "0e98bbe0",
   "metadata": {},
   "outputs": [],
   "source": [
    "# predictng the results of test dataset\n",
    "Y_pred_lgb=model_lgb.predict(X_test)"
   ]
  },
  {
   "cell_type": "code",
   "execution_count": 49,
   "id": "98539015",
   "metadata": {},
   "outputs": [
    {
     "name": "stdout",
     "output_type": "stream",
     "text": [
      "LightGBM Model accuracy score: 96.1173\n"
     ]
    }
   ],
   "source": [
    "# Calculating and viewing the accuracy score for the decision tree model\n",
    "\n",
    "accuracy = accuracy_score(Y_pred_lgb, y_test)\n",
    "print('LightGBM Model accuracy score: {0:0.4f}'.format(accuracy_score(y_test, Y_pred_lgb)*100))"
   ]
  },
  {
   "cell_type": "code",
   "execution_count": 50,
   "id": "99e7d59d",
   "metadata": {},
   "outputs": [
    {
     "name": "stdout",
     "output_type": "stream",
     "text": [
      "LightGBM Model Precision score: 98.1637\n"
     ]
    }
   ],
   "source": [
    "# Calculating and viewing the precision score for the decision tree model\n",
    "\n",
    "precision_lgb = precision_score(y_test, Y_pred_lgb, pos_label=1)\n",
    "print('LightGBM Model Precision score: {0:0.4f}'.format(precision_lgb*100))"
   ]
  },
  {
   "cell_type": "code",
   "execution_count": 51,
   "id": "b9cd3f0b",
   "metadata": {},
   "outputs": [
    {
     "name": "stdout",
     "output_type": "stream",
     "text": [
      "LightGBM Model Recall score: 93.9928\n"
     ]
    }
   ],
   "source": [
    "# Calculating and viewing the recall score for the decision tree model\n",
    "\n",
    "recall_lgb = recall_score(y_test, Y_pred_lgb, pos_label=1)\n",
    "print('LightGBM Model Recall score: {0:0.4f}'.format(recall_lgb*100))"
   ]
  },
  {
   "cell_type": "code",
   "execution_count": 52,
   "id": "22f7613a",
   "metadata": {},
   "outputs": [
    {
     "name": "stdout",
     "output_type": "stream",
     "text": [
      "LightGBM Model f1 score: 96.0330\n"
     ]
    }
   ],
   "source": [
    "# Calculating and viewing the f1 score for the decision tree model\n",
    "\n",
    "f1_score_lgb = f1_score(y_test, Y_pred_lgb, pos_label=1)\n",
    "print('LightGBM Model f1 score: {0:0.4f}'.format(f1_score_lgb*100))"
   ]
  },
  {
   "cell_type": "code",
   "execution_count": 53,
   "id": "1025e5a0",
   "metadata": {},
   "outputs": [
    {
     "name": "stdout",
     "output_type": "stream",
     "text": [
      "LightGBM Model Top k Accuracy_score: 100.0000\n"
     ]
    }
   ],
   "source": [
    "top_k_lgb = top_k_accuracy_score(y_test, Y_pred_lgb)\n",
    "print('LightGBM Model Top k Accuracy_score: {0:0.4f}'.format(top_k_lgb*100))"
   ]
  },
  {
   "cell_type": "code",
   "execution_count": 54,
   "id": "fd3be103",
   "metadata": {},
   "outputs": [
    {
     "name": "stdout",
     "output_type": "stream",
     "text": [
      "LightGBM Mode Average Precision Score: 95.2704\n"
     ]
    }
   ],
   "source": [
    "ave_pre_lgb = average_precision_score(y_test, Y_pred_lgb)\n",
    "print('LightGBM Mode Average Precision Score: {0:0.4f}'.format(ave_pre_lgb*100))"
   ]
  },
  {
   "cell_type": "code",
   "execution_count": 55,
   "id": "ab8526fd",
   "metadata": {},
   "outputs": [
    {
     "name": "stdout",
     "output_type": "stream",
     "text": [
      "Confusion matrix\n",
      "\n",
      " [[357974   6407]\n",
      " [ 21889 342493]]\n",
      "\n",
      "True Positives(TP) =  342493\n",
      "\n",
      "True Negatives(TN) =  357974\n",
      "\n",
      "False Positives(FP) =  6407\n",
      "\n",
      "False Negatives(FN) =  21889\n"
     ]
    }
   ],
   "source": [
    "#Confusion-matrix\n",
    "# view confusion-matrix\n",
    "# Print the Confusion Matrix and slice it into four pieces\n",
    "\n",
    "from sklearn.metrics import confusion_matrix\n",
    "cm_lgb = confusion_matrix(y_test, Y_pred_lgb)\n",
    "print('Confusion matrix\\n\\n', cm_lgb)\n",
    "print('\\nTrue Positives(TP) = ', cm_lgb[1,1])\n",
    "print('\\nTrue Negatives(TN) = ', cm_lgb[0,0])\n",
    "print('\\nFalse Positives(FP) = ', cm_lgb[0,1])\n",
    "print('\\nFalse Negatives(FN) = ', cm_lgb[1,0])"
   ]
  },
  {
   "cell_type": "code",
   "execution_count": 56,
   "id": "925b9f9e",
   "metadata": {},
   "outputs": [
    {
     "data": {
      "text/plain": [
       "<AxesSubplot:>"
      ]
     },
     "execution_count": 56,
     "metadata": {},
     "output_type": "execute_result"
    },
    {
     "data": {
      "image/png": "[encoded data removed]",
      "text/plain": [
       "<Figure size 600x600 with 2 Axes>"
      ]
     },
     "metadata": {},
     "output_type": "display_data"
    }
   ],
   "source": [
    "# visualize confusion matrix with seaborn heatmap\n",
    "\n",
    "plt.figure(figsize=(6, 6))\n",
    "sns.set_style(\"darkgrid\")\n",
    "cm_lgb_matrix = pd.DataFrame(data=cm_lgb, columns=['Predict Negative:0', 'Predict Positive:1'], \n",
    "                                 index=['Actual Negative:0', 'Actual Positive:1'])\n",
    "\n",
    "sns.heatmap(cm_lgb_matrix, annot=True, fmt='d', cmap=plt.cm.Reds)"
   ]
  },
  {
   "cell_type": "code",
   "execution_count": 57,
   "id": "001d080b",
   "metadata": {},
   "outputs": [
    {
     "name": "stdout",
     "output_type": "stream",
     "text": [
      "              precision    recall  f1-score   support\n",
      "\n",
      "           0       0.94      0.98      0.96    364381\n",
      "           1       0.98      0.94      0.96    364382\n",
      "\n",
      "    accuracy                           0.96    728763\n",
      "   macro avg       0.96      0.96      0.96    728763\n",
      "weighted avg       0.96      0.96      0.96    728763\n",
      "\n"
     ]
    }
   ],
   "source": [
    "#Classification Metrices\n",
    "\n",
    "## Viewing the classification report of the model\n",
    "print(classification_report(y_test, Y_pred_lgb))"
   ]
  },
  {
   "cell_type": "code",
   "execution_count": 58,
   "id": "1eba5c3c",
   "metadata": {},
   "outputs": [
    {
     "data": {
      "image/png": "[encoded data removed]",
      "text/plain": [
       "<Figure size 600x600 with 1 Axes>"
      ]
     },
     "metadata": {},
     "output_type": "display_data"
    }
   ],
   "source": [
    "# get predicted probabilities\n",
    "Y_probabilities = model_lgb.predict_proba(X_test)[:,1]\n",
    "\n",
    "# create true and positive rates\n",
    "false_positive_rate, true_positive_rate, threshold = roc_curve(y_test, Y_probabilities,pos_label = 1)\n",
    "\n",
    "# plot ROC curve\n",
    "plt.figure(figsize=(6, 6))\n",
    "sns.set_style(\"whitegrid\")\n",
    "plt.title(\"Reciever Operating Characteristic\")\n",
    "plt.plot(false_positive_rate, true_positive_rate)\n",
    "plt.plot([0, 1], ls=\"--\")\n",
    "plt.plot([0, 0], [1,0], c=\".7\"), plt.plot([1, 1], c=\".7\")\n",
    "plt.ylabel(\"True Positive Rate\")\n",
    "plt.xlabel(\"False Positive Rate\")\n",
    "plt.show()"
   ]
  },
  {
   "cell_type": "code",
   "execution_count": 59,
   "id": "1dcf57e2",
   "metadata": {},
   "outputs": [
    {
     "data": {
      "text/plain": [
       "0.989378941749638"
      ]
     },
     "execution_count": 59,
     "metadata": {},
     "output_type": "execute_result"
    }
   ],
   "source": [
    "# calculate area under curve\n",
    "roc_auc_lgb = roc_auc_score(y_test, Y_probabilities)\n",
    "roc_auc_lgb"
   ]
  },
  {
   "cell_type": "markdown",
   "id": "b972e074",
   "metadata": {},
   "source": [
    "### 4. Logistic  Regression"
   ]
  },
  {
   "cell_type": "code",
   "execution_count": 60,
   "id": "907ddd87",
   "metadata": {},
   "outputs": [
    {
     "name": "stdout",
     "output_type": "stream",
     "text": [
      "Wall time: 6min 46s\n"
     ]
    }
   ],
   "source": [
    "## Instantiating the model\n",
    "logistic_regression = LogisticRegression(max_iter=1000)\n",
    "\n",
    "## Training the model with the training dataset\n",
    "model_lgr = %time logistic_regression.fit(X_train, y_train)\n",
    "\n",
    "# predict the results\n",
    "Y_pred_lgr=model_lgr.predict(X_test)"
   ]
  },
  {
   "cell_type": "code",
   "execution_count": 61,
   "id": "0525f327",
   "metadata": {},
   "outputs": [
    {
     "name": "stdout",
     "output_type": "stream",
     "text": [
      "Logistic Regression Model accuracy score: 91.8922\n"
     ]
    }
   ],
   "source": [
    "# Calculating and viewing the accuracy score for the decision tree model\n",
    "\n",
    "accuracy=accuracy_score(Y_pred_lgr, y_test)\n",
    "print('Logistic Regression Model accuracy score: {0:0.4f}'.format(accuracy_score(y_test, Y_pred_lgr)*100))"
   ]
  },
  {
   "cell_type": "code",
   "execution_count": 62,
   "id": "d2d7aff2",
   "metadata": {},
   "outputs": [
    {
     "name": "stdout",
     "output_type": "stream",
     "text": [
      "Logistic Regression Model Precision score: 96.0860\n"
     ]
    }
   ],
   "source": [
    "# Calculating and viewing the precision score for the decision tree model\n",
    "\n",
    "precision_lgr = precision_score(y_test, Y_pred_lgr, pos_label=1)\n",
    "print('Logistic Regression Model Precision score: {0:0.4f}'.format(precision_lgr*100))"
   ]
  },
  {
   "cell_type": "code",
   "execution_count": 63,
   "id": "3e22185c",
   "metadata": {},
   "outputs": [
    {
     "name": "stdout",
     "output_type": "stream",
     "text": [
      "Logistic Regression Model Recall score: 87.3421\n"
     ]
    }
   ],
   "source": [
    "# Calculating and viewing the precision score for the decision tree model\n",
    "\n",
    "recall_lgr = recall_score(y_test, Y_pred_lgr, pos_label=1)\n",
    "print('Logistic Regression Model Recall score: {0:0.4f}'.format(recall_lgr*100))"
   ]
  },
  {
   "cell_type": "code",
   "execution_count": 64,
   "id": "effc238a",
   "metadata": {},
   "outputs": [
    {
     "name": "stdout",
     "output_type": "stream",
     "text": [
      "Logistic Regression Model f1 score: 91.5057\n"
     ]
    }
   ],
   "source": [
    "# Calculating and viewing the precision score for the decision tree model\n",
    "\n",
    "f1_score_lgr = f1_score(y_test, Y_pred_lgr, pos_label=1)\n",
    "print('Logistic Regression Model f1 score: {0:0.4f}'.format(f1_score_lgr*100))"
   ]
  },
  {
   "cell_type": "code",
   "execution_count": 65,
   "id": "cb9c2735",
   "metadata": {},
   "outputs": [
    {
     "name": "stdout",
     "output_type": "stream",
     "text": [
      "Logistic Regression Model Top k Accuracy_score: 100.0000\n"
     ]
    }
   ],
   "source": [
    "top_k_lgr = top_k_accuracy_score(y_test, Y_pred_lgr)\n",
    "print('Logistic Regression Model Top k Accuracy_score: {0:0.4f}'.format(top_k_lgr*100))"
   ]
  },
  {
   "cell_type": "code",
   "execution_count": 66,
   "id": "3726011c",
   "metadata": {},
   "outputs": [
    {
     "name": "stdout",
     "output_type": "stream",
     "text": [
      "Logistic Regression Model Average Precision Score: 90.2525\n"
     ]
    }
   ],
   "source": [
    "ave_pre_lgr = average_precision_score(y_test, Y_pred_lgr)\n",
    "print('Logistic Regression Model Average Precision Score: {0:0.4f}'.format(ave_pre_lgr*100))"
   ]
  },
  {
   "cell_type": "code",
   "execution_count": 67,
   "id": "0b050948",
   "metadata": {},
   "outputs": [
    {
     "name": "stdout",
     "output_type": "stream",
     "text": [
      "Confusion matrix\n",
      "\n",
      " [[351417  12964]\n",
      " [ 46123 318259]]\n",
      "\n",
      "True Positives(TP) =  318259\n",
      "\n",
      "True Negatives(TN) =  351417\n",
      "\n",
      "False Positives(FP) =  12964\n",
      "\n",
      "False Negatives(FN) =  46123\n"
     ]
    }
   ],
   "source": [
    "#Confusion-matrix\n",
    "# view confusion-matrix\n",
    "# Print the Confusion Matrix and slice it into four pieces\n",
    "\n",
    "from sklearn.metrics import confusion_matrix\n",
    "cm_lgr = confusion_matrix(y_test, Y_pred_lgr)\n",
    "print('Confusion matrix\\n\\n', cm_lgr)\n",
    "print('\\nTrue Positives(TP) = ', cm_lgr[1,1])\n",
    "print('\\nTrue Negatives(TN) = ', cm_lgr[0,0])\n",
    "print('\\nFalse Positives(FP) = ', cm_lgr[0,1])\n",
    "print('\\nFalse Negatives(FN) = ', cm_lgr[1,0])"
   ]
  },
  {
   "cell_type": "code",
   "execution_count": 68,
   "id": "7432a458",
   "metadata": {},
   "outputs": [
    {
     "data": {
      "text/plain": [
       "<AxesSubplot:>"
      ]
     },
     "execution_count": 68,
     "metadata": {},
     "output_type": "execute_result"
    },
    {
     "data": {
      "image/png": "[encoded data removed]",
      "text/plain": [
       "<Figure size 600x600 with 2 Axes>"
      ]
     },
     "metadata": {},
     "output_type": "display_data"
    }
   ],
   "source": [
    "# visualize confusion matrix with seaborn heatmap\n",
    "\n",
    "plt.figure(figsize=(6, 6))\n",
    "sns.set_style(\"darkgrid\")\n",
    "cm_lgr_matrix = pd.DataFrame(data=cm_lgr, columns=['Predict Negative:0', 'Predict Positive:1'], \n",
    "                                 index=['Actual Negative:0', 'Actual Positive:1'])\n",
    "\n",
    "sns.heatmap(cm_lgr_matrix, annot=True, fmt='d', cmap=plt.cm.Blues)"
   ]
  },
  {
   "cell_type": "code",
   "execution_count": 69,
   "id": "8fe26c06",
   "metadata": {},
   "outputs": [
    {
     "name": "stdout",
     "output_type": "stream",
     "text": [
      "              precision    recall  f1-score   support\n",
      "\n",
      "           0       0.88      0.96      0.92    364381\n",
      "           1       0.96      0.87      0.92    364382\n",
      "\n",
      "    accuracy                           0.92    728763\n",
      "   macro avg       0.92      0.92      0.92    728763\n",
      "weighted avg       0.92      0.92      0.92    728763\n",
      "\n"
     ]
    }
   ],
   "source": [
    "#Classification Metrices\n",
    "\n",
    "## Viewing the classification report of the model\n",
    "\n",
    "print(classification_report(y_test, Y_pred_lgr))"
   ]
  },
  {
   "cell_type": "code",
   "execution_count": 70,
   "id": "ce1bb074",
   "metadata": {},
   "outputs": [
    {
     "data": {
      "image/png": "[encoded data removed]",
      "text/plain": [
       "<Figure size 600x600 with 1 Axes>"
      ]
     },
     "metadata": {},
     "output_type": "display_data"
    }
   ],
   "source": [
    "from sklearn.metrics import roc_curve, roc_auc_score\n",
    "\n",
    "# get predicted probabilities\n",
    "Y_probabilities = model_lgr.predict_proba(X_test)[:,1]\n",
    "\n",
    "# create true and positive rates\n",
    "false_positive_rate, true_positive_rate, threshold = roc_curve(y_test, Y_probabilities,pos_label = 1)\n",
    "\n",
    "# plot ROC curve\n",
    "plt.figure(figsize=(6, 6))\n",
    "sns.set_style(\"whitegrid\")\n",
    "plt.title(\"Reciever Operating Characteristic\")\n",
    "plt.plot(false_positive_rate, true_positive_rate)\n",
    "plt.plot([0, 1], ls=\"--\")\n",
    "plt.plot([0, 0], [1,0], c=\".7\"), plt.plot([1, 1], c=\".7\")\n",
    "plt.ylabel(\"True Positive Rate\")\n",
    "plt.xlabel(\"False Positive Rate\")\n",
    "plt.show()"
   ]
  },
  {
   "cell_type": "code",
   "execution_count": 71,
   "id": "37b48a2d",
   "metadata": {},
   "outputs": [
    {
     "data": {
      "text/plain": [
       "0.9582410401040963"
      ]
     },
     "execution_count": 71,
     "metadata": {},
     "output_type": "execute_result"
    }
   ],
   "source": [
    "# calculate area under curve\n",
    "roc_auc_lgr = roc_auc_score(y_test, Y_probabilities)\n",
    "roc_auc_lgr"
   ]
  },
  {
   "cell_type": "markdown",
   "id": "4abb9b7d",
   "metadata": {},
   "source": [
    "### 5. XG Boast Classifier"
   ]
  },
  {
   "cell_type": "code",
   "execution_count": 72,
   "id": "d0890c13",
   "metadata": {},
   "outputs": [
    {
     "name": "stdout",
     "output_type": "stream",
     "text": [
      "Wall time: 1min 28s\n"
     ]
    },
    {
     "data": {
      "text/plain": [
       "XGBClassifier(base_score=None, booster=None, callbacks=None,\n",
       "              colsample_bylevel=None, colsample_bynode=None,\n",
       "              colsample_bytree=None, early_stopping_rounds=None,\n",
       "              enable_categorical=False, eval_metric=None, feature_types=None,\n",
       "              gamma=None, gpu_id=None, grow_policy=None, importance_type=None,\n",
       "              interaction_constraints=None, learning_rate=None, max_bin=None,\n",
       "              max_cat_threshold=None, max_cat_to_onehot=None,\n",
       "              max_delta_step=None, max_depth=10, max_leaves=None,\n",
       "              min_child_weight=None, missing=nan, monotone_constraints=None,\n",
       "              n_estimators=10, n_jobs=None, num_parallel_tree=None,\n",
       "              predictor=None, random_state=None, ...)"
      ]
     },
     "execution_count": 72,
     "metadata": {},
     "output_type": "execute_result"
    }
   ],
   "source": [
    "## Instantiaitng the library\n",
    "model_xgb= xgb.XGBClassifier(n_estimators=10, max_depth = 10)\n",
    "\n",
    "## Training the model using the train data\n",
    "%time model_xgb.fit(X_train, y_train)"
   ]
  },
  {
   "cell_type": "code",
   "execution_count": 73,
   "id": "3306ef86",
   "metadata": {},
   "outputs": [],
   "source": [
    "# predict the results using the test dataset\n",
    "Y_pred_xgb = model_xgb.predict(X_test)"
   ]
  },
  {
   "cell_type": "code",
   "execution_count": 74,
   "id": "fdf934d2",
   "metadata": {},
   "outputs": [
    {
     "name": "stdout",
     "output_type": "stream",
     "text": [
      "xgboost Model accuracy score: 98.8917\n"
     ]
    }
   ],
   "source": [
    "# Calculating and viewing the accuracy score for the decision tree model\n",
    "\n",
    "accuracy=accuracy_score(Y_pred_xgb, y_test)\n",
    "print('xgboost Model accuracy score: {0:0.4f}'.format(accuracy_score(y_test, Y_pred_xgb)*100))"
   ]
  },
  {
   "cell_type": "code",
   "execution_count": 75,
   "id": "979a5ea0",
   "metadata": {},
   "outputs": [
    {
     "name": "stdout",
     "output_type": "stream",
     "text": [
      "xgboost Model Precision score: 99.6350\n"
     ]
    }
   ],
   "source": [
    "# Calculating and viewing the precision score for the decision tree model\n",
    "\n",
    "precision_xgb = precision_score(y_test, Y_pred_xgb, pos_label=1)\n",
    "print('xgboost Model Precision score: {0:0.4f}'.format(precision_xgb*100))"
   ]
  },
  {
   "cell_type": "code",
   "execution_count": 76,
   "id": "9ef43eca",
   "metadata": {},
   "outputs": [
    {
     "name": "stdout",
     "output_type": "stream",
     "text": [
      "xgboost Model Recall score: 98.1429\n"
     ]
    }
   ],
   "source": [
    "# Calculating and viewing the recall score for the decision tree model\n",
    "\n",
    "recall_xgb = recall_score(y_test, Y_pred_xgb, pos_label= 1)\n",
    "print('xgboost Model Recall score: {0:0.4f}'.format(recall_xgb*100))"
   ]
  },
  {
   "cell_type": "code",
   "execution_count": 77,
   "id": "dae9024d",
   "metadata": {},
   "outputs": [
    {
     "name": "stdout",
     "output_type": "stream",
     "text": [
      "xgboost Model f1 score: 98.8833\n"
     ]
    }
   ],
   "source": [
    "# Calculating and viewing the f1 score for the decision tree model\n",
    "\n",
    "f1_score_xgb  = f1_score(y_test, Y_pred_xgb, pos_label=1)\n",
    "print('xgboost Model f1 score: {0:0.4f}'.format(f1_score_xgb*100))"
   ]
  },
  {
   "cell_type": "code",
   "execution_count": 78,
   "id": "255159e1",
   "metadata": {},
   "outputs": [
    {
     "name": "stdout",
     "output_type": "stream",
     "text": [
      "xgboost Model Top k Accuracy_score: 100.0000\n"
     ]
    }
   ],
   "source": [
    "top_k_xgb = top_k_accuracy_score(y_test, Y_pred_xgb)\n",
    "print('xgboost Model Top k Accuracy_score: {0:0.4f}'.format(top_k_xgb*100))"
   ]
  },
  {
   "cell_type": "code",
   "execution_count": 79,
   "id": "ffa89289",
   "metadata": {},
   "outputs": [
    {
     "name": "stdout",
     "output_type": "stream",
     "text": [
      "xgboost Model Model Average Precision Score: 98.7132\n"
     ]
    }
   ],
   "source": [
    "ave_pre_xgb = average_precision_score(y_test, Y_pred_xgb)\n",
    "print('xgboost Model Model Average Precision Score: {0:0.4f}'.format(ave_pre_xgb*100))"
   ]
  },
  {
   "cell_type": "code",
   "execution_count": 80,
   "id": "23079ea7",
   "metadata": {},
   "outputs": [
    {
     "name": "stdout",
     "output_type": "stream",
     "text": [
      "Confusion matrix\n",
      "\n",
      " [[363071   1310]\n",
      " [  6767 357615]]\n",
      "\n",
      "True Positives(TP) =  357615\n",
      "\n",
      "True Negatives(TN) =  363071\n",
      "\n",
      "False Positives(FP) =  1310\n",
      "\n",
      "False Negatives(FN) =  6767\n"
     ]
    }
   ],
   "source": [
    "#Confusion-matrix\n",
    "# view confusion-matrix\n",
    "# Print the Confusion Matrix and slice it into four pieces\n",
    "\n",
    "\n",
    "cm_xgb = confusion_matrix(y_test, Y_pred_xgb)\n",
    "print('Confusion matrix\\n\\n', cm_xgb)\n",
    "print('\\nTrue Positives(TP) = ', cm_xgb[1,1])\n",
    "print('\\nTrue Negatives(TN) = ', cm_xgb[0,0])\n",
    "print('\\nFalse Positives(FP) = ', cm_xgb[0,1])\n",
    "print('\\nFalse Negatives(FN) = ', cm_xgb[1,0])"
   ]
  },
  {
   "cell_type": "code",
   "execution_count": 81,
   "id": "2453a68d",
   "metadata": {},
   "outputs": [
    {
     "data": {
      "text/plain": [
       "<AxesSubplot:>"
      ]
     },
     "execution_count": 81,
     "metadata": {},
     "output_type": "execute_result"
    },
    {
     "data": {
      "image/png": "[encoded data removed]",
      "text/plain": [
       "<Figure size 600x600 with 2 Axes>"
      ]
     },
     "metadata": {},
     "output_type": "display_data"
    }
   ],
   "source": [
    "# visualize confusion matrix with seaborn heatmap\n",
    "\n",
    "plt.figure(figsize=(6, 6))\n",
    "sns.set_style(\"darkgrid\")\n",
    "cm_xgb_matrix = pd.DataFrame(data=cm_xgb, columns=['Predict Negative:0', 'Predict Positive:1'], \n",
    "                                 index=['Actual Negative:0', 'Actual Positive:1'])\n",
    "\n",
    "sns.heatmap(cm_xgb_matrix, annot=True, fmt='d', cmap=plt.cm.Reds)"
   ]
  },
  {
   "cell_type": "code",
   "execution_count": 82,
   "id": "b9025a99",
   "metadata": {},
   "outputs": [
    {
     "name": "stdout",
     "output_type": "stream",
     "text": [
      "              precision    recall  f1-score   support\n",
      "\n",
      "           0       0.98      1.00      0.99    364381\n",
      "           1       1.00      0.98      0.99    364382\n",
      "\n",
      "    accuracy                           0.99    728763\n",
      "   macro avg       0.99      0.99      0.99    728763\n",
      "weighted avg       0.99      0.99      0.99    728763\n",
      "\n"
     ]
    }
   ],
   "source": [
    "## Viewing the classification report of the model\n",
    "\n",
    "print(classification_report(y_test, Y_pred_xgb))"
   ]
  },
  {
   "cell_type": "code",
   "execution_count": 83,
   "id": "712bd1b1",
   "metadata": {},
   "outputs": [
    {
     "data": {
      "image/png": "[encoded data removed]",
      "text/plain": [
       "<Figure size 600x600 with 1 Axes>"
      ]
     },
     "metadata": {},
     "output_type": "display_data"
    }
   ],
   "source": [
    "from sklearn.metrics import roc_curve, roc_auc_score\n",
    "\n",
    "# get predicted probabilities\n",
    "Y_probabilities = model_xgb.predict_proba(X_test)[:,1]\n",
    "\n",
    "# create true and positive rates\n",
    "false_positive_rate, true_positive_rate, threshold = roc_curve(y_test, Y_probabilities,pos_label = 1)\n",
    "\n",
    "# plot ROC curve\n",
    "\n",
    "plt.figure(figsize=(6, 6))\n",
    "sns.set_style(\"whitegrid\")\n",
    "plt.title(\"Reciever Operating Characteristic\")\n",
    "plt.plot(false_positive_rate, true_positive_rate)\n",
    "plt.plot([0, 1], ls=\"--\")\n",
    "plt.plot([0, 0], [1,0], c=\".7\"), plt.plot([1, 1], c=\".7\")\n",
    "plt.ylabel(\"True Positive Rate\")\n",
    "plt.xlabel(\"False Positive Rate\")\n",
    "plt.show()"
   ]
  },
  {
   "cell_type": "code",
   "execution_count": 84,
   "id": "6e06be81",
   "metadata": {},
   "outputs": [
    {
     "data": {
      "text/plain": [
       "0.997171206991517"
      ]
     },
     "execution_count": 84,
     "metadata": {},
     "output_type": "execute_result"
    }
   ],
   "source": [
    "# calculate area under curve\n",
    "roc_auc_xgb = roc_auc_score(y_test, Y_probabilities)\n",
    "roc_auc_xgb"
   ]
  },
  {
   "cell_type": "markdown",
   "id": "711a76d5",
   "metadata": {},
   "source": [
    "### Summary of Evaluation Metrics\n",
    "\n",
    "### Step 1. Create Pandas Series for all the Matrices Used"
   ]
  },
  {
   "cell_type": "markdown",
   "id": "beafb111",
   "metadata": {},
   "source": [
    "#### Pandas Series for Accuracy Score"
   ]
  },
  {
   "cell_type": "code",
   "execution_count": 85,
   "id": "9cce9d44",
   "metadata": {},
   "outputs": [
    {
     "data": {
      "text/plain": [
       "Decision Tree                      99.056895\n",
       "Logistic Regression                91.892151\n",
       "Light Gradient Boasitng Machine    96.117256\n",
       "XG Boast Machine                   98.891684\n",
       "Random Forest                      95.447217\n",
       "dtype: float64"
      ]
     },
     "execution_count": 85,
     "metadata": {},
     "output_type": "execute_result"
    }
   ],
   "source": [
    "Accuracy_Score = {'Decision Tree': accuracy_score(y_test, Y_pred_dtc)*100, 'Logistic Regression': accuracy_score(y_test, Y_pred_lgr)*100, 'Light Gradient Boasitng Machine': accuracy_score(y_test, Y_pred_lgb)*100,\n",
    "             'XG Boast Machine': accuracy_score(y_test, Y_pred_xgb)*100, 'Random Forest': accuracy_score(y_test, Y_pred_rf)*100}\n",
    "Accuracy_Score = pd.Series(Accuracy_Score)\n",
    "Accuracy_Score"
   ]
  },
  {
   "cell_type": "markdown",
   "id": "65465011",
   "metadata": {},
   "source": [
    "#### Pandas Series for Precision Score"
   ]
  },
  {
   "cell_type": "code",
   "execution_count": 86,
   "id": "d626179b",
   "metadata": {},
   "outputs": [
    {
     "data": {
      "text/plain": [
       "Decision Tree                      99.320702\n",
       "Logistic Regression                96.086021\n",
       "Light Gradient Boasitng Machine    98.163657\n",
       "XG Boast Machine                   99.635021\n",
       "Random Forest                      98.545979\n",
       "dtype: float64"
      ]
     },
     "execution_count": 86,
     "metadata": {},
     "output_type": "execute_result"
    }
   ],
   "source": [
    "Precision_Score = {'Decision Tree': precision_dtc*100, 'Logistic Regression': precision_lgr*100, 'Light Gradient Boasitng Machine': precision_lgb*100,\n",
    "             'XG Boast Machine': precision_xgb*100, 'Random Forest': precision_rf*100}\n",
    "Precision_Score = pd.Series(Precision_Score)\n",
    "Precision_Score"
   ]
  },
  {
   "cell_type": "markdown",
   "id": "975fa5dd",
   "metadata": {},
   "source": [
    "#### Pandas Series for Recall Score"
   ]
  },
  {
   "cell_type": "code",
   "execution_count": 87,
   "id": "77baec7e",
   "metadata": {},
   "outputs": [
    {
     "data": {
      "text/plain": [
       "Decision Tree                      98.789457\n",
       "Logistic Regression                87.342130\n",
       "Light Gradient Boasitng Machine    93.992843\n",
       "XG Boast Machine                   98.142883\n",
       "Random Forest                      92.255655\n",
       "dtype: float64"
      ]
     },
     "execution_count": 87,
     "metadata": {},
     "output_type": "execute_result"
    }
   ],
   "source": [
    "Recall_Score = {'Decision Tree': recall_dtc*100, 'Logistic Regression': recall_lgr*100, 'Light Gradient Boasitng Machine': recall_lgb*100,\n",
    "             'XG Boast Machine': recall_xgb*100, 'Random Forest': recall_rf*100}\n",
    "Recall_Score = pd.Series(Recall_Score)\n",
    "Recall_Score"
   ]
  },
  {
   "cell_type": "markdown",
   "id": "6d884f6c",
   "metadata": {},
   "source": [
    "#### Pandas Series for f1 Score"
   ]
  },
  {
   "cell_type": "code",
   "execution_count": 88,
   "id": "bfbe3fa6",
   "metadata": {},
   "outputs": [
    {
     "data": {
      "text/plain": [
       "Decision Tree                      99.054367\n",
       "Logistic Regression                91.505668\n",
       "Light Gradient Boasitng Machine    96.032986\n",
       "XG Boast Machine                   98.883323\n",
       "Random Forest                      95.297128\n",
       "dtype: float64"
      ]
     },
     "execution_count": 88,
     "metadata": {},
     "output_type": "execute_result"
    }
   ],
   "source": [
    "f1_Score = {'Decision Tree': f1_score_dtc*100, 'Logistic Regression': f1_score_lgr*100, 'Light Gradient Boasitng Machine': f1_score_lgb*100,\n",
    "             'XG Boast Machine': f1_score_xgb*100, 'Random Forest': f1_score_rf*100}\n",
    "f1_Score = pd.Series(f1_Score)\n",
    "f1_Score"
   ]
  },
  {
   "cell_type": "markdown",
   "id": "e991eb8b",
   "metadata": {},
   "source": [
    "#### Pandas Series for ROC_AUC Score"
   ]
  },
  {
   "cell_type": "code",
   "execution_count": 89,
   "id": "3cbdfd35",
   "metadata": {},
   "outputs": [
    {
     "data": {
      "text/plain": [
       "Decision Tree                      99.685954\n",
       "Logistic Regression                95.824104\n",
       "Light Gradient Boasitng Machine    98.937894\n",
       "XG Boast Machine                   99.717121\n",
       "Random Forest                      98.929351\n",
       "dtype: float64"
      ]
     },
     "execution_count": 89,
     "metadata": {},
     "output_type": "execute_result"
    }
   ],
   "source": [
    "ROC_AUC_Score = {'Decision Tree': roc_auc_dtc*100, 'Logistic Regression': roc_auc_lgr*100, 'Light Gradient Boasitng Machine': roc_auc_lgb*100,\n",
    "             'XG Boast Machine': roc_auc_xgb*100, 'Random Forest': roc_auc_rf*100}\n",
    "ROC_AUC_Score = pd.Series(ROC_AUC_Score)\n",
    "ROC_AUC_Score"
   ]
  },
  {
   "cell_type": "markdown",
   "id": "85f93206",
   "metadata": {},
   "source": [
    "#### Pandas Series for Top_k_Accuracy Score"
   ]
  },
  {
   "cell_type": "code",
   "execution_count": 90,
   "id": "eba5f701",
   "metadata": {},
   "outputs": [
    {
     "data": {
      "text/plain": [
       "Decision Tree                      100.0\n",
       "Logistic Regression                100.0\n",
       "Light Gradient Boasitng Machine    100.0\n",
       "XG Boast Machine                   100.0\n",
       "Random Forest                      100.0\n",
       "dtype: float64"
      ]
     },
     "execution_count": 90,
     "metadata": {},
     "output_type": "execute_result"
    }
   ],
   "source": [
    "Top_k_Accuracy_Score = {'Decision Tree': top_k_dtc*100, 'Logistic Regression': top_k_lgr*100, 'Light Gradient Boasitng Machine': top_k_lgb*100,\n",
    "             'XG Boast Machine': top_k_xgb*100, 'Random Forest': top_k_rf*100}\n",
    "Top_k_Accuracy_Score = pd.Series(Top_k_Accuracy_Score)\n",
    "Top_k_Accuracy_Score"
   ]
  },
  {
   "cell_type": "markdown",
   "id": "837af195",
   "metadata": {},
   "source": [
    "#### Pandas Series for Average Precision Score "
   ]
  },
  {
   "cell_type": "code",
   "execution_count": 91,
   "id": "30b93430",
   "metadata": {},
   "outputs": [
    {
     "data": {
      "text/plain": [
       "Decision Tree                      98.723655\n",
       "Logistic Regression                90.252521\n",
       "Light Gradient Boasitng Machine    95.270395\n",
       "XG Boast Machine                   98.713242\n",
       "Random Forest                      94.786416\n",
       "dtype: float64"
      ]
     },
     "execution_count": 91,
     "metadata": {},
     "output_type": "execute_result"
    }
   ],
   "source": [
    "Average_Precision_Score = {'Decision Tree': ave_pre_dtc*100, 'Logistic Regression': ave_pre_lgr*100, 'Light Gradient Boasitng Machine': ave_pre_lgb*100,\n",
    "             'XG Boast Machine': ave_pre_xgb*100, 'Random Forest': ave_pre_rf*100}\n",
    "Average_Precision_Score = pd.Series(Average_Precision_Score)\n",
    "Average_Precision_Score"
   ]
  },
  {
   "cell_type": "markdown",
   "id": "16ba3f74",
   "metadata": {},
   "source": [
    "#### Pandas Series for the different models built"
   ]
  },
  {
   "cell_type": "code",
   "execution_count": 92,
   "id": "ebcf2fe7",
   "metadata": {},
   "outputs": [
    {
     "data": {
      "text/plain": [
       "Decision Tree                             Decison_Tree_Model\n",
       "Logistic Regression                Logistic_Regression_Model\n",
       "Light Gradient Boasitng Machine                   LGBM_Model\n",
       "XG Boast Machine                                  XGBM_Model\n",
       "Random Forest                            Random_Forest_Model\n",
       "dtype: object"
      ]
     },
     "execution_count": 92,
     "metadata": {},
     "output_type": "execute_result"
    }
   ],
   "source": [
    "Models = {'Decision Tree': \"Decison_Tree_Model\", 'Logistic Regression': \"Logistic_Regression_Model\", 'Light Gradient Boasitng Machine': \"LGBM_Model\",\n",
    "             'XG Boast Machine': \"XGBM_Model\", 'Random Forest': \"Random_Forest_Model\"}\n",
    "Models = pd.Series(Models)\n",
    "Models"
   ]
  },
  {
   "cell_type": "markdown",
   "id": "5d3a0c9f",
   "metadata": {},
   "source": [
    "### Step 2. Concating all the series together to get a dataframe"
   ]
  },
  {
   "cell_type": "code",
   "execution_count": 93,
   "id": "0f95391d",
   "metadata": {},
   "outputs": [],
   "source": [
    "cmm = pd.DataFrame({'Models':Models, 'Accuracy': Accuracy_Score,'Precision': Precision_Score,\n",
    "                    'Recall': Recall_Score,'f1': f1_Score, \n",
    "                    'ROC_AUC': ROC_AUC_Score,\n",
    "                   \"Average Precision\":Average_Precision_Score, 'Top k Accuracy':Top_k_Accuracy_Score})"
   ]
  },
  {
   "cell_type": "markdown",
   "id": "32f7d904",
   "metadata": {},
   "source": [
    "### A DataFrame That Shows The Five (5) Models Built Against The Different Evalaution Matrices Used"
   ]
  },
  {
   "cell_type": "code",
   "execution_count": 94,
   "id": "e6424637",
   "metadata": {},
   "outputs": [
    {
     "data": {
      "text/html": [
       "<div>\n",
       "<style scoped>\n",
       "    .dataframe tbody tr th:only-of-type {\n",
       "        vertical-align: middle;\n",
       "    }\n",
       "\n",
       "    .dataframe tbody tr th {\n",
       "        vertical-align: top;\n",
       "    }\n",
       "\n",
       "    .dataframe thead th {\n",
       "        text-align: right;\n",
       "    }\n",
       "</style>\n",
       "<table border=\"1\" class=\"dataframe\">\n",
       "  <thead>\n",
       "    <tr style=\"text-align: right;\">\n",
       "      <th></th>\n",
       "      <th>Models</th>\n",
       "      <th>Accuracy</th>\n",
       "      <th>Precision</th>\n",
       "      <th>Recall</th>\n",
       "      <th>f1</th>\n",
       "      <th>ROC_AUC</th>\n",
       "      <th>Average Precision</th>\n",
       "      <th>Top k Accuracy</th>\n",
       "    </tr>\n",
       "  </thead>\n",
       "  <tbody>\n",
       "    <tr>\n",
       "      <th>0</th>\n",
       "      <td>Decison_Tree_Model</td>\n",
       "      <td>99.056895</td>\n",
       "      <td>99.320702</td>\n",
       "      <td>98.789457</td>\n",
       "      <td>99.054367</td>\n",
       "      <td>99.685954</td>\n",
       "      <td>98.723655</td>\n",
       "      <td>100.0</td>\n",
       "    </tr>\n",
       "    <tr>\n",
       "      <th>1</th>\n",
       "      <td>Logistic_Regression_Model</td>\n",
       "      <td>91.892151</td>\n",
       "      <td>96.086021</td>\n",
       "      <td>87.342130</td>\n",
       "      <td>91.505668</td>\n",
       "      <td>95.824104</td>\n",
       "      <td>90.252521</td>\n",
       "      <td>100.0</td>\n",
       "    </tr>\n",
       "    <tr>\n",
       "      <th>2</th>\n",
       "      <td>LGBM_Model</td>\n",
       "      <td>96.117256</td>\n",
       "      <td>98.163657</td>\n",
       "      <td>93.992843</td>\n",
       "      <td>96.032986</td>\n",
       "      <td>98.937894</td>\n",
       "      <td>95.270395</td>\n",
       "      <td>100.0</td>\n",
       "    </tr>\n",
       "    <tr>\n",
       "      <th>3</th>\n",
       "      <td>XGBM_Model</td>\n",
       "      <td>98.891684</td>\n",
       "      <td>99.635021</td>\n",
       "      <td>98.142883</td>\n",
       "      <td>98.883323</td>\n",
       "      <td>99.717121</td>\n",
       "      <td>98.713242</td>\n",
       "      <td>100.0</td>\n",
       "    </tr>\n",
       "    <tr>\n",
       "      <th>4</th>\n",
       "      <td>Random_Forest_Model</td>\n",
       "      <td>95.447217</td>\n",
       "      <td>98.545979</td>\n",
       "      <td>92.255655</td>\n",
       "      <td>95.297128</td>\n",
       "      <td>98.929351</td>\n",
       "      <td>94.786416</td>\n",
       "      <td>100.0</td>\n",
       "    </tr>\n",
       "  </tbody>\n",
       "</table>\n",
       "</div>"
      ],
      "text/plain": [
       "                      Models   Accuracy  Precision     Recall         f1  \\\n",
       "0         Decison_Tree_Model  99.056895  99.320702  98.789457  99.054367   \n",
       "1  Logistic_Regression_Model  91.892151  96.086021  87.342130  91.505668   \n",
       "2                 LGBM_Model  96.117256  98.163657  93.992843  96.032986   \n",
       "3                 XGBM_Model  98.891684  99.635021  98.142883  98.883323   \n",
       "4        Random_Forest_Model  95.447217  98.545979  92.255655  95.297128   \n",
       "\n",
       "     ROC_AUC  Average Precision  Top k Accuracy  \n",
       "0  99.685954          98.723655           100.0  \n",
       "1  95.824104          90.252521           100.0  \n",
       "2  98.937894          95.270395           100.0  \n",
       "3  99.717121          98.713242           100.0  \n",
       "4  98.929351          94.786416           100.0  "
      ]
     },
     "execution_count": 94,
     "metadata": {},
     "output_type": "execute_result"
    }
   ],
   "source": [
    "cmm_df = cmm.reset_index(drop=True)\n",
    "cmm_df"
   ]
  },
  {
   "cell_type": "code",
   "execution_count": 95,
   "id": "a77d466d",
   "metadata": {},
   "outputs": [],
   "source": [
    "cmm_df.to_csv('Result of Hybrid Strategy.csv')"
   ]
  }
 ],
 "metadata": {
  "kernelspec": {
   "display_name": "Python 3 (ipykernel)",
   "language": "python",
   "name": "python3"
  },
  "language_info": {
   "codemirror_mode": {
    "name": "ipython",
    "version": 3
   },
   "file_extension": ".py",
   "mimetype": "text/x-python",
   "name": "python",
   "nbconvert_exporter": "python",
   "pygments_lexer": "ipython3",
   "version": "3.9.7"
  }
 },
 "nbformat": 4,
 "nbformat_minor": 5
}
