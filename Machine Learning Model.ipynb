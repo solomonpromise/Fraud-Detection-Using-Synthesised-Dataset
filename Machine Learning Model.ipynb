{
 "cells": [
  {
   "cell_type": "markdown",
   "id": "d8efc53f",
   "metadata": {},
   "source": [
    "### Importing Libraries"
   ]
  },
  {
   "cell_type": "code",
   "execution_count": 1,
   "id": "75d536a1",
   "metadata": {},
   "outputs": [],
   "source": [
    "import pandas as pd\n",
    "import numpy as np\n",
    "import matplotlib.pyplot as plt\n",
    "import seaborn as sns\n",
    "%matplotlib inline\n",
    "\n",
    "\n",
    "\n",
    "from sklearn.preprocessing import StandardScaler\n",
    "from featurewiz import featurewiz\n",
    "from imblearn.over_sampling import SMOTE\n",
    "from imblearn.under_sampling import RandomUnderSampler\n",
    "\n",
    "from sklearn.model_selection import train_test_split\n",
    "\n",
    "\n",
    "from sklearn import metrics\n",
    "from sklearn.metrics import confusion_matrix, accuracy_score,f1_score,recall_score, precision_score, classification_report\n",
    "from sklearn.metrics import roc_curve, roc_auc_score\n",
    "\n",
    "from sklearn.ensemble import RandomForestClassifier\n",
    "from lightgbm import LGBMClassifier\n",
    "import lightgbm as lgb\n",
    "from sklearn.linear_model import LogisticRegression\n",
    "from sklearn.tree import DecisionTreeClassifier \n",
    "from sklearn.linear_model import LogisticRegression\n",
    "import xgboost as xgb\n",
    "from xgboost import XGBClassifier"
   ]
  },
  {
   "cell_type": "markdown",
   "id": "ac825e0b",
   "metadata": {},
   "source": [
    "### Loading in the Dataset"
   ]
  },
  {
   "cell_type": "code",
   "execution_count": 2,
   "id": "e47441bd",
   "metadata": {},
   "outputs": [
    {
     "data": {
      "text/plain": [
       "(1122980, 38)"
      ]
     },
     "execution_count": 2,
     "metadata": {},
     "output_type": "execute_result"
    }
   ],
   "source": [
    "df = pd.read_parquet('Fraud_data.parquet')\n",
    "df.shape"
   ]
  },
  {
   "cell_type": "code",
   "execution_count": 3,
   "id": "0e47fd06",
   "metadata": {},
   "outputs": [
    {
     "data": {
      "text/html": [
       "<div>\n",
       "<style scoped>\n",
       "    .dataframe tbody tr th:only-of-type {\n",
       "        vertical-align: middle;\n",
       "    }\n",
       "\n",
       "    .dataframe tbody tr th {\n",
       "        vertical-align: top;\n",
       "    }\n",
       "\n",
       "    .dataframe thead th {\n",
       "        text-align: right;\n",
       "    }\n",
       "</style>\n",
       "<table border=\"1\" class=\"dataframe\">\n",
       "  <thead>\n",
       "    <tr style=\"text-align: right;\">\n",
       "      <th></th>\n",
       "      <th>npi</th>\n",
       "      <th>Tot_Drug_Cst_sum</th>\n",
       "      <th>Tot_Drug_Cst_mean</th>\n",
       "      <th>Tot_Drug_Cst_median</th>\n",
       "      <th>Tot_Drug_Cst_std</th>\n",
       "      <th>Tot_Drug_Cst_min</th>\n",
       "      <th>Tot_Drug_Cst_max</th>\n",
       "      <th>Tot_Clms_sum</th>\n",
       "      <th>Tot_Clms_mean</th>\n",
       "      <th>Tot_Clms_median</th>\n",
       "      <th>...</th>\n",
       "      <th>Tot_Benes_std</th>\n",
       "      <th>Tot_Benes_min</th>\n",
       "      <th>Tot_Benes_max</th>\n",
       "      <th>city</th>\n",
       "      <th>state</th>\n",
       "      <th>last_name</th>\n",
       "      <th>first_name</th>\n",
       "      <th>Speciality type</th>\n",
       "      <th>Total Payment Sum</th>\n",
       "      <th>Target</th>\n",
       "    </tr>\n",
       "  </thead>\n",
       "  <tbody>\n",
       "    <tr>\n",
       "      <th>0</th>\n",
       "      <td>1003000126</td>\n",
       "      <td>9798.06</td>\n",
       "      <td>544.34</td>\n",
       "      <td>150.98</td>\n",
       "      <td>1671.25</td>\n",
       "      <td>40.25</td>\n",
       "      <td>7234.67</td>\n",
       "      <td>336.0</td>\n",
       "      <td>18.67</td>\n",
       "      <td>15.0</td>\n",
       "      <td>...</td>\n",
       "      <td>5.57</td>\n",
       "      <td>11.00</td>\n",
       "      <td>30.00</td>\n",
       "      <td>CUMBERLAND</td>\n",
       "      <td>MD</td>\n",
       "      <td>ENKESHAFI</td>\n",
       "      <td>ARDALAN</td>\n",
       "      <td>INTERNAL MEDICINE</td>\n",
       "      <td>20.48</td>\n",
       "      <td>NOT_FRAUD</td>\n",
       "    </tr>\n",
       "    <tr>\n",
       "      <th>1</th>\n",
       "      <td>1003000142</td>\n",
       "      <td>44952.80</td>\n",
       "      <td>2809.55</td>\n",
       "      <td>833.06</td>\n",
       "      <td>6232.85</td>\n",
       "      <td>99.18</td>\n",
       "      <td>25818.67</td>\n",
       "      <td>972.0</td>\n",
       "      <td>60.75</td>\n",
       "      <td>34.5</td>\n",
       "      <td>...</td>\n",
       "      <td>26.02</td>\n",
       "      <td>11.00</td>\n",
       "      <td>105.00</td>\n",
       "      <td>TOLEDO</td>\n",
       "      <td>OH</td>\n",
       "      <td>KHALIL</td>\n",
       "      <td>RASHID</td>\n",
       "      <td>ANESTHESIOLOGY</td>\n",
       "      <td>251.31</td>\n",
       "      <td>NOT_FRAUD</td>\n",
       "    </tr>\n",
       "    <tr>\n",
       "      <th>2</th>\n",
       "      <td>1003000167</td>\n",
       "      <td>169.49</td>\n",
       "      <td>84.74</td>\n",
       "      <td>84.74</td>\n",
       "      <td>6.51</td>\n",
       "      <td>80.14</td>\n",
       "      <td>89.35</td>\n",
       "      <td>43.0</td>\n",
       "      <td>21.50</td>\n",
       "      <td>21.5</td>\n",
       "      <td>...</td>\n",
       "      <td>7.07</td>\n",
       "      <td>13.00</td>\n",
       "      <td>23.00</td>\n",
       "      <td>DAYTON</td>\n",
       "      <td>NV</td>\n",
       "      <td>ESCOBAR</td>\n",
       "      <td>JULIO</td>\n",
       "      <td>DENTIST</td>\n",
       "      <td>40.91</td>\n",
       "      <td>NOT_FRAUD</td>\n",
       "    </tr>\n",
       "    <tr>\n",
       "      <th>3</th>\n",
       "      <td>1003000282</td>\n",
       "      <td>95.03</td>\n",
       "      <td>95.03</td>\n",
       "      <td>95.03</td>\n",
       "      <td>10138.96</td>\n",
       "      <td>95.03</td>\n",
       "      <td>95.03</td>\n",
       "      <td>12.0</td>\n",
       "      <td>12.00</td>\n",
       "      <td>12.0</td>\n",
       "      <td>...</td>\n",
       "      <td>17.29</td>\n",
       "      <td>14.15</td>\n",
       "      <td>59.92</td>\n",
       "      <td>NASHVILLE</td>\n",
       "      <td>TN</td>\n",
       "      <td>BLAKEMORE</td>\n",
       "      <td>ROSIE</td>\n",
       "      <td>NURSE PRACTITIONER</td>\n",
       "      <td>0.00</td>\n",
       "      <td>NOT_FRAUD</td>\n",
       "    </tr>\n",
       "    <tr>\n",
       "      <th>4</th>\n",
       "      <td>1003000423</td>\n",
       "      <td>14671.45</td>\n",
       "      <td>2445.24</td>\n",
       "      <td>619.98</td>\n",
       "      <td>3704.95</td>\n",
       "      <td>172.77</td>\n",
       "      <td>9592.06</td>\n",
       "      <td>106.0</td>\n",
       "      <td>17.67</td>\n",
       "      <td>17.0</td>\n",
       "      <td>...</td>\n",
       "      <td>17.29</td>\n",
       "      <td>11.00</td>\n",
       "      <td>11.00</td>\n",
       "      <td>CLEVELAND</td>\n",
       "      <td>OH</td>\n",
       "      <td>VELOTTA</td>\n",
       "      <td>JENNIFER</td>\n",
       "      <td>OBSTETRICS &amp; GYNECOLOGY</td>\n",
       "      <td>122.10</td>\n",
       "      <td>NOT_FRAUD</td>\n",
       "    </tr>\n",
       "  </tbody>\n",
       "</table>\n",
       "<p>5 rows × 38 columns</p>\n",
       "</div>"
      ],
      "text/plain": [
       "          npi  Tot_Drug_Cst_sum  Tot_Drug_Cst_mean  Tot_Drug_Cst_median  \\\n",
       "0  1003000126           9798.06             544.34               150.98   \n",
       "1  1003000142          44952.80            2809.55               833.06   \n",
       "2  1003000167            169.49              84.74                84.74   \n",
       "3  1003000282             95.03              95.03                95.03   \n",
       "4  1003000423          14671.45            2445.24               619.98   \n",
       "\n",
       "   Tot_Drug_Cst_std  Tot_Drug_Cst_min  Tot_Drug_Cst_max  Tot_Clms_sum  \\\n",
       "0           1671.25             40.25           7234.67         336.0   \n",
       "1           6232.85             99.18          25818.67         972.0   \n",
       "2              6.51             80.14             89.35          43.0   \n",
       "3          10138.96             95.03             95.03          12.0   \n",
       "4           3704.95            172.77           9592.06         106.0   \n",
       "\n",
       "   Tot_Clms_mean  Tot_Clms_median  ...  Tot_Benes_std  Tot_Benes_min  \\\n",
       "0          18.67             15.0  ...           5.57          11.00   \n",
       "1          60.75             34.5  ...          26.02          11.00   \n",
       "2          21.50             21.5  ...           7.07          13.00   \n",
       "3          12.00             12.0  ...          17.29          14.15   \n",
       "4          17.67             17.0  ...          17.29          11.00   \n",
       "\n",
       "   Tot_Benes_max        city  state  last_name  first_name  \\\n",
       "0          30.00  CUMBERLAND     MD  ENKESHAFI     ARDALAN   \n",
       "1         105.00      TOLEDO     OH     KHALIL      RASHID   \n",
       "2          23.00      DAYTON     NV    ESCOBAR       JULIO   \n",
       "3          59.92   NASHVILLE     TN  BLAKEMORE       ROSIE   \n",
       "4          11.00   CLEVELAND     OH    VELOTTA    JENNIFER   \n",
       "\n",
       "           Speciality type  Total Payment Sum     Target  \n",
       "0        INTERNAL MEDICINE              20.48  NOT_FRAUD  \n",
       "1           ANESTHESIOLOGY             251.31  NOT_FRAUD  \n",
       "2                  DENTIST              40.91  NOT_FRAUD  \n",
       "3       NURSE PRACTITIONER               0.00  NOT_FRAUD  \n",
       "4  OBSTETRICS & GYNECOLOGY             122.10  NOT_FRAUD  \n",
       "\n",
       "[5 rows x 38 columns]"
      ]
     },
     "execution_count": 3,
     "metadata": {},
     "output_type": "execute_result"
    }
   ],
   "source": [
    "df.head()"
   ]
  },
  {
   "cell_type": "code",
   "execution_count": 4,
   "id": "aa35ab1d",
   "metadata": {},
   "outputs": [
    {
     "data": {
      "text/plain": [
       "NOT_FRAUD    1122744\n",
       "FRAUD            236\n",
       "Name: Target, dtype: int64"
      ]
     },
     "execution_count": 4,
     "metadata": {},
     "output_type": "execute_result"
    }
   ],
   "source": [
    "df['Target'].value_counts()"
   ]
  },
  {
   "cell_type": "code",
   "execution_count": 5,
   "id": "d5a4d64e",
   "metadata": {},
   "outputs": [
    {
     "data": {
      "text/plain": [
       "Index(['npi', 'Tot_Drug_Cst_sum', 'Tot_Drug_Cst_mean', 'Tot_Drug_Cst_median',\n",
       "       'Tot_Drug_Cst_std', 'Tot_Drug_Cst_min', 'Tot_Drug_Cst_max',\n",
       "       'Tot_Clms_sum', 'Tot_Clms_mean', 'Tot_Clms_median', 'Tot_Clms_std',\n",
       "       'Tot_Clms_min', 'Tot_Clms_max', 'Tot_Day_Suply_sum',\n",
       "       'Tot_Day_Suply_mean', 'Tot_Day_Suply_median', 'Tot_Day_Suply_std',\n",
       "       'Tot_Day_Suply_min', 'Tot_Day_Suply_max', 'Tot_30day_Fills_sum',\n",
       "       'Tot_30day_Fills_mean', 'Tot_30day_Fills_median', 'Tot_30day_Fills_std',\n",
       "       'Tot_30day_Fills_min', 'Tot_30day_Fills_max', 'Tot_Benes_sum',\n",
       "       'Tot_Benes_mean', 'Tot_Benes_median', 'Tot_Benes_std', 'Tot_Benes_min',\n",
       "       'Tot_Benes_max', 'city', 'state', 'last_name', 'first_name',\n",
       "       'Speciality type', 'Total Payment Sum', 'Target'],\n",
       "      dtype='object')"
      ]
     },
     "execution_count": 5,
     "metadata": {},
     "output_type": "execute_result"
    }
   ],
   "source": [
    "df.columns"
   ]
  },
  {
   "cell_type": "code",
   "execution_count": 6,
   "id": "4a831e55",
   "metadata": {},
   "outputs": [],
   "source": [
    "df.drop(labels = ['city', 'Speciality type', 'state', 'last_name', 'first_name'], axis =1, inplace = True)"
   ]
  },
  {
   "cell_type": "code",
   "execution_count": 7,
   "id": "24cf3bd1",
   "metadata": {},
   "outputs": [
    {
     "data": {
      "text/plain": [
       "Index(['npi', 'Tot_Drug_Cst_sum', 'Tot_Drug_Cst_mean', 'Tot_Drug_Cst_median',\n",
       "       'Tot_Drug_Cst_std', 'Tot_Drug_Cst_min', 'Tot_Drug_Cst_max',\n",
       "       'Tot_Clms_sum', 'Tot_Clms_mean', 'Tot_Clms_median', 'Tot_Clms_std',\n",
       "       'Tot_Clms_min', 'Tot_Clms_max', 'Tot_Day_Suply_sum',\n",
       "       'Tot_Day_Suply_mean', 'Tot_Day_Suply_median', 'Tot_Day_Suply_std',\n",
       "       'Tot_Day_Suply_min', 'Tot_Day_Suply_max', 'Tot_30day_Fills_sum',\n",
       "       'Tot_30day_Fills_mean', 'Tot_30day_Fills_median', 'Tot_30day_Fills_std',\n",
       "       'Tot_30day_Fills_min', 'Tot_30day_Fills_max', 'Tot_Benes_sum',\n",
       "       'Tot_Benes_mean', 'Tot_Benes_median', 'Tot_Benes_std', 'Tot_Benes_min',\n",
       "       'Tot_Benes_max', 'Total Payment Sum', 'Target'],\n",
       "      dtype='object')"
      ]
     },
     "execution_count": 7,
     "metadata": {},
     "output_type": "execute_result"
    }
   ],
   "source": [
    "df.columns"
   ]
  },
  {
   "cell_type": "code",
   "execution_count": 8,
   "id": "493150ee",
   "metadata": {},
   "outputs": [],
   "source": [
    "df['Target'] = df['Target'].map({'FRAUD': 1, 'NOT_FRAUD': 0}).astype(int)"
   ]
  },
  {
   "cell_type": "code",
   "execution_count": 9,
   "id": "4ae92d20",
   "metadata": {},
   "outputs": [
    {
     "data": {
      "text/plain": [
       "npi                         int64\n",
       "Tot_Drug_Cst_sum          float64\n",
       "Tot_Drug_Cst_mean         float64\n",
       "Tot_Drug_Cst_median       float64\n",
       "Tot_Drug_Cst_std          float64\n",
       "Tot_Drug_Cst_min          float64\n",
       "Tot_Drug_Cst_max          float64\n",
       "Tot_Clms_sum              float64\n",
       "Tot_Clms_mean             float64\n",
       "Tot_Clms_median           float64\n",
       "Tot_Clms_std              float64\n",
       "Tot_Clms_min              float64\n",
       "Tot_Clms_max              float64\n",
       "Tot_Day_Suply_sum         float64\n",
       "Tot_Day_Suply_mean        float64\n",
       "Tot_Day_Suply_median      float64\n",
       "Tot_Day_Suply_std         float64\n",
       "Tot_Day_Suply_min         float64\n",
       "Tot_Day_Suply_max         float64\n",
       "Tot_30day_Fills_sum       float64\n",
       "Tot_30day_Fills_mean      float64\n",
       "Tot_30day_Fills_median    float64\n",
       "Tot_30day_Fills_std       float64\n",
       "Tot_30day_Fills_min       float64\n",
       "Tot_30day_Fills_max       float64\n",
       "Tot_Benes_sum             float64\n",
       "Tot_Benes_mean            float64\n",
       "Tot_Benes_median          float64\n",
       "Tot_Benes_std             float64\n",
       "Tot_Benes_min             float64\n",
       "Tot_Benes_max             float64\n",
       "Total Payment Sum         float64\n",
       "Target                      int64\n",
       "dtype: object"
      ]
     },
     "execution_count": 9,
     "metadata": {},
     "output_type": "execute_result"
    }
   ],
   "source": [
    "df.dtypes"
   ]
  },
  {
   "cell_type": "markdown",
   "id": "94d2bc3f",
   "metadata": {},
   "source": [
    "### Dealing with Data Imbalance"
   ]
  },
  {
   "cell_type": "code",
   "execution_count": 10,
   "id": "70059a13",
   "metadata": {},
   "outputs": [
    {
     "data": {
      "text/plain": [
       "0    1122744\n",
       "1        236\n",
       "Name: Target, dtype: int64"
      ]
     },
     "execution_count": 10,
     "metadata": {},
     "output_type": "execute_result"
    }
   ],
   "source": [
    "df['Target'].value_counts()"
   ]
  },
  {
   "cell_type": "code",
   "execution_count": 11,
   "id": "6826e5ab",
   "metadata": {},
   "outputs": [
    {
     "data": {
      "image/png": "[encoded data removed]",
      "text/plain": [
       "<Figure size 576x360 with 1 Axes>"
      ]
     },
     "metadata": {
      "needs_background": "light"
     },
     "output_type": "display_data"
    }
   ],
   "source": [
    "ax = df[\"Target\"].value_counts().sort_values().plot(kind = 'barh', figsize=(8,5))\n",
    "plt.title(\"Target\", fontdict={'size': 10})\n",
    "for p in ax.patches:\n",
    "    percentage ='{:,.1f}%'.format((p.get_width()/df.shape[0])*100)\n",
    "    width, height =p.get_width(),p.get_height()\n",
    "    x=p.get_x()+width+0.02\n",
    "    y=p.get_y()+height/2\n",
    "    ax.annotate(percentage,(x,y))"
   ]
  },
  {
   "cell_type": "markdown",
   "id": "b512ddeb",
   "metadata": {},
   "source": [
    "### Oversampling"
   ]
  },
  {
   "cell_type": "code",
   "execution_count": 12,
   "id": "1ed82bb2",
   "metadata": {},
   "outputs": [],
   "source": [
    "# Resampling the minority class. The strategy can be changed as required.\n",
    "sm = SMOTE(sampling_strategy='minority', random_state=42)"
   ]
  },
  {
   "cell_type": "code",
   "execution_count": 13,
   "id": "6bf09ed1",
   "metadata": {},
   "outputs": [],
   "source": [
    "# Fit the model to generate the data.\n",
    "oversampled_X, oversampled_Y = sm.fit_resample(df.drop('Target', axis=1), df['Target'])\n",
    "\n",
    "oversampled = pd.concat([pd.DataFrame(oversampled_Y), pd.DataFrame(oversampled_X)], axis=1)"
   ]
  },
  {
   "cell_type": "code",
   "execution_count": 14,
   "id": "1cb31ffd",
   "metadata": {},
   "outputs": [
    {
     "data": {
      "text/plain": [
       "0    1122744\n",
       "1    1122744\n",
       "Name: Target, dtype: int64"
      ]
     },
     "execution_count": 14,
     "metadata": {},
     "output_type": "execute_result"
    }
   ],
   "source": [
    "oversampled['Target'].value_counts()"
   ]
  },
  {
   "cell_type": "code",
   "execution_count": 15,
   "id": "e3c9f720",
   "metadata": {},
   "outputs": [
    {
     "data": {
      "image/png": "[encoded data removed]",
      "text/plain": [
       "<Figure size 576x360 with 1 Axes>"
      ]
     },
     "metadata": {
      "needs_background": "light"
     },
     "output_type": "display_data"
    }
   ],
   "source": [
    "ax = oversampled[\"Target\"].value_counts().sort_values().plot(kind = 'barh', figsize=(8,5))\n",
    "plt.title(\"Target\", fontdict={'size': 10})\n",
    "for p in ax.patches:\n",
    "    percentage ='{:,.1f}%'.format((p.get_width()/oversampled.shape[0])*100)\n",
    "    width, height =p.get_width(),p.get_height()\n",
    "    x=p.get_x()+width+0.02\n",
    "    y=p.get_y()+height/2\n",
    "    ax.annotate(percentage,(x,y))"
   ]
  },
  {
   "cell_type": "code",
   "execution_count": 16,
   "id": "54f2401b",
   "metadata": {},
   "outputs": [
    {
     "data": {
      "text/plain": [
       "(2245488, 33)"
      ]
     },
     "execution_count": 16,
     "metadata": {},
     "output_type": "execute_result"
    }
   ],
   "source": [
    "oversampled.shape"
   ]
  },
  {
   "cell_type": "code",
   "execution_count": 17,
   "id": "0a218b67",
   "metadata": {},
   "outputs": [
    {
     "data": {
      "text/html": [
       "<div>\n",
       "<style scoped>\n",
       "    .dataframe tbody tr th:only-of-type {\n",
       "        vertical-align: middle;\n",
       "    }\n",
       "\n",
       "    .dataframe tbody tr th {\n",
       "        vertical-align: top;\n",
       "    }\n",
       "\n",
       "    .dataframe thead th {\n",
       "        text-align: right;\n",
       "    }\n",
       "</style>\n",
       "<table border=\"1\" class=\"dataframe\">\n",
       "  <thead>\n",
       "    <tr style=\"text-align: right;\">\n",
       "      <th></th>\n",
       "      <th>Target</th>\n",
       "      <th>npi</th>\n",
       "      <th>Tot_Drug_Cst_sum</th>\n",
       "      <th>Tot_Drug_Cst_mean</th>\n",
       "      <th>Tot_Drug_Cst_median</th>\n",
       "      <th>Tot_Drug_Cst_std</th>\n",
       "      <th>Tot_Drug_Cst_min</th>\n",
       "      <th>Tot_Drug_Cst_max</th>\n",
       "      <th>Tot_Clms_sum</th>\n",
       "      <th>Tot_Clms_mean</th>\n",
       "      <th>...</th>\n",
       "      <th>Tot_30day_Fills_std</th>\n",
       "      <th>Tot_30day_Fills_min</th>\n",
       "      <th>Tot_30day_Fills_max</th>\n",
       "      <th>Tot_Benes_sum</th>\n",
       "      <th>Tot_Benes_mean</th>\n",
       "      <th>Tot_Benes_median</th>\n",
       "      <th>Tot_Benes_std</th>\n",
       "      <th>Tot_Benes_min</th>\n",
       "      <th>Tot_Benes_max</th>\n",
       "      <th>Total Payment Sum</th>\n",
       "    </tr>\n",
       "  </thead>\n",
       "  <tbody>\n",
       "    <tr>\n",
       "      <th>0</th>\n",
       "      <td>0</td>\n",
       "      <td>1003000126</td>\n",
       "      <td>9798.06</td>\n",
       "      <td>544.34</td>\n",
       "      <td>150.98</td>\n",
       "      <td>1671.25</td>\n",
       "      <td>40.25</td>\n",
       "      <td>7234.67</td>\n",
       "      <td>336.0</td>\n",
       "      <td>18.67</td>\n",
       "      <td>...</td>\n",
       "      <td>10.70</td>\n",
       "      <td>12.0</td>\n",
       "      <td>50.0</td>\n",
       "      <td>181.0</td>\n",
       "      <td>15.08</td>\n",
       "      <td>13.50</td>\n",
       "      <td>5.57</td>\n",
       "      <td>11.00</td>\n",
       "      <td>30.00</td>\n",
       "      <td>20.48</td>\n",
       "    </tr>\n",
       "    <tr>\n",
       "      <th>1</th>\n",
       "      <td>0</td>\n",
       "      <td>1003000142</td>\n",
       "      <td>44952.80</td>\n",
       "      <td>2809.55</td>\n",
       "      <td>833.06</td>\n",
       "      <td>6232.85</td>\n",
       "      <td>99.18</td>\n",
       "      <td>25818.67</td>\n",
       "      <td>972.0</td>\n",
       "      <td>60.75</td>\n",
       "      <td>...</td>\n",
       "      <td>68.81</td>\n",
       "      <td>14.0</td>\n",
       "      <td>284.5</td>\n",
       "      <td>414.0</td>\n",
       "      <td>31.85</td>\n",
       "      <td>30.00</td>\n",
       "      <td>26.02</td>\n",
       "      <td>11.00</td>\n",
       "      <td>105.00</td>\n",
       "      <td>251.31</td>\n",
       "    </tr>\n",
       "    <tr>\n",
       "      <th>2</th>\n",
       "      <td>0</td>\n",
       "      <td>1003000167</td>\n",
       "      <td>169.49</td>\n",
       "      <td>84.74</td>\n",
       "      <td>84.74</td>\n",
       "      <td>6.51</td>\n",
       "      <td>80.14</td>\n",
       "      <td>89.35</td>\n",
       "      <td>43.0</td>\n",
       "      <td>21.50</td>\n",
       "      <td>...</td>\n",
       "      <td>10.61</td>\n",
       "      <td>14.0</td>\n",
       "      <td>29.0</td>\n",
       "      <td>36.0</td>\n",
       "      <td>18.00</td>\n",
       "      <td>18.00</td>\n",
       "      <td>7.07</td>\n",
       "      <td>13.00</td>\n",
       "      <td>23.00</td>\n",
       "      <td>40.91</td>\n",
       "    </tr>\n",
       "    <tr>\n",
       "      <th>3</th>\n",
       "      <td>0</td>\n",
       "      <td>1003000282</td>\n",
       "      <td>95.03</td>\n",
       "      <td>95.03</td>\n",
       "      <td>95.03</td>\n",
       "      <td>10138.96</td>\n",
       "      <td>95.03</td>\n",
       "      <td>95.03</td>\n",
       "      <td>12.0</td>\n",
       "      <td>12.00</td>\n",
       "      <td>...</td>\n",
       "      <td>60.71</td>\n",
       "      <td>14.0</td>\n",
       "      <td>14.0</td>\n",
       "      <td>0.0</td>\n",
       "      <td>25.31</td>\n",
       "      <td>21.12</td>\n",
       "      <td>17.29</td>\n",
       "      <td>14.15</td>\n",
       "      <td>59.92</td>\n",
       "      <td>0.00</td>\n",
       "    </tr>\n",
       "    <tr>\n",
       "      <th>4</th>\n",
       "      <td>0</td>\n",
       "      <td>1003000423</td>\n",
       "      <td>14671.45</td>\n",
       "      <td>2445.24</td>\n",
       "      <td>619.98</td>\n",
       "      <td>3704.95</td>\n",
       "      <td>172.77</td>\n",
       "      <td>9592.06</td>\n",
       "      <td>106.0</td>\n",
       "      <td>17.67</td>\n",
       "      <td>...</td>\n",
       "      <td>15.99</td>\n",
       "      <td>13.0</td>\n",
       "      <td>53.5</td>\n",
       "      <td>11.0</td>\n",
       "      <td>11.00</td>\n",
       "      <td>11.00</td>\n",
       "      <td>17.29</td>\n",
       "      <td>11.00</td>\n",
       "      <td>11.00</td>\n",
       "      <td>122.10</td>\n",
       "    </tr>\n",
       "    <tr>\n",
       "      <th>5</th>\n",
       "      <td>0</td>\n",
       "      <td>1003000522</td>\n",
       "      <td>201025.29</td>\n",
       "      <td>2209.07</td>\n",
       "      <td>678.87</td>\n",
       "      <td>5495.42</td>\n",
       "      <td>103.04</td>\n",
       "      <td>38210.06</td>\n",
       "      <td>4712.0</td>\n",
       "      <td>51.78</td>\n",
       "      <td>...</td>\n",
       "      <td>183.27</td>\n",
       "      <td>11.0</td>\n",
       "      <td>1257.8</td>\n",
       "      <td>1300.0</td>\n",
       "      <td>28.26</td>\n",
       "      <td>19.00</td>\n",
       "      <td>23.58</td>\n",
       "      <td>11.00</td>\n",
       "      <td>143.00</td>\n",
       "      <td>240.38</td>\n",
       "    </tr>\n",
       "    <tr>\n",
       "      <th>6</th>\n",
       "      <td>0</td>\n",
       "      <td>1003000522</td>\n",
       "      <td>201025.29</td>\n",
       "      <td>2209.07</td>\n",
       "      <td>678.87</td>\n",
       "      <td>5495.42</td>\n",
       "      <td>103.04</td>\n",
       "      <td>38210.06</td>\n",
       "      <td>4712.0</td>\n",
       "      <td>51.78</td>\n",
       "      <td>...</td>\n",
       "      <td>183.27</td>\n",
       "      <td>11.0</td>\n",
       "      <td>1257.8</td>\n",
       "      <td>1300.0</td>\n",
       "      <td>28.26</td>\n",
       "      <td>19.00</td>\n",
       "      <td>23.58</td>\n",
       "      <td>11.00</td>\n",
       "      <td>143.00</td>\n",
       "      <td>80.72</td>\n",
       "    </tr>\n",
       "    <tr>\n",
       "      <th>7</th>\n",
       "      <td>0</td>\n",
       "      <td>1003000522</td>\n",
       "      <td>201025.29</td>\n",
       "      <td>2209.07</td>\n",
       "      <td>678.87</td>\n",
       "      <td>5495.42</td>\n",
       "      <td>103.04</td>\n",
       "      <td>38210.06</td>\n",
       "      <td>4712.0</td>\n",
       "      <td>51.78</td>\n",
       "      <td>...</td>\n",
       "      <td>183.27</td>\n",
       "      <td>11.0</td>\n",
       "      <td>1257.8</td>\n",
       "      <td>1300.0</td>\n",
       "      <td>28.26</td>\n",
       "      <td>19.00</td>\n",
       "      <td>23.58</td>\n",
       "      <td>11.00</td>\n",
       "      <td>143.00</td>\n",
       "      <td>21.30</td>\n",
       "    </tr>\n",
       "    <tr>\n",
       "      <th>8</th>\n",
       "      <td>0</td>\n",
       "      <td>1003000530</td>\n",
       "      <td>251485.92</td>\n",
       "      <td>2350.34</td>\n",
       "      <td>798.45</td>\n",
       "      <td>3889.58</td>\n",
       "      <td>39.77</td>\n",
       "      <td>20687.93</td>\n",
       "      <td>5897.0</td>\n",
       "      <td>55.11</td>\n",
       "      <td>...</td>\n",
       "      <td>139.91</td>\n",
       "      <td>11.0</td>\n",
       "      <td>654.7</td>\n",
       "      <td>1029.0</td>\n",
       "      <td>28.58</td>\n",
       "      <td>19.50</td>\n",
       "      <td>18.02</td>\n",
       "      <td>12.00</td>\n",
       "      <td>72.00</td>\n",
       "      <td>0.00</td>\n",
       "    </tr>\n",
       "    <tr>\n",
       "      <th>9</th>\n",
       "      <td>0</td>\n",
       "      <td>1003000597</td>\n",
       "      <td>100145.60</td>\n",
       "      <td>5007.28</td>\n",
       "      <td>850.42</td>\n",
       "      <td>14063.88</td>\n",
       "      <td>46.70</td>\n",
       "      <td>63754.89</td>\n",
       "      <td>1422.0</td>\n",
       "      <td>71.10</td>\n",
       "      <td>...</td>\n",
       "      <td>208.94</td>\n",
       "      <td>11.0</td>\n",
       "      <td>927.2</td>\n",
       "      <td>647.0</td>\n",
       "      <td>49.77</td>\n",
       "      <td>31.00</td>\n",
       "      <td>50.49</td>\n",
       "      <td>11.00</td>\n",
       "      <td>142.00</td>\n",
       "      <td>720.60</td>\n",
       "    </tr>\n",
       "  </tbody>\n",
       "</table>\n",
       "<p>10 rows × 33 columns</p>\n",
       "</div>"
      ],
      "text/plain": [
       "   Target         npi  Tot_Drug_Cst_sum  Tot_Drug_Cst_mean  \\\n",
       "0       0  1003000126           9798.06             544.34   \n",
       "1       0  1003000142          44952.80            2809.55   \n",
       "2       0  1003000167            169.49              84.74   \n",
       "3       0  1003000282             95.03              95.03   \n",
       "4       0  1003000423          14671.45            2445.24   \n",
       "5       0  1003000522         201025.29            2209.07   \n",
       "6       0  1003000522         201025.29            2209.07   \n",
       "7       0  1003000522         201025.29            2209.07   \n",
       "8       0  1003000530         251485.92            2350.34   \n",
       "9       0  1003000597         100145.60            5007.28   \n",
       "\n",
       "   Tot_Drug_Cst_median  Tot_Drug_Cst_std  Tot_Drug_Cst_min  Tot_Drug_Cst_max  \\\n",
       "0               150.98           1671.25             40.25           7234.67   \n",
       "1               833.06           6232.85             99.18          25818.67   \n",
       "2                84.74              6.51             80.14             89.35   \n",
       "3                95.03          10138.96             95.03             95.03   \n",
       "4               619.98           3704.95            172.77           9592.06   \n",
       "5               678.87           5495.42            103.04          38210.06   \n",
       "6               678.87           5495.42            103.04          38210.06   \n",
       "7               678.87           5495.42            103.04          38210.06   \n",
       "8               798.45           3889.58             39.77          20687.93   \n",
       "9               850.42          14063.88             46.70          63754.89   \n",
       "\n",
       "   Tot_Clms_sum  Tot_Clms_mean  ...  Tot_30day_Fills_std  Tot_30day_Fills_min  \\\n",
       "0         336.0          18.67  ...                10.70                 12.0   \n",
       "1         972.0          60.75  ...                68.81                 14.0   \n",
       "2          43.0          21.50  ...                10.61                 14.0   \n",
       "3          12.0          12.00  ...                60.71                 14.0   \n",
       "4         106.0          17.67  ...                15.99                 13.0   \n",
       "5        4712.0          51.78  ...               183.27                 11.0   \n",
       "6        4712.0          51.78  ...               183.27                 11.0   \n",
       "7        4712.0          51.78  ...               183.27                 11.0   \n",
       "8        5897.0          55.11  ...               139.91                 11.0   \n",
       "9        1422.0          71.10  ...               208.94                 11.0   \n",
       "\n",
       "   Tot_30day_Fills_max  Tot_Benes_sum  Tot_Benes_mean  Tot_Benes_median  \\\n",
       "0                 50.0          181.0           15.08             13.50   \n",
       "1                284.5          414.0           31.85             30.00   \n",
       "2                 29.0           36.0           18.00             18.00   \n",
       "3                 14.0            0.0           25.31             21.12   \n",
       "4                 53.5           11.0           11.00             11.00   \n",
       "5               1257.8         1300.0           28.26             19.00   \n",
       "6               1257.8         1300.0           28.26             19.00   \n",
       "7               1257.8         1300.0           28.26             19.00   \n",
       "8                654.7         1029.0           28.58             19.50   \n",
       "9                927.2          647.0           49.77             31.00   \n",
       "\n",
       "   Tot_Benes_std  Tot_Benes_min  Tot_Benes_max  Total Payment Sum  \n",
       "0           5.57          11.00          30.00              20.48  \n",
       "1          26.02          11.00         105.00             251.31  \n",
       "2           7.07          13.00          23.00              40.91  \n",
       "3          17.29          14.15          59.92               0.00  \n",
       "4          17.29          11.00          11.00             122.10  \n",
       "5          23.58          11.00         143.00             240.38  \n",
       "6          23.58          11.00         143.00              80.72  \n",
       "7          23.58          11.00         143.00              21.30  \n",
       "8          18.02          12.00          72.00               0.00  \n",
       "9          50.49          11.00         142.00             720.60  \n",
       "\n",
       "[10 rows x 33 columns]"
      ]
     },
     "execution_count": 17,
     "metadata": {},
     "output_type": "execute_result"
    }
   ],
   "source": [
    "oversampled.head(10)"
   ]
  },
  {
   "cell_type": "markdown",
   "id": "be6c2385",
   "metadata": {},
   "source": [
    "### Shuffling the Dataset"
   ]
  },
  {
   "cell_type": "code",
   "execution_count": 18,
   "id": "81d4afc4",
   "metadata": {},
   "outputs": [],
   "source": [
    "# Shuffling a Pandas dataframe with .shuffle()\n",
    "df_new = oversampled.sample(frac=1, random_state=1).reset_index()"
   ]
  },
  {
   "cell_type": "code",
   "execution_count": 19,
   "id": "23936e08",
   "metadata": {},
   "outputs": [
    {
     "data": {
      "text/html": [
       "<div>\n",
       "<style scoped>\n",
       "    .dataframe tbody tr th:only-of-type {\n",
       "        vertical-align: middle;\n",
       "    }\n",
       "\n",
       "    .dataframe tbody tr th {\n",
       "        vertical-align: top;\n",
       "    }\n",
       "\n",
       "    .dataframe thead th {\n",
       "        text-align: right;\n",
       "    }\n",
       "</style>\n",
       "<table border=\"1\" class=\"dataframe\">\n",
       "  <thead>\n",
       "    <tr style=\"text-align: right;\">\n",
       "      <th></th>\n",
       "      <th>index</th>\n",
       "      <th>Target</th>\n",
       "      <th>npi</th>\n",
       "      <th>Tot_Drug_Cst_sum</th>\n",
       "      <th>Tot_Drug_Cst_mean</th>\n",
       "      <th>Tot_Drug_Cst_median</th>\n",
       "      <th>Tot_Drug_Cst_std</th>\n",
       "      <th>Tot_Drug_Cst_min</th>\n",
       "      <th>Tot_Drug_Cst_max</th>\n",
       "      <th>Tot_Clms_sum</th>\n",
       "      <th>...</th>\n",
       "      <th>Tot_30day_Fills_std</th>\n",
       "      <th>Tot_30day_Fills_min</th>\n",
       "      <th>Tot_30day_Fills_max</th>\n",
       "      <th>Tot_Benes_sum</th>\n",
       "      <th>Tot_Benes_mean</th>\n",
       "      <th>Tot_Benes_median</th>\n",
       "      <th>Tot_Benes_std</th>\n",
       "      <th>Tot_Benes_min</th>\n",
       "      <th>Tot_Benes_max</th>\n",
       "      <th>Total Payment Sum</th>\n",
       "    </tr>\n",
       "  </thead>\n",
       "  <tbody>\n",
       "    <tr>\n",
       "      <th>0</th>\n",
       "      <td>1528976</td>\n",
       "      <td>1</td>\n",
       "      <td>1712803439</td>\n",
       "      <td>1.876849e+03</td>\n",
       "      <td>1438.684935</td>\n",
       "      <td>1414.363075</td>\n",
       "      <td>2958.333698</td>\n",
       "      <td>1271.553824</td>\n",
       "      <td>1630.130647</td>\n",
       "      <td>45.780770</td>\n",
       "      <td>...</td>\n",
       "      <td>28.844733</td>\n",
       "      <td>19.931563</td>\n",
       "      <td>43.164385</td>\n",
       "      <td>0.000000</td>\n",
       "      <td>25.310000</td>\n",
       "      <td>21.120000</td>\n",
       "      <td>17.290000</td>\n",
       "      <td>14.150000</td>\n",
       "      <td>59.920000</td>\n",
       "      <td>0.000000</td>\n",
       "    </tr>\n",
       "    <tr>\n",
       "      <th>1</th>\n",
       "      <td>1632869</td>\n",
       "      <td>1</td>\n",
       "      <td>1477040842</td>\n",
       "      <td>1.644307e+05</td>\n",
       "      <td>1630.492909</td>\n",
       "      <td>467.321451</td>\n",
       "      <td>3489.554784</td>\n",
       "      <td>34.974082</td>\n",
       "      <td>22305.915037</td>\n",
       "      <td>3305.925410</td>\n",
       "      <td>...</td>\n",
       "      <td>59.503278</td>\n",
       "      <td>11.000000</td>\n",
       "      <td>265.708806</td>\n",
       "      <td>952.459481</td>\n",
       "      <td>22.596633</td>\n",
       "      <td>20.364523</td>\n",
       "      <td>12.958194</td>\n",
       "      <td>11.379336</td>\n",
       "      <td>53.940749</td>\n",
       "      <td>10.961929</td>\n",
       "    </tr>\n",
       "    <tr>\n",
       "      <th>2</th>\n",
       "      <td>1467053</td>\n",
       "      <td>1</td>\n",
       "      <td>1436364689</td>\n",
       "      <td>2.594246e+04</td>\n",
       "      <td>801.252679</td>\n",
       "      <td>194.258726</td>\n",
       "      <td>2620.659771</td>\n",
       "      <td>41.078258</td>\n",
       "      <td>14918.461280</td>\n",
       "      <td>833.254580</td>\n",
       "      <td>...</td>\n",
       "      <td>15.489857</td>\n",
       "      <td>11.000000</td>\n",
       "      <td>72.106799</td>\n",
       "      <td>742.152127</td>\n",
       "      <td>23.752800</td>\n",
       "      <td>18.208631</td>\n",
       "      <td>13.096209</td>\n",
       "      <td>11.029804</td>\n",
       "      <td>60.546725</td>\n",
       "      <td>0.000000</td>\n",
       "    </tr>\n",
       "    <tr>\n",
       "      <th>3</th>\n",
       "      <td>1205790</td>\n",
       "      <td>1</td>\n",
       "      <td>1927711963</td>\n",
       "      <td>1.462940e+02</td>\n",
       "      <td>119.037323</td>\n",
       "      <td>119.037323</td>\n",
       "      <td>5685.323697</td>\n",
       "      <td>113.876368</td>\n",
       "      <td>124.193879</td>\n",
       "      <td>20.319937</td>\n",
       "      <td>...</td>\n",
       "      <td>33.998865</td>\n",
       "      <td>29.872702</td>\n",
       "      <td>29.872702</td>\n",
       "      <td>18.639875</td>\n",
       "      <td>13.800104</td>\n",
       "      <td>13.800104</td>\n",
       "      <td>9.682760</td>\n",
       "      <td>13.800104</td>\n",
       "      <td>13.800104</td>\n",
       "      <td>0.000000</td>\n",
       "    </tr>\n",
       "    <tr>\n",
       "      <th>4</th>\n",
       "      <td>1210282</td>\n",
       "      <td>1</td>\n",
       "      <td>1638667288</td>\n",
       "      <td>2.282289e+05</td>\n",
       "      <td>1842.352277</td>\n",
       "      <td>770.967213</td>\n",
       "      <td>3403.142045</td>\n",
       "      <td>74.626677</td>\n",
       "      <td>21181.450423</td>\n",
       "      <td>6006.575455</td>\n",
       "      <td>...</td>\n",
       "      <td>61.849998</td>\n",
       "      <td>11.095941</td>\n",
       "      <td>277.430988</td>\n",
       "      <td>803.512889</td>\n",
       "      <td>21.301956</td>\n",
       "      <td>18.625683</td>\n",
       "      <td>9.683284</td>\n",
       "      <td>11.151107</td>\n",
       "      <td>43.811661</td>\n",
       "      <td>0.000000</td>\n",
       "    </tr>\n",
       "    <tr>\n",
       "      <th>5</th>\n",
       "      <td>1891959</td>\n",
       "      <td>1</td>\n",
       "      <td>1682656767</td>\n",
       "      <td>1.785224e+04</td>\n",
       "      <td>937.441399</td>\n",
       "      <td>316.883299</td>\n",
       "      <td>1764.678378</td>\n",
       "      <td>33.183158</td>\n",
       "      <td>6874.885638</td>\n",
       "      <td>566.599871</td>\n",
       "      <td>...</td>\n",
       "      <td>39.628643</td>\n",
       "      <td>11.000000</td>\n",
       "      <td>178.766724</td>\n",
       "      <td>48.618291</td>\n",
       "      <td>27.283465</td>\n",
       "      <td>25.230915</td>\n",
       "      <td>17.785443</td>\n",
       "      <td>22.769085</td>\n",
       "      <td>33.847316</td>\n",
       "      <td>103.840704</td>\n",
       "    </tr>\n",
       "    <tr>\n",
       "      <th>6</th>\n",
       "      <td>285763</td>\n",
       "      <td>0</td>\n",
       "      <td>1255447421</td>\n",
       "      <td>1.782543e+06</td>\n",
       "      <td>7158.810000</td>\n",
       "      <td>2212.360000</td>\n",
       "      <td>15862.760000</td>\n",
       "      <td>19.440000</td>\n",
       "      <td>113976.890000</td>\n",
       "      <td>19952.000000</td>\n",
       "      <td>...</td>\n",
       "      <td>156.150000</td>\n",
       "      <td>11.000000</td>\n",
       "      <td>1683.200000</td>\n",
       "      <td>3210.000000</td>\n",
       "      <td>29.720000</td>\n",
       "      <td>22.000000</td>\n",
       "      <td>28.040000</td>\n",
       "      <td>11.000000</td>\n",
       "      <td>231.000000</td>\n",
       "      <td>421.680000</td>\n",
       "    </tr>\n",
       "    <tr>\n",
       "      <th>7</th>\n",
       "      <td>1714065</td>\n",
       "      <td>1</td>\n",
       "      <td>1116452438</td>\n",
       "      <td>3.870839e+05</td>\n",
       "      <td>4014.526468</td>\n",
       "      <td>1025.763379</td>\n",
       "      <td>9086.130712</td>\n",
       "      <td>65.840580</td>\n",
       "      <td>57243.087347</td>\n",
       "      <td>7115.276469</td>\n",
       "      <td>...</td>\n",
       "      <td>235.265083</td>\n",
       "      <td>11.000000</td>\n",
       "      <td>1323.824674</td>\n",
       "      <td>1524.242285</td>\n",
       "      <td>41.828873</td>\n",
       "      <td>32.454683</td>\n",
       "      <td>36.266027</td>\n",
       "      <td>11.795412</td>\n",
       "      <td>152.183159</td>\n",
       "      <td>12.781949</td>\n",
       "    </tr>\n",
       "    <tr>\n",
       "      <th>8</th>\n",
       "      <td>987784</td>\n",
       "      <td>0</td>\n",
       "      <td>1871984914</td>\n",
       "      <td>1.287160e+03</td>\n",
       "      <td>429.050000</td>\n",
       "      <td>364.860000</td>\n",
       "      <td>175.100000</td>\n",
       "      <td>295.110000</td>\n",
       "      <td>627.190000</td>\n",
       "      <td>195.000000</td>\n",
       "      <td>...</td>\n",
       "      <td>20.220000</td>\n",
       "      <td>50.000000</td>\n",
       "      <td>88.000000</td>\n",
       "      <td>186.000000</td>\n",
       "      <td>62.000000</td>\n",
       "      <td>56.000000</td>\n",
       "      <td>16.820000</td>\n",
       "      <td>49.000000</td>\n",
       "      <td>81.000000</td>\n",
       "      <td>0.000000</td>\n",
       "    </tr>\n",
       "    <tr>\n",
       "      <th>9</th>\n",
       "      <td>633765</td>\n",
       "      <td>0</td>\n",
       "      <td>1568535425</td>\n",
       "      <td>1.280800e+03</td>\n",
       "      <td>256.160000</td>\n",
       "      <td>166.640000</td>\n",
       "      <td>216.110000</td>\n",
       "      <td>89.960000</td>\n",
       "      <td>631.900000</td>\n",
       "      <td>95.000000</td>\n",
       "      <td>...</td>\n",
       "      <td>8.640000</td>\n",
       "      <td>12.000000</td>\n",
       "      <td>31.300000</td>\n",
       "      <td>76.000000</td>\n",
       "      <td>19.000000</td>\n",
       "      <td>20.000000</td>\n",
       "      <td>6.680000</td>\n",
       "      <td>11.000000</td>\n",
       "      <td>25.000000</td>\n",
       "      <td>0.000000</td>\n",
       "    </tr>\n",
       "  </tbody>\n",
       "</table>\n",
       "<p>10 rows × 34 columns</p>\n",
       "</div>"
      ],
      "text/plain": [
       "     index  Target         npi  Tot_Drug_Cst_sum  Tot_Drug_Cst_mean  \\\n",
       "0  1528976       1  1712803439      1.876849e+03        1438.684935   \n",
       "1  1632869       1  1477040842      1.644307e+05        1630.492909   \n",
       "2  1467053       1  1436364689      2.594246e+04         801.252679   \n",
       "3  1205790       1  1927711963      1.462940e+02         119.037323   \n",
       "4  1210282       1  1638667288      2.282289e+05        1842.352277   \n",
       "5  1891959       1  1682656767      1.785224e+04         937.441399   \n",
       "6   285763       0  1255447421      1.782543e+06        7158.810000   \n",
       "7  1714065       1  1116452438      3.870839e+05        4014.526468   \n",
       "8   987784       0  1871984914      1.287160e+03         429.050000   \n",
       "9   633765       0  1568535425      1.280800e+03         256.160000   \n",
       "\n",
       "   Tot_Drug_Cst_median  Tot_Drug_Cst_std  Tot_Drug_Cst_min  Tot_Drug_Cst_max  \\\n",
       "0          1414.363075       2958.333698       1271.553824       1630.130647   \n",
       "1           467.321451       3489.554784         34.974082      22305.915037   \n",
       "2           194.258726       2620.659771         41.078258      14918.461280   \n",
       "3           119.037323       5685.323697        113.876368        124.193879   \n",
       "4           770.967213       3403.142045         74.626677      21181.450423   \n",
       "5           316.883299       1764.678378         33.183158       6874.885638   \n",
       "6          2212.360000      15862.760000         19.440000     113976.890000   \n",
       "7          1025.763379       9086.130712         65.840580      57243.087347   \n",
       "8           364.860000        175.100000        295.110000        627.190000   \n",
       "9           166.640000        216.110000         89.960000        631.900000   \n",
       "\n",
       "   Tot_Clms_sum  ...  Tot_30day_Fills_std  Tot_30day_Fills_min  \\\n",
       "0     45.780770  ...            28.844733            19.931563   \n",
       "1   3305.925410  ...            59.503278            11.000000   \n",
       "2    833.254580  ...            15.489857            11.000000   \n",
       "3     20.319937  ...            33.998865            29.872702   \n",
       "4   6006.575455  ...            61.849998            11.095941   \n",
       "5    566.599871  ...            39.628643            11.000000   \n",
       "6  19952.000000  ...           156.150000            11.000000   \n",
       "7   7115.276469  ...           235.265083            11.000000   \n",
       "8    195.000000  ...            20.220000            50.000000   \n",
       "9     95.000000  ...             8.640000            12.000000   \n",
       "\n",
       "   Tot_30day_Fills_max  Tot_Benes_sum  Tot_Benes_mean  Tot_Benes_median  \\\n",
       "0            43.164385       0.000000       25.310000         21.120000   \n",
       "1           265.708806     952.459481       22.596633         20.364523   \n",
       "2            72.106799     742.152127       23.752800         18.208631   \n",
       "3            29.872702      18.639875       13.800104         13.800104   \n",
       "4           277.430988     803.512889       21.301956         18.625683   \n",
       "5           178.766724      48.618291       27.283465         25.230915   \n",
       "6          1683.200000    3210.000000       29.720000         22.000000   \n",
       "7          1323.824674    1524.242285       41.828873         32.454683   \n",
       "8            88.000000     186.000000       62.000000         56.000000   \n",
       "9            31.300000      76.000000       19.000000         20.000000   \n",
       "\n",
       "   Tot_Benes_std  Tot_Benes_min  Tot_Benes_max  Total Payment Sum  \n",
       "0      17.290000      14.150000      59.920000           0.000000  \n",
       "1      12.958194      11.379336      53.940749          10.961929  \n",
       "2      13.096209      11.029804      60.546725           0.000000  \n",
       "3       9.682760      13.800104      13.800104           0.000000  \n",
       "4       9.683284      11.151107      43.811661           0.000000  \n",
       "5      17.785443      22.769085      33.847316         103.840704  \n",
       "6      28.040000      11.000000     231.000000         421.680000  \n",
       "7      36.266027      11.795412     152.183159          12.781949  \n",
       "8      16.820000      49.000000      81.000000           0.000000  \n",
       "9       6.680000      11.000000      25.000000           0.000000  \n",
       "\n",
       "[10 rows x 34 columns]"
      ]
     },
     "execution_count": 19,
     "metadata": {},
     "output_type": "execute_result"
    }
   ],
   "source": [
    "df_new.head(10)"
   ]
  },
  {
   "cell_type": "code",
   "execution_count": 20,
   "id": "057f9810",
   "metadata": {},
   "outputs": [],
   "source": [
    "df_new.drop(labels = ['index'], axis = 1, inplace = True)"
   ]
  },
  {
   "cell_type": "code",
   "execution_count": 21,
   "id": "ec365f8f",
   "metadata": {},
   "outputs": [
    {
     "data": {
      "text/html": [
       "<div>\n",
       "<style scoped>\n",
       "    .dataframe tbody tr th:only-of-type {\n",
       "        vertical-align: middle;\n",
       "    }\n",
       "\n",
       "    .dataframe tbody tr th {\n",
       "        vertical-align: top;\n",
       "    }\n",
       "\n",
       "    .dataframe thead th {\n",
       "        text-align: right;\n",
       "    }\n",
       "</style>\n",
       "<table border=\"1\" class=\"dataframe\">\n",
       "  <thead>\n",
       "    <tr style=\"text-align: right;\">\n",
       "      <th></th>\n",
       "      <th>Target</th>\n",
       "      <th>npi</th>\n",
       "      <th>Tot_Drug_Cst_sum</th>\n",
       "      <th>Tot_Drug_Cst_mean</th>\n",
       "      <th>Tot_Drug_Cst_median</th>\n",
       "      <th>Tot_Drug_Cst_std</th>\n",
       "      <th>Tot_Drug_Cst_min</th>\n",
       "      <th>Tot_Drug_Cst_max</th>\n",
       "      <th>Tot_Clms_sum</th>\n",
       "      <th>Tot_Clms_mean</th>\n",
       "      <th>...</th>\n",
       "      <th>Tot_30day_Fills_std</th>\n",
       "      <th>Tot_30day_Fills_min</th>\n",
       "      <th>Tot_30day_Fills_max</th>\n",
       "      <th>Tot_Benes_sum</th>\n",
       "      <th>Tot_Benes_mean</th>\n",
       "      <th>Tot_Benes_median</th>\n",
       "      <th>Tot_Benes_std</th>\n",
       "      <th>Tot_Benes_min</th>\n",
       "      <th>Tot_Benes_max</th>\n",
       "      <th>Total Payment Sum</th>\n",
       "    </tr>\n",
       "  </thead>\n",
       "  <tbody>\n",
       "    <tr>\n",
       "      <th>0</th>\n",
       "      <td>1</td>\n",
       "      <td>1712803439</td>\n",
       "      <td>1876.848693</td>\n",
       "      <td>1438.684935</td>\n",
       "      <td>1414.363075</td>\n",
       "      <td>2958.333698</td>\n",
       "      <td>1271.553824</td>\n",
       "      <td>1630.130647</td>\n",
       "      <td>45.780770</td>\n",
       "      <td>19.643846</td>\n",
       "      <td>...</td>\n",
       "      <td>28.844733</td>\n",
       "      <td>19.931563</td>\n",
       "      <td>43.164385</td>\n",
       "      <td>0.000000</td>\n",
       "      <td>25.310000</td>\n",
       "      <td>21.120000</td>\n",
       "      <td>17.290000</td>\n",
       "      <td>14.150000</td>\n",
       "      <td>59.920000</td>\n",
       "      <td>0.000000</td>\n",
       "    </tr>\n",
       "    <tr>\n",
       "      <th>1</th>\n",
       "      <td>1</td>\n",
       "      <td>1477040842</td>\n",
       "      <td>164430.674344</td>\n",
       "      <td>1630.492909</td>\n",
       "      <td>467.321451</td>\n",
       "      <td>3489.554784</td>\n",
       "      <td>34.974082</td>\n",
       "      <td>22305.915037</td>\n",
       "      <td>3305.925410</td>\n",
       "      <td>33.065058</td>\n",
       "      <td>...</td>\n",
       "      <td>59.503278</td>\n",
       "      <td>11.000000</td>\n",
       "      <td>265.708806</td>\n",
       "      <td>952.459481</td>\n",
       "      <td>22.596633</td>\n",
       "      <td>20.364523</td>\n",
       "      <td>12.958194</td>\n",
       "      <td>11.379336</td>\n",
       "      <td>53.940749</td>\n",
       "      <td>10.961929</td>\n",
       "    </tr>\n",
       "    <tr>\n",
       "      <th>2</th>\n",
       "      <td>1</td>\n",
       "      <td>1436364689</td>\n",
       "      <td>25942.457546</td>\n",
       "      <td>801.252679</td>\n",
       "      <td>194.258726</td>\n",
       "      <td>2620.659771</td>\n",
       "      <td>41.078258</td>\n",
       "      <td>14918.461280</td>\n",
       "      <td>833.254580</td>\n",
       "      <td>25.348510</td>\n",
       "      <td>...</td>\n",
       "      <td>15.489857</td>\n",
       "      <td>11.000000</td>\n",
       "      <td>72.106799</td>\n",
       "      <td>742.152127</td>\n",
       "      <td>23.752800</td>\n",
       "      <td>18.208631</td>\n",
       "      <td>13.096209</td>\n",
       "      <td>11.029804</td>\n",
       "      <td>60.546725</td>\n",
       "      <td>0.000000</td>\n",
       "    </tr>\n",
       "    <tr>\n",
       "      <th>3</th>\n",
       "      <td>1</td>\n",
       "      <td>1927711963</td>\n",
       "      <td>146.294033</td>\n",
       "      <td>119.037323</td>\n",
       "      <td>119.037323</td>\n",
       "      <td>5685.323697</td>\n",
       "      <td>113.876368</td>\n",
       "      <td>124.193879</td>\n",
       "      <td>20.319937</td>\n",
       "      <td>15.480167</td>\n",
       "      <td>...</td>\n",
       "      <td>33.998865</td>\n",
       "      <td>29.872702</td>\n",
       "      <td>29.872702</td>\n",
       "      <td>18.639875</td>\n",
       "      <td>13.800104</td>\n",
       "      <td>13.800104</td>\n",
       "      <td>9.682760</td>\n",
       "      <td>13.800104</td>\n",
       "      <td>13.800104</td>\n",
       "      <td>0.000000</td>\n",
       "    </tr>\n",
       "    <tr>\n",
       "      <th>4</th>\n",
       "      <td>1</td>\n",
       "      <td>1638667288</td>\n",
       "      <td>228228.897807</td>\n",
       "      <td>1842.352277</td>\n",
       "      <td>770.967213</td>\n",
       "      <td>3403.142045</td>\n",
       "      <td>74.626677</td>\n",
       "      <td>21181.450423</td>\n",
       "      <td>6006.575455</td>\n",
       "      <td>48.826272</td>\n",
       "      <td>...</td>\n",
       "      <td>61.849998</td>\n",
       "      <td>11.095941</td>\n",
       "      <td>277.430988</td>\n",
       "      <td>803.512889</td>\n",
       "      <td>21.301956</td>\n",
       "      <td>18.625683</td>\n",
       "      <td>9.683284</td>\n",
       "      <td>11.151107</td>\n",
       "      <td>43.811661</td>\n",
       "      <td>0.000000</td>\n",
       "    </tr>\n",
       "  </tbody>\n",
       "</table>\n",
       "<p>5 rows × 33 columns</p>\n",
       "</div>"
      ],
      "text/plain": [
       "   Target         npi  Tot_Drug_Cst_sum  Tot_Drug_Cst_mean  \\\n",
       "0       1  1712803439       1876.848693        1438.684935   \n",
       "1       1  1477040842     164430.674344        1630.492909   \n",
       "2       1  1436364689      25942.457546         801.252679   \n",
       "3       1  1927711963        146.294033         119.037323   \n",
       "4       1  1638667288     228228.897807        1842.352277   \n",
       "\n",
       "   Tot_Drug_Cst_median  Tot_Drug_Cst_std  Tot_Drug_Cst_min  Tot_Drug_Cst_max  \\\n",
       "0          1414.363075       2958.333698       1271.553824       1630.130647   \n",
       "1           467.321451       3489.554784         34.974082      22305.915037   \n",
       "2           194.258726       2620.659771         41.078258      14918.461280   \n",
       "3           119.037323       5685.323697        113.876368        124.193879   \n",
       "4           770.967213       3403.142045         74.626677      21181.450423   \n",
       "\n",
       "   Tot_Clms_sum  Tot_Clms_mean  ...  Tot_30day_Fills_std  Tot_30day_Fills_min  \\\n",
       "0     45.780770      19.643846  ...            28.844733            19.931563   \n",
       "1   3305.925410      33.065058  ...            59.503278            11.000000   \n",
       "2    833.254580      25.348510  ...            15.489857            11.000000   \n",
       "3     20.319937      15.480167  ...            33.998865            29.872702   \n",
       "4   6006.575455      48.826272  ...            61.849998            11.095941   \n",
       "\n",
       "   Tot_30day_Fills_max  Tot_Benes_sum  Tot_Benes_mean  Tot_Benes_median  \\\n",
       "0            43.164385       0.000000       25.310000         21.120000   \n",
       "1           265.708806     952.459481       22.596633         20.364523   \n",
       "2            72.106799     742.152127       23.752800         18.208631   \n",
       "3            29.872702      18.639875       13.800104         13.800104   \n",
       "4           277.430988     803.512889       21.301956         18.625683   \n",
       "\n",
       "   Tot_Benes_std  Tot_Benes_min  Tot_Benes_max  Total Payment Sum  \n",
       "0      17.290000      14.150000      59.920000           0.000000  \n",
       "1      12.958194      11.379336      53.940749          10.961929  \n",
       "2      13.096209      11.029804      60.546725           0.000000  \n",
       "3       9.682760      13.800104      13.800104           0.000000  \n",
       "4       9.683284      11.151107      43.811661           0.000000  \n",
       "\n",
       "[5 rows x 33 columns]"
      ]
     },
     "execution_count": 21,
     "metadata": {},
     "output_type": "execute_result"
    }
   ],
   "source": [
    "df_new.head()"
   ]
  },
  {
   "cell_type": "markdown",
   "id": "ccc92fa1",
   "metadata": {},
   "source": [
    "### Scaling and Transformation"
   ]
  },
  {
   "cell_type": "code",
   "execution_count": 22,
   "id": "d91b2408",
   "metadata": {},
   "outputs": [],
   "source": [
    "X = df_new.drop(labels = ['npi', 'Target'], axis = 1)\n",
    "y = df_new['Target']"
   ]
  },
  {
   "cell_type": "code",
   "execution_count": 23,
   "id": "df838b5f",
   "metadata": {},
   "outputs": [
    {
     "data": {
      "text/html": [
       "<div>\n",
       "<style scoped>\n",
       "    .dataframe tbody tr th:only-of-type {\n",
       "        vertical-align: middle;\n",
       "    }\n",
       "\n",
       "    .dataframe tbody tr th {\n",
       "        vertical-align: top;\n",
       "    }\n",
       "\n",
       "    .dataframe thead th {\n",
       "        text-align: right;\n",
       "    }\n",
       "</style>\n",
       "<table border=\"1\" class=\"dataframe\">\n",
       "  <thead>\n",
       "    <tr style=\"text-align: right;\">\n",
       "      <th></th>\n",
       "      <th>npi</th>\n",
       "    </tr>\n",
       "  </thead>\n",
       "  <tbody>\n",
       "    <tr>\n",
       "      <th>0</th>\n",
       "      <td>1712803439</td>\n",
       "    </tr>\n",
       "    <tr>\n",
       "      <th>1</th>\n",
       "      <td>1477040842</td>\n",
       "    </tr>\n",
       "    <tr>\n",
       "      <th>2</th>\n",
       "      <td>1436364689</td>\n",
       "    </tr>\n",
       "    <tr>\n",
       "      <th>3</th>\n",
       "      <td>1927711963</td>\n",
       "    </tr>\n",
       "    <tr>\n",
       "      <th>4</th>\n",
       "      <td>1638667288</td>\n",
       "    </tr>\n",
       "  </tbody>\n",
       "</table>\n",
       "</div>"
      ],
      "text/plain": [
       "          npi\n",
       "0  1712803439\n",
       "1  1477040842\n",
       "2  1436364689\n",
       "3  1927711963\n",
       "4  1638667288"
      ]
     },
     "execution_count": 23,
     "metadata": {},
     "output_type": "execute_result"
    }
   ],
   "source": [
    "npi = df_new['npi']\n",
    "npi_df = pd.DataFrame(npi, columns = ['npi'])\n",
    "npi_df.head()"
   ]
  },
  {
   "cell_type": "code",
   "execution_count": 24,
   "id": "3b74b155",
   "metadata": {},
   "outputs": [],
   "source": [
    "feature_names = X.columns.to_list()"
   ]
  },
  {
   "cell_type": "code",
   "execution_count": 25,
   "id": "d076bc1a",
   "metadata": {},
   "outputs": [],
   "source": [
    "X_scaler = StandardScaler()\n",
    "X_scaled = X_scaler.fit_transform(X)"
   ]
  },
  {
   "cell_type": "code",
   "execution_count": 26,
   "id": "0fe8e27d",
   "metadata": {},
   "outputs": [],
   "source": [
    "X_df = pd.DataFrame(X_scaled, columns=feature_names)"
   ]
  },
  {
   "cell_type": "code",
   "execution_count": 27,
   "id": "0413b0d2",
   "metadata": {},
   "outputs": [
    {
     "data": {
      "text/html": [
       "<div>\n",
       "<style scoped>\n",
       "    .dataframe tbody tr th:only-of-type {\n",
       "        vertical-align: middle;\n",
       "    }\n",
       "\n",
       "    .dataframe tbody tr th {\n",
       "        vertical-align: top;\n",
       "    }\n",
       "\n",
       "    .dataframe thead th {\n",
       "        text-align: right;\n",
       "    }\n",
       "</style>\n",
       "<table border=\"1\" class=\"dataframe\">\n",
       "  <thead>\n",
       "    <tr style=\"text-align: right;\">\n",
       "      <th></th>\n",
       "      <th>Tot_Drug_Cst_sum</th>\n",
       "      <th>Tot_Drug_Cst_mean</th>\n",
       "      <th>Tot_Drug_Cst_median</th>\n",
       "      <th>Tot_Drug_Cst_std</th>\n",
       "      <th>Tot_Drug_Cst_min</th>\n",
       "      <th>Tot_Drug_Cst_max</th>\n",
       "      <th>Tot_Clms_sum</th>\n",
       "      <th>Tot_Clms_mean</th>\n",
       "      <th>Tot_Clms_median</th>\n",
       "      <th>Tot_Clms_std</th>\n",
       "      <th>...</th>\n",
       "      <th>Tot_30day_Fills_std</th>\n",
       "      <th>Tot_30day_Fills_min</th>\n",
       "      <th>Tot_30day_Fills_max</th>\n",
       "      <th>Tot_Benes_sum</th>\n",
       "      <th>Tot_Benes_mean</th>\n",
       "      <th>Tot_Benes_median</th>\n",
       "      <th>Tot_Benes_std</th>\n",
       "      <th>Tot_Benes_min</th>\n",
       "      <th>Tot_Benes_max</th>\n",
       "      <th>Total Payment Sum</th>\n",
       "    </tr>\n",
       "  </thead>\n",
       "  <tbody>\n",
       "    <tr>\n",
       "      <th>0</th>\n",
       "      <td>-0.317309</td>\n",
       "      <td>-0.227162</td>\n",
       "      <td>-0.021360</td>\n",
       "      <td>-0.265648</td>\n",
       "      <td>0.113900</td>\n",
       "      <td>-0.280852</td>\n",
       "      <td>-0.539220</td>\n",
       "      <td>-0.528596</td>\n",
       "      <td>-0.313092</td>\n",
       "      <td>-0.323452</td>\n",
       "      <td>...</td>\n",
       "      <td>-0.359437</td>\n",
       "      <td>0.551670</td>\n",
       "      <td>-0.442177</td>\n",
       "      <td>-0.530789</td>\n",
       "      <td>0.024439</td>\n",
       "      <td>0.079069</td>\n",
       "      <td>0.000121</td>\n",
       "      <td>0.131756</td>\n",
       "      <td>-0.014349</td>\n",
       "      <td>-0.018311</td>\n",
       "    </tr>\n",
       "    <tr>\n",
       "      <th>1</th>\n",
       "      <td>-0.116470</td>\n",
       "      <td>-0.216518</td>\n",
       "      <td>-0.113193</td>\n",
       "      <td>-0.250141</td>\n",
       "      <td>-0.055166</td>\n",
       "      <td>-0.174498</td>\n",
       "      <td>0.359306</td>\n",
       "      <td>-0.106442</td>\n",
       "      <td>-0.093931</td>\n",
       "      <td>-0.132144</td>\n",
       "      <td>...</td>\n",
       "      <td>-0.040327</td>\n",
       "      <td>-0.332909</td>\n",
       "      <td>-0.042461</td>\n",
       "      <td>0.605377</td>\n",
       "      <td>-0.113222</td>\n",
       "      <td>0.002673</td>\n",
       "      <td>-0.079206</td>\n",
       "      <td>-0.317889</td>\n",
       "      <td>-0.036898</td>\n",
       "      <td>-0.017865</td>\n",
       "    </tr>\n",
       "    <tr>\n",
       "      <th>2</th>\n",
       "      <td>-0.287575</td>\n",
       "      <td>-0.262534</td>\n",
       "      <td>-0.139672</td>\n",
       "      <td>-0.275505</td>\n",
       "      <td>-0.054332</td>\n",
       "      <td>-0.212498</td>\n",
       "      <td>-0.322185</td>\n",
       "      <td>-0.349160</td>\n",
       "      <td>-0.470435</td>\n",
       "      <td>-0.315031</td>\n",
       "      <td>...</td>\n",
       "      <td>-0.498442</td>\n",
       "      <td>-0.332909</td>\n",
       "      <td>-0.390193</td>\n",
       "      <td>0.354506</td>\n",
       "      <td>-0.054565</td>\n",
       "      <td>-0.215337</td>\n",
       "      <td>-0.076679</td>\n",
       "      <td>-0.374613</td>\n",
       "      <td>-0.011985</td>\n",
       "      <td>-0.018311</td>\n",
       "    </tr>\n",
       "    <tr>\n",
       "      <th>3</th>\n",
       "      <td>-0.319447</td>\n",
       "      <td>-0.300391</td>\n",
       "      <td>-0.146966</td>\n",
       "      <td>-0.186046</td>\n",
       "      <td>-0.044379</td>\n",
       "      <td>-0.288598</td>\n",
       "      <td>-0.546238</td>\n",
       "      <td>-0.659561</td>\n",
       "      <td>-0.619631</td>\n",
       "      <td>-0.260704</td>\n",
       "      <td>...</td>\n",
       "      <td>-0.305791</td>\n",
       "      <td>1.536238</td>\n",
       "      <td>-0.466050</td>\n",
       "      <td>-0.508554</td>\n",
       "      <td>-0.559511</td>\n",
       "      <td>-0.661139</td>\n",
       "      <td>-0.139188</td>\n",
       "      <td>0.074972</td>\n",
       "      <td>-0.188274</td>\n",
       "      <td>-0.018311</td>\n",
       "    </tr>\n",
       "    <tr>\n",
       "      <th>4</th>\n",
       "      <td>-0.037646</td>\n",
       "      <td>-0.204762</td>\n",
       "      <td>-0.083749</td>\n",
       "      <td>-0.252664</td>\n",
       "      <td>-0.049745</td>\n",
       "      <td>-0.180282</td>\n",
       "      <td>1.103631</td>\n",
       "      <td>0.389314</td>\n",
       "      <td>0.326286</td>\n",
       "      <td>0.187787</td>\n",
       "      <td>...</td>\n",
       "      <td>-0.015901</td>\n",
       "      <td>-0.323407</td>\n",
       "      <td>-0.021406</td>\n",
       "      <td>0.427702</td>\n",
       "      <td>-0.178907</td>\n",
       "      <td>-0.173163</td>\n",
       "      <td>-0.139179</td>\n",
       "      <td>-0.354927</td>\n",
       "      <td>-0.075096</td>\n",
       "      <td>-0.018311</td>\n",
       "    </tr>\n",
       "  </tbody>\n",
       "</table>\n",
       "<p>5 rows × 31 columns</p>\n",
       "</div>"
      ],
      "text/plain": [
       "   Tot_Drug_Cst_sum  Tot_Drug_Cst_mean  Tot_Drug_Cst_median  Tot_Drug_Cst_std  \\\n",
       "0         -0.317309          -0.227162            -0.021360         -0.265648   \n",
       "1         -0.116470          -0.216518            -0.113193         -0.250141   \n",
       "2         -0.287575          -0.262534            -0.139672         -0.275505   \n",
       "3         -0.319447          -0.300391            -0.146966         -0.186046   \n",
       "4         -0.037646          -0.204762            -0.083749         -0.252664   \n",
       "\n",
       "   Tot_Drug_Cst_min  Tot_Drug_Cst_max  Tot_Clms_sum  Tot_Clms_mean  \\\n",
       "0          0.113900         -0.280852     -0.539220      -0.528596   \n",
       "1         -0.055166         -0.174498      0.359306      -0.106442   \n",
       "2         -0.054332         -0.212498     -0.322185      -0.349160   \n",
       "3         -0.044379         -0.288598     -0.546238      -0.659561   \n",
       "4         -0.049745         -0.180282      1.103631       0.389314   \n",
       "\n",
       "   Tot_Clms_median  Tot_Clms_std  ...  Tot_30day_Fills_std  \\\n",
       "0        -0.313092     -0.323452  ...            -0.359437   \n",
       "1        -0.093931     -0.132144  ...            -0.040327   \n",
       "2        -0.470435     -0.315031  ...            -0.498442   \n",
       "3        -0.619631     -0.260704  ...            -0.305791   \n",
       "4         0.326286      0.187787  ...            -0.015901   \n",
       "\n",
       "   Tot_30day_Fills_min  Tot_30day_Fills_max  Tot_Benes_sum  Tot_Benes_mean  \\\n",
       "0             0.551670            -0.442177      -0.530789        0.024439   \n",
       "1            -0.332909            -0.042461       0.605377       -0.113222   \n",
       "2            -0.332909            -0.390193       0.354506       -0.054565   \n",
       "3             1.536238            -0.466050      -0.508554       -0.559511   \n",
       "4            -0.323407            -0.021406       0.427702       -0.178907   \n",
       "\n",
       "   Tot_Benes_median  Tot_Benes_std  Tot_Benes_min  Tot_Benes_max  \\\n",
       "0          0.079069       0.000121       0.131756      -0.014349   \n",
       "1          0.002673      -0.079206      -0.317889      -0.036898   \n",
       "2         -0.215337      -0.076679      -0.374613      -0.011985   \n",
       "3         -0.661139      -0.139188       0.074972      -0.188274   \n",
       "4         -0.173163      -0.139179      -0.354927      -0.075096   \n",
       "\n",
       "   Total Payment Sum  \n",
       "0          -0.018311  \n",
       "1          -0.017865  \n",
       "2          -0.018311  \n",
       "3          -0.018311  \n",
       "4          -0.018311  \n",
       "\n",
       "[5 rows x 31 columns]"
      ]
     },
     "execution_count": 27,
     "metadata": {},
     "output_type": "execute_result"
    }
   ],
   "source": [
    "X_df.head()"
   ]
  },
  {
   "cell_type": "code",
   "execution_count": 28,
   "id": "78e24ffe",
   "metadata": {},
   "outputs": [
    {
     "data": {
      "text/html": [
       "<div>\n",
       "<style scoped>\n",
       "    .dataframe tbody tr th:only-of-type {\n",
       "        vertical-align: middle;\n",
       "    }\n",
       "\n",
       "    .dataframe tbody tr th {\n",
       "        vertical-align: top;\n",
       "    }\n",
       "\n",
       "    .dataframe thead th {\n",
       "        text-align: right;\n",
       "    }\n",
       "</style>\n",
       "<table border=\"1\" class=\"dataframe\">\n",
       "  <thead>\n",
       "    <tr style=\"text-align: right;\">\n",
       "      <th></th>\n",
       "      <th>Tot_Drug_Cst_sum</th>\n",
       "      <th>Tot_Drug_Cst_mean</th>\n",
       "      <th>Tot_Drug_Cst_median</th>\n",
       "      <th>Tot_Drug_Cst_std</th>\n",
       "      <th>Tot_Drug_Cst_min</th>\n",
       "      <th>Tot_Drug_Cst_max</th>\n",
       "      <th>Tot_Clms_sum</th>\n",
       "      <th>Tot_Clms_mean</th>\n",
       "      <th>Tot_Clms_median</th>\n",
       "      <th>Tot_Clms_std</th>\n",
       "      <th>...</th>\n",
       "      <th>Tot_30day_Fills_std</th>\n",
       "      <th>Tot_30day_Fills_min</th>\n",
       "      <th>Tot_30day_Fills_max</th>\n",
       "      <th>Tot_Benes_sum</th>\n",
       "      <th>Tot_Benes_mean</th>\n",
       "      <th>Tot_Benes_median</th>\n",
       "      <th>Tot_Benes_std</th>\n",
       "      <th>Tot_Benes_min</th>\n",
       "      <th>Tot_Benes_max</th>\n",
       "      <th>Total Payment Sum</th>\n",
       "    </tr>\n",
       "  </thead>\n",
       "  <tbody>\n",
       "    <tr>\n",
       "      <th>count</th>\n",
       "      <td>2.245488e+06</td>\n",
       "      <td>2.245488e+06</td>\n",
       "      <td>2.245488e+06</td>\n",
       "      <td>2.245488e+06</td>\n",
       "      <td>2.245488e+06</td>\n",
       "      <td>2.245488e+06</td>\n",
       "      <td>2.245488e+06</td>\n",
       "      <td>2.245488e+06</td>\n",
       "      <td>2.245488e+06</td>\n",
       "      <td>2.245488e+06</td>\n",
       "      <td>...</td>\n",
       "      <td>2.245488e+06</td>\n",
       "      <td>2.245488e+06</td>\n",
       "      <td>2.245488e+06</td>\n",
       "      <td>2.245488e+06</td>\n",
       "      <td>2.245488e+06</td>\n",
       "      <td>2.245488e+06</td>\n",
       "      <td>2.245488e+06</td>\n",
       "      <td>2.245488e+06</td>\n",
       "      <td>2.245488e+06</td>\n",
       "      <td>2.245488e+06</td>\n",
       "    </tr>\n",
       "    <tr>\n",
       "      <th>mean</th>\n",
       "      <td>1.958045e-16</td>\n",
       "      <td>-2.909586e-17</td>\n",
       "      <td>-1.197598e-16</td>\n",
       "      <td>-2.202362e-17</td>\n",
       "      <td>4.350219e-17</td>\n",
       "      <td>-1.595407e-16</td>\n",
       "      <td>2.512670e-16</td>\n",
       "      <td>-9.821395e-17</td>\n",
       "      <td>-1.949636e-16</td>\n",
       "      <td>8.150242e-17</td>\n",
       "      <td>...</td>\n",
       "      <td>-2.296160e-16</td>\n",
       "      <td>-1.894886e-16</td>\n",
       "      <td>2.991700e-17</td>\n",
       "      <td>-3.123778e-16</td>\n",
       "      <td>-9.256407e-17</td>\n",
       "      <td>1.057181e-16</td>\n",
       "      <td>-4.411606e-17</td>\n",
       "      <td>-1.073640e-16</td>\n",
       "      <td>-8.002815e-17</td>\n",
       "      <td>-4.556611e-18</td>\n",
       "    </tr>\n",
       "    <tr>\n",
       "      <th>std</th>\n",
       "      <td>1.000000e+00</td>\n",
       "      <td>1.000000e+00</td>\n",
       "      <td>1.000000e+00</td>\n",
       "      <td>1.000000e+00</td>\n",
       "      <td>1.000000e+00</td>\n",
       "      <td>1.000000e+00</td>\n",
       "      <td>1.000000e+00</td>\n",
       "      <td>1.000000e+00</td>\n",
       "      <td>1.000000e+00</td>\n",
       "      <td>1.000000e+00</td>\n",
       "      <td>...</td>\n",
       "      <td>1.000000e+00</td>\n",
       "      <td>1.000000e+00</td>\n",
       "      <td>1.000000e+00</td>\n",
       "      <td>1.000000e+00</td>\n",
       "      <td>1.000000e+00</td>\n",
       "      <td>1.000000e+00</td>\n",
       "      <td>1.000000e+00</td>\n",
       "      <td>1.000000e+00</td>\n",
       "      <td>1.000000e+00</td>\n",
       "      <td>1.000000e+00</td>\n",
       "    </tr>\n",
       "    <tr>\n",
       "      <th>min</th>\n",
       "      <td>-3.196277e-01</td>\n",
       "      <td>-3.069966e-01</td>\n",
       "      <td>-1.585091e-01</td>\n",
       "      <td>-3.520031e-01</td>\n",
       "      <td>-5.994779e-02</td>\n",
       "      <td>-2.892371e-01</td>\n",
       "      <td>-5.488062e-01</td>\n",
       "      <td>-8.004813e-01</td>\n",
       "      <td>-9.494717e-01</td>\n",
       "      <td>-5.093306e-01</td>\n",
       "      <td>...</td>\n",
       "      <td>-6.596690e-01</td>\n",
       "      <td>-3.329090e-01</td>\n",
       "      <td>-4.999478e-01</td>\n",
       "      <td>-5.307886e-01</td>\n",
       "      <td>-7.015731e-01</td>\n",
       "      <td>-9.442927e-01</td>\n",
       "      <td>-3.165052e-01</td>\n",
       "      <td>-3.794500e-01</td>\n",
       "      <td>-1.988341e-01</td>\n",
       "      <td>-1.831079e-02</td>\n",
       "    </tr>\n",
       "    <tr>\n",
       "      <th>25%</th>\n",
       "      <td>-3.163056e-01</td>\n",
       "      <td>-2.850586e-01</td>\n",
       "      <td>-1.370312e-01</td>\n",
       "      <td>-3.204698e-01</td>\n",
       "      <td>-5.334822e-02</td>\n",
       "      <td>-2.838244e-01</td>\n",
       "      <td>-5.228989e-01</td>\n",
       "      <td>-5.428713e-01</td>\n",
       "      <td>-5.445489e-01</td>\n",
       "      <td>-3.573829e-01</td>\n",
       "      <td>...</td>\n",
       "      <td>-4.604263e-01</td>\n",
       "      <td>-3.329090e-01</td>\n",
       "      <td>-4.447496e-01</td>\n",
       "      <td>-4.961952e-01</td>\n",
       "      <td>-3.485028e-01</td>\n",
       "      <td>-4.386794e-01</td>\n",
       "      <td>-1.416524e-01</td>\n",
       "      <td>-3.794500e-01</td>\n",
       "      <td>-1.371089e-01</td>\n",
       "      <td>-1.831079e-02</td>\n",
       "    </tr>\n",
       "    <tr>\n",
       "      <th>50%</th>\n",
       "      <td>-2.793119e-01</td>\n",
       "      <td>-2.211515e-01</td>\n",
       "      <td>-1.098478e-01</td>\n",
       "      <td>-2.199528e-01</td>\n",
       "      <td>-5.045604e-02</td>\n",
       "      <td>-2.373364e-01</td>\n",
       "      <td>-4.051712e-01</td>\n",
       "      <td>-2.429701e-01</td>\n",
       "      <td>-2.132485e-01</td>\n",
       "      <td>-1.316422e-01</td>\n",
       "      <td>...</td>\n",
       "      <td>-1.601632e-01</td>\n",
       "      <td>-2.420619e-01</td>\n",
       "      <td>-3.077631e-01</td>\n",
       "      <td>-3.625665e-01</td>\n",
       "      <td>-8.007821e-02</td>\n",
       "      <td>-9.994516e-02</td>\n",
       "      <td>-1.253884e-02</td>\n",
       "      <td>-2.171625e-01</td>\n",
       "      <td>-5.141822e-02</td>\n",
       "      <td>-1.831079e-02</td>\n",
       "    </tr>\n",
       "    <tr>\n",
       "      <th>75%</th>\n",
       "      <td>-7.471622e-02</td>\n",
       "      <td>-8.487867e-02</td>\n",
       "      <td>-5.063000e-02</td>\n",
       "      <td>-5.604192e-02</td>\n",
       "      <td>-4.309422e-02</td>\n",
       "      <td>-9.869066e-02</td>\n",
       "      <td>1.082464e-01</td>\n",
       "      <td>2.689620e-01</td>\n",
       "      <td>2.593315e-01</td>\n",
       "      <td>9.024312e-02</td>\n",
       "      <td>...</td>\n",
       "      <td>1.092098e-01</td>\n",
       "      <td>-3.578986e-02</td>\n",
       "      <td>1.238425e-01</td>\n",
       "      <td>8.628189e-02</td>\n",
       "      <td>1.101807e-01</td>\n",
       "      <td>1.174952e-01</td>\n",
       "      <td>5.025747e-03</td>\n",
       "      <td>1.089025e-01</td>\n",
       "      <td>1.491496e-02</td>\n",
       "      <td>-1.670180e-02</td>\n",
       "    </tr>\n",
       "    <tr>\n",
       "      <th>max</th>\n",
       "      <td>4.820928e+01</td>\n",
       "      <td>1.988294e+02</td>\n",
       "      <td>3.478253e+02</td>\n",
       "      <td>1.410704e+02</td>\n",
       "      <td>4.905767e+02</td>\n",
       "      <td>1.717077e+02</td>\n",
       "      <td>1.274505e+02</td>\n",
       "      <td>2.216179e+02</td>\n",
       "      <td>1.197911e+02</td>\n",
       "      <td>3.387103e+02</td>\n",
       "      <td>...</td>\n",
       "      <td>2.861953e+02</td>\n",
       "      <td>3.009756e+02</td>\n",
       "      <td>3.672674e+02</td>\n",
       "      <td>2.404228e+02</td>\n",
       "      <td>3.211948e+02</td>\n",
       "      <td>5.452192e+02</td>\n",
       "      <td>3.910742e+02</td>\n",
       "      <td>2.019930e+02</td>\n",
       "      <td>5.347406e+02</td>\n",
       "      <td>7.453930e+02</td>\n",
       "    </tr>\n",
       "  </tbody>\n",
       "</table>\n",
       "<p>8 rows × 31 columns</p>\n",
       "</div>"
      ],
      "text/plain": [
       "       Tot_Drug_Cst_sum  Tot_Drug_Cst_mean  Tot_Drug_Cst_median  \\\n",
       "count      2.245488e+06       2.245488e+06         2.245488e+06   \n",
       "mean       1.958045e-16      -2.909586e-17        -1.197598e-16   \n",
       "std        1.000000e+00       1.000000e+00         1.000000e+00   \n",
       "min       -3.196277e-01      -3.069966e-01        -1.585091e-01   \n",
       "25%       -3.163056e-01      -2.850586e-01        -1.370312e-01   \n",
       "50%       -2.793119e-01      -2.211515e-01        -1.098478e-01   \n",
       "75%       -7.471622e-02      -8.487867e-02        -5.063000e-02   \n",
       "max        4.820928e+01       1.988294e+02         3.478253e+02   \n",
       "\n",
       "       Tot_Drug_Cst_std  Tot_Drug_Cst_min  Tot_Drug_Cst_max  Tot_Clms_sum  \\\n",
       "count      2.245488e+06      2.245488e+06      2.245488e+06  2.245488e+06   \n",
       "mean      -2.202362e-17      4.350219e-17     -1.595407e-16  2.512670e-16   \n",
       "std        1.000000e+00      1.000000e+00      1.000000e+00  1.000000e+00   \n",
       "min       -3.520031e-01     -5.994779e-02     -2.892371e-01 -5.488062e-01   \n",
       "25%       -3.204698e-01     -5.334822e-02     -2.838244e-01 -5.228989e-01   \n",
       "50%       -2.199528e-01     -5.045604e-02     -2.373364e-01 -4.051712e-01   \n",
       "75%       -5.604192e-02     -4.309422e-02     -9.869066e-02  1.082464e-01   \n",
       "max        1.410704e+02      4.905767e+02      1.717077e+02  1.274505e+02   \n",
       "\n",
       "       Tot_Clms_mean  Tot_Clms_median  Tot_Clms_std  ...  Tot_30day_Fills_std  \\\n",
       "count   2.245488e+06     2.245488e+06  2.245488e+06  ...         2.245488e+06   \n",
       "mean   -9.821395e-17    -1.949636e-16  8.150242e-17  ...        -2.296160e-16   \n",
       "std     1.000000e+00     1.000000e+00  1.000000e+00  ...         1.000000e+00   \n",
       "min    -8.004813e-01    -9.494717e-01 -5.093306e-01  ...        -6.596690e-01   \n",
       "25%    -5.428713e-01    -5.445489e-01 -3.573829e-01  ...        -4.604263e-01   \n",
       "50%    -2.429701e-01    -2.132485e-01 -1.316422e-01  ...        -1.601632e-01   \n",
       "75%     2.689620e-01     2.593315e-01  9.024312e-02  ...         1.092098e-01   \n",
       "max     2.216179e+02     1.197911e+02  3.387103e+02  ...         2.861953e+02   \n",
       "\n",
       "       Tot_30day_Fills_min  Tot_30day_Fills_max  Tot_Benes_sum  \\\n",
       "count         2.245488e+06         2.245488e+06   2.245488e+06   \n",
       "mean         -1.894886e-16         2.991700e-17  -3.123778e-16   \n",
       "std           1.000000e+00         1.000000e+00   1.000000e+00   \n",
       "min          -3.329090e-01        -4.999478e-01  -5.307886e-01   \n",
       "25%          -3.329090e-01        -4.447496e-01  -4.961952e-01   \n",
       "50%          -2.420619e-01        -3.077631e-01  -3.625665e-01   \n",
       "75%          -3.578986e-02         1.238425e-01   8.628189e-02   \n",
       "max           3.009756e+02         3.672674e+02   2.404228e+02   \n",
       "\n",
       "       Tot_Benes_mean  Tot_Benes_median  Tot_Benes_std  Tot_Benes_min  \\\n",
       "count    2.245488e+06      2.245488e+06   2.245488e+06   2.245488e+06   \n",
       "mean    -9.256407e-17      1.057181e-16  -4.411606e-17  -1.073640e-16   \n",
       "std      1.000000e+00      1.000000e+00   1.000000e+00   1.000000e+00   \n",
       "min     -7.015731e-01     -9.442927e-01  -3.165052e-01  -3.794500e-01   \n",
       "25%     -3.485028e-01     -4.386794e-01  -1.416524e-01  -3.794500e-01   \n",
       "50%     -8.007821e-02     -9.994516e-02  -1.253884e-02  -2.171625e-01   \n",
       "75%      1.101807e-01      1.174952e-01   5.025747e-03   1.089025e-01   \n",
       "max      3.211948e+02      5.452192e+02   3.910742e+02   2.019930e+02   \n",
       "\n",
       "       Tot_Benes_max  Total Payment Sum  \n",
       "count   2.245488e+06       2.245488e+06  \n",
       "mean   -8.002815e-17      -4.556611e-18  \n",
       "std     1.000000e+00       1.000000e+00  \n",
       "min    -1.988341e-01      -1.831079e-02  \n",
       "25%    -1.371089e-01      -1.831079e-02  \n",
       "50%    -5.141822e-02      -1.831079e-02  \n",
       "75%     1.491496e-02      -1.670180e-02  \n",
       "max     5.347406e+02       7.453930e+02  \n",
       "\n",
       "[8 rows x 31 columns]"
      ]
     },
     "execution_count": 28,
     "metadata": {},
     "output_type": "execute_result"
    }
   ],
   "source": [
    "X_df.describe()"
   ]
  },
  {
   "cell_type": "code",
   "execution_count": 29,
   "id": "972b9562",
   "metadata": {
    "scrolled": true
   },
   "outputs": [
    {
     "data": {
      "text/html": [
       "<div>\n",
       "<style scoped>\n",
       "    .dataframe tbody tr th:only-of-type {\n",
       "        vertical-align: middle;\n",
       "    }\n",
       "\n",
       "    .dataframe tbody tr th {\n",
       "        vertical-align: top;\n",
       "    }\n",
       "\n",
       "    .dataframe thead th {\n",
       "        text-align: right;\n",
       "    }\n",
       "</style>\n",
       "<table border=\"1\" class=\"dataframe\">\n",
       "  <thead>\n",
       "    <tr style=\"text-align: right;\">\n",
       "      <th></th>\n",
       "      <th>count</th>\n",
       "      <th>mean</th>\n",
       "      <th>std</th>\n",
       "      <th>min</th>\n",
       "      <th>25%</th>\n",
       "      <th>50%</th>\n",
       "      <th>75%</th>\n",
       "      <th>max</th>\n",
       "    </tr>\n",
       "  </thead>\n",
       "  <tbody>\n",
       "    <tr>\n",
       "      <th>Tot_Drug_Cst_sum</th>\n",
       "      <td>2245488.0</td>\n",
       "      <td>0.0</td>\n",
       "      <td>1.0</td>\n",
       "      <td>-0.0</td>\n",
       "      <td>-0.0</td>\n",
       "      <td>-0.0</td>\n",
       "      <td>-0.0</td>\n",
       "      <td>48.0</td>\n",
       "    </tr>\n",
       "    <tr>\n",
       "      <th>Tot_Drug_Cst_mean</th>\n",
       "      <td>2245488.0</td>\n",
       "      <td>-0.0</td>\n",
       "      <td>1.0</td>\n",
       "      <td>-0.0</td>\n",
       "      <td>-0.0</td>\n",
       "      <td>-0.0</td>\n",
       "      <td>-0.0</td>\n",
       "      <td>199.0</td>\n",
       "    </tr>\n",
       "    <tr>\n",
       "      <th>Tot_Drug_Cst_median</th>\n",
       "      <td>2245488.0</td>\n",
       "      <td>-0.0</td>\n",
       "      <td>1.0</td>\n",
       "      <td>-0.0</td>\n",
       "      <td>-0.0</td>\n",
       "      <td>-0.0</td>\n",
       "      <td>-0.0</td>\n",
       "      <td>348.0</td>\n",
       "    </tr>\n",
       "    <tr>\n",
       "      <th>Tot_Drug_Cst_std</th>\n",
       "      <td>2245488.0</td>\n",
       "      <td>-0.0</td>\n",
       "      <td>1.0</td>\n",
       "      <td>-0.0</td>\n",
       "      <td>-0.0</td>\n",
       "      <td>-0.0</td>\n",
       "      <td>-0.0</td>\n",
       "      <td>141.0</td>\n",
       "    </tr>\n",
       "    <tr>\n",
       "      <th>Tot_Drug_Cst_min</th>\n",
       "      <td>2245488.0</td>\n",
       "      <td>0.0</td>\n",
       "      <td>1.0</td>\n",
       "      <td>-0.0</td>\n",
       "      <td>-0.0</td>\n",
       "      <td>-0.0</td>\n",
       "      <td>-0.0</td>\n",
       "      <td>491.0</td>\n",
       "    </tr>\n",
       "    <tr>\n",
       "      <th>Tot_Drug_Cst_max</th>\n",
       "      <td>2245488.0</td>\n",
       "      <td>-0.0</td>\n",
       "      <td>1.0</td>\n",
       "      <td>-0.0</td>\n",
       "      <td>-0.0</td>\n",
       "      <td>-0.0</td>\n",
       "      <td>-0.0</td>\n",
       "      <td>172.0</td>\n",
       "    </tr>\n",
       "    <tr>\n",
       "      <th>Tot_Clms_sum</th>\n",
       "      <td>2245488.0</td>\n",
       "      <td>0.0</td>\n",
       "      <td>1.0</td>\n",
       "      <td>-1.0</td>\n",
       "      <td>-1.0</td>\n",
       "      <td>-0.0</td>\n",
       "      <td>0.0</td>\n",
       "      <td>127.0</td>\n",
       "    </tr>\n",
       "    <tr>\n",
       "      <th>Tot_Clms_mean</th>\n",
       "      <td>2245488.0</td>\n",
       "      <td>-0.0</td>\n",
       "      <td>1.0</td>\n",
       "      <td>-1.0</td>\n",
       "      <td>-1.0</td>\n",
       "      <td>-0.0</td>\n",
       "      <td>0.0</td>\n",
       "      <td>222.0</td>\n",
       "    </tr>\n",
       "    <tr>\n",
       "      <th>Tot_Clms_median</th>\n",
       "      <td>2245488.0</td>\n",
       "      <td>-0.0</td>\n",
       "      <td>1.0</td>\n",
       "      <td>-1.0</td>\n",
       "      <td>-1.0</td>\n",
       "      <td>-0.0</td>\n",
       "      <td>0.0</td>\n",
       "      <td>120.0</td>\n",
       "    </tr>\n",
       "    <tr>\n",
       "      <th>Tot_Clms_std</th>\n",
       "      <td>2245488.0</td>\n",
       "      <td>0.0</td>\n",
       "      <td>1.0</td>\n",
       "      <td>-1.0</td>\n",
       "      <td>-0.0</td>\n",
       "      <td>-0.0</td>\n",
       "      <td>0.0</td>\n",
       "      <td>339.0</td>\n",
       "    </tr>\n",
       "    <tr>\n",
       "      <th>Tot_Clms_min</th>\n",
       "      <td>2245488.0</td>\n",
       "      <td>0.0</td>\n",
       "      <td>1.0</td>\n",
       "      <td>-0.0</td>\n",
       "      <td>-0.0</td>\n",
       "      <td>-0.0</td>\n",
       "      <td>-0.0</td>\n",
       "      <td>220.0</td>\n",
       "    </tr>\n",
       "    <tr>\n",
       "      <th>Tot_Clms_max</th>\n",
       "      <td>2245488.0</td>\n",
       "      <td>-0.0</td>\n",
       "      <td>1.0</td>\n",
       "      <td>-0.0</td>\n",
       "      <td>-0.0</td>\n",
       "      <td>-0.0</td>\n",
       "      <td>0.0</td>\n",
       "      <td>435.0</td>\n",
       "    </tr>\n",
       "    <tr>\n",
       "      <th>Tot_Day_Suply_sum</th>\n",
       "      <td>2245488.0</td>\n",
       "      <td>-0.0</td>\n",
       "      <td>1.0</td>\n",
       "      <td>-1.0</td>\n",
       "      <td>-1.0</td>\n",
       "      <td>-0.0</td>\n",
       "      <td>0.0</td>\n",
       "      <td>37.0</td>\n",
       "    </tr>\n",
       "    <tr>\n",
       "      <th>Tot_Day_Suply_mean</th>\n",
       "      <td>2245488.0</td>\n",
       "      <td>0.0</td>\n",
       "      <td>1.0</td>\n",
       "      <td>-1.0</td>\n",
       "      <td>-1.0</td>\n",
       "      <td>-0.0</td>\n",
       "      <td>0.0</td>\n",
       "      <td>183.0</td>\n",
       "    </tr>\n",
       "    <tr>\n",
       "      <th>Tot_Day_Suply_median</th>\n",
       "      <td>2245488.0</td>\n",
       "      <td>0.0</td>\n",
       "      <td>1.0</td>\n",
       "      <td>-1.0</td>\n",
       "      <td>-1.0</td>\n",
       "      <td>-0.0</td>\n",
       "      <td>0.0</td>\n",
       "      <td>180.0</td>\n",
       "    </tr>\n",
       "    <tr>\n",
       "      <th>Tot_Day_Suply_std</th>\n",
       "      <td>2245488.0</td>\n",
       "      <td>0.0</td>\n",
       "      <td>1.0</td>\n",
       "      <td>-1.0</td>\n",
       "      <td>-1.0</td>\n",
       "      <td>-0.0</td>\n",
       "      <td>0.0</td>\n",
       "      <td>150.0</td>\n",
       "    </tr>\n",
       "    <tr>\n",
       "      <th>Tot_Day_Suply_min</th>\n",
       "      <td>2245488.0</td>\n",
       "      <td>-0.0</td>\n",
       "      <td>1.0</td>\n",
       "      <td>-1.0</td>\n",
       "      <td>-1.0</td>\n",
       "      <td>-0.0</td>\n",
       "      <td>0.0</td>\n",
       "      <td>330.0</td>\n",
       "    </tr>\n",
       "    <tr>\n",
       "      <th>Tot_Day_Suply_max</th>\n",
       "      <td>2245488.0</td>\n",
       "      <td>0.0</td>\n",
       "      <td>1.0</td>\n",
       "      <td>-1.0</td>\n",
       "      <td>-1.0</td>\n",
       "      <td>-0.0</td>\n",
       "      <td>0.0</td>\n",
       "      <td>49.0</td>\n",
       "    </tr>\n",
       "    <tr>\n",
       "      <th>Tot_30day_Fills_sum</th>\n",
       "      <td>2245488.0</td>\n",
       "      <td>0.0</td>\n",
       "      <td>1.0</td>\n",
       "      <td>-1.0</td>\n",
       "      <td>-1.0</td>\n",
       "      <td>-0.0</td>\n",
       "      <td>0.0</td>\n",
       "      <td>86.0</td>\n",
       "    </tr>\n",
       "    <tr>\n",
       "      <th>Tot_30day_Fills_mean</th>\n",
       "      <td>2245488.0</td>\n",
       "      <td>0.0</td>\n",
       "      <td>1.0</td>\n",
       "      <td>-1.0</td>\n",
       "      <td>-1.0</td>\n",
       "      <td>-0.0</td>\n",
       "      <td>0.0</td>\n",
       "      <td>171.0</td>\n",
       "    </tr>\n",
       "    <tr>\n",
       "      <th>Tot_30day_Fills_median</th>\n",
       "      <td>2245488.0</td>\n",
       "      <td>-0.0</td>\n",
       "      <td>1.0</td>\n",
       "      <td>-1.0</td>\n",
       "      <td>-1.0</td>\n",
       "      <td>-0.0</td>\n",
       "      <td>0.0</td>\n",
       "      <td>182.0</td>\n",
       "    </tr>\n",
       "    <tr>\n",
       "      <th>Tot_30day_Fills_std</th>\n",
       "      <td>2245488.0</td>\n",
       "      <td>-0.0</td>\n",
       "      <td>1.0</td>\n",
       "      <td>-1.0</td>\n",
       "      <td>-0.0</td>\n",
       "      <td>-0.0</td>\n",
       "      <td>0.0</td>\n",
       "      <td>286.0</td>\n",
       "    </tr>\n",
       "    <tr>\n",
       "      <th>Tot_30day_Fills_min</th>\n",
       "      <td>2245488.0</td>\n",
       "      <td>-0.0</td>\n",
       "      <td>1.0</td>\n",
       "      <td>-0.0</td>\n",
       "      <td>-0.0</td>\n",
       "      <td>-0.0</td>\n",
       "      <td>-0.0</td>\n",
       "      <td>301.0</td>\n",
       "    </tr>\n",
       "    <tr>\n",
       "      <th>Tot_30day_Fills_max</th>\n",
       "      <td>2245488.0</td>\n",
       "      <td>0.0</td>\n",
       "      <td>1.0</td>\n",
       "      <td>-0.0</td>\n",
       "      <td>-0.0</td>\n",
       "      <td>-0.0</td>\n",
       "      <td>0.0</td>\n",
       "      <td>367.0</td>\n",
       "    </tr>\n",
       "    <tr>\n",
       "      <th>Tot_Benes_sum</th>\n",
       "      <td>2245488.0</td>\n",
       "      <td>-0.0</td>\n",
       "      <td>1.0</td>\n",
       "      <td>-1.0</td>\n",
       "      <td>-0.0</td>\n",
       "      <td>-0.0</td>\n",
       "      <td>0.0</td>\n",
       "      <td>240.0</td>\n",
       "    </tr>\n",
       "    <tr>\n",
       "      <th>Tot_Benes_mean</th>\n",
       "      <td>2245488.0</td>\n",
       "      <td>-0.0</td>\n",
       "      <td>1.0</td>\n",
       "      <td>-1.0</td>\n",
       "      <td>-0.0</td>\n",
       "      <td>-0.0</td>\n",
       "      <td>0.0</td>\n",
       "      <td>321.0</td>\n",
       "    </tr>\n",
       "    <tr>\n",
       "      <th>Tot_Benes_median</th>\n",
       "      <td>2245488.0</td>\n",
       "      <td>0.0</td>\n",
       "      <td>1.0</td>\n",
       "      <td>-1.0</td>\n",
       "      <td>-0.0</td>\n",
       "      <td>-0.0</td>\n",
       "      <td>0.0</td>\n",
       "      <td>545.0</td>\n",
       "    </tr>\n",
       "    <tr>\n",
       "      <th>Tot_Benes_std</th>\n",
       "      <td>2245488.0</td>\n",
       "      <td>-0.0</td>\n",
       "      <td>1.0</td>\n",
       "      <td>-0.0</td>\n",
       "      <td>-0.0</td>\n",
       "      <td>-0.0</td>\n",
       "      <td>0.0</td>\n",
       "      <td>391.0</td>\n",
       "    </tr>\n",
       "    <tr>\n",
       "      <th>Tot_Benes_min</th>\n",
       "      <td>2245488.0</td>\n",
       "      <td>-0.0</td>\n",
       "      <td>1.0</td>\n",
       "      <td>-0.0</td>\n",
       "      <td>-0.0</td>\n",
       "      <td>-0.0</td>\n",
       "      <td>0.0</td>\n",
       "      <td>202.0</td>\n",
       "    </tr>\n",
       "    <tr>\n",
       "      <th>Tot_Benes_max</th>\n",
       "      <td>2245488.0</td>\n",
       "      <td>-0.0</td>\n",
       "      <td>1.0</td>\n",
       "      <td>-0.0</td>\n",
       "      <td>-0.0</td>\n",
       "      <td>-0.0</td>\n",
       "      <td>0.0</td>\n",
       "      <td>535.0</td>\n",
       "    </tr>\n",
       "    <tr>\n",
       "      <th>Total Payment Sum</th>\n",
       "      <td>2245488.0</td>\n",
       "      <td>-0.0</td>\n",
       "      <td>1.0</td>\n",
       "      <td>-0.0</td>\n",
       "      <td>-0.0</td>\n",
       "      <td>-0.0</td>\n",
       "      <td>-0.0</td>\n",
       "      <td>745.0</td>\n",
       "    </tr>\n",
       "  </tbody>\n",
       "</table>\n",
       "</div>"
      ],
      "text/plain": [
       "                            count  mean  std  min  25%  50%  75%    max\n",
       "Tot_Drug_Cst_sum        2245488.0   0.0  1.0 -0.0 -0.0 -0.0 -0.0   48.0\n",
       "Tot_Drug_Cst_mean       2245488.0  -0.0  1.0 -0.0 -0.0 -0.0 -0.0  199.0\n",
       "Tot_Drug_Cst_median     2245488.0  -0.0  1.0 -0.0 -0.0 -0.0 -0.0  348.0\n",
       "Tot_Drug_Cst_std        2245488.0  -0.0  1.0 -0.0 -0.0 -0.0 -0.0  141.0\n",
       "Tot_Drug_Cst_min        2245488.0   0.0  1.0 -0.0 -0.0 -0.0 -0.0  491.0\n",
       "Tot_Drug_Cst_max        2245488.0  -0.0  1.0 -0.0 -0.0 -0.0 -0.0  172.0\n",
       "Tot_Clms_sum            2245488.0   0.0  1.0 -1.0 -1.0 -0.0  0.0  127.0\n",
       "Tot_Clms_mean           2245488.0  -0.0  1.0 -1.0 -1.0 -0.0  0.0  222.0\n",
       "Tot_Clms_median         2245488.0  -0.0  1.0 -1.0 -1.0 -0.0  0.0  120.0\n",
       "Tot_Clms_std            2245488.0   0.0  1.0 -1.0 -0.0 -0.0  0.0  339.0\n",
       "Tot_Clms_min            2245488.0   0.0  1.0 -0.0 -0.0 -0.0 -0.0  220.0\n",
       "Tot_Clms_max            2245488.0  -0.0  1.0 -0.0 -0.0 -0.0  0.0  435.0\n",
       "Tot_Day_Suply_sum       2245488.0  -0.0  1.0 -1.0 -1.0 -0.0  0.0   37.0\n",
       "Tot_Day_Suply_mean      2245488.0   0.0  1.0 -1.0 -1.0 -0.0  0.0  183.0\n",
       "Tot_Day_Suply_median    2245488.0   0.0  1.0 -1.0 -1.0 -0.0  0.0  180.0\n",
       "Tot_Day_Suply_std       2245488.0   0.0  1.0 -1.0 -1.0 -0.0  0.0  150.0\n",
       "Tot_Day_Suply_min       2245488.0  -0.0  1.0 -1.0 -1.0 -0.0  0.0  330.0\n",
       "Tot_Day_Suply_max       2245488.0   0.0  1.0 -1.0 -1.0 -0.0  0.0   49.0\n",
       "Tot_30day_Fills_sum     2245488.0   0.0  1.0 -1.0 -1.0 -0.0  0.0   86.0\n",
       "Tot_30day_Fills_mean    2245488.0   0.0  1.0 -1.0 -1.0 -0.0  0.0  171.0\n",
       "Tot_30day_Fills_median  2245488.0  -0.0  1.0 -1.0 -1.0 -0.0  0.0  182.0\n",
       "Tot_30day_Fills_std     2245488.0  -0.0  1.0 -1.0 -0.0 -0.0  0.0  286.0\n",
       "Tot_30day_Fills_min     2245488.0  -0.0  1.0 -0.0 -0.0 -0.0 -0.0  301.0\n",
       "Tot_30day_Fills_max     2245488.0   0.0  1.0 -0.0 -0.0 -0.0  0.0  367.0\n",
       "Tot_Benes_sum           2245488.0  -0.0  1.0 -1.0 -0.0 -0.0  0.0  240.0\n",
       "Tot_Benes_mean          2245488.0  -0.0  1.0 -1.0 -0.0 -0.0  0.0  321.0\n",
       "Tot_Benes_median        2245488.0   0.0  1.0 -1.0 -0.0 -0.0  0.0  545.0\n",
       "Tot_Benes_std           2245488.0  -0.0  1.0 -0.0 -0.0 -0.0  0.0  391.0\n",
       "Tot_Benes_min           2245488.0  -0.0  1.0 -0.0 -0.0 -0.0  0.0  202.0\n",
       "Tot_Benes_max           2245488.0  -0.0  1.0 -0.0 -0.0 -0.0  0.0  535.0\n",
       "Total Payment Sum       2245488.0  -0.0  1.0 -0.0 -0.0 -0.0 -0.0  745.0"
      ]
     },
     "execution_count": 29,
     "metadata": {},
     "output_type": "execute_result"
    }
   ],
   "source": [
    "round(X_df.describe().T)"
   ]
  },
  {
   "cell_type": "code",
   "execution_count": 30,
   "id": "2491eaf5",
   "metadata": {},
   "outputs": [
    {
     "data": {
      "text/html": [
       "<div>\n",
       "<style scoped>\n",
       "    .dataframe tbody tr th:only-of-type {\n",
       "        vertical-align: middle;\n",
       "    }\n",
       "\n",
       "    .dataframe tbody tr th {\n",
       "        vertical-align: top;\n",
       "    }\n",
       "\n",
       "    .dataframe thead th {\n",
       "        text-align: right;\n",
       "    }\n",
       "</style>\n",
       "<table border=\"1\" class=\"dataframe\">\n",
       "  <thead>\n",
       "    <tr style=\"text-align: right;\">\n",
       "      <th></th>\n",
       "      <th>Target</th>\n",
       "    </tr>\n",
       "  </thead>\n",
       "  <tbody>\n",
       "    <tr>\n",
       "      <th>0</th>\n",
       "      <td>1</td>\n",
       "    </tr>\n",
       "    <tr>\n",
       "      <th>1</th>\n",
       "      <td>1</td>\n",
       "    </tr>\n",
       "    <tr>\n",
       "      <th>2</th>\n",
       "      <td>1</td>\n",
       "    </tr>\n",
       "    <tr>\n",
       "      <th>3</th>\n",
       "      <td>1</td>\n",
       "    </tr>\n",
       "    <tr>\n",
       "      <th>4</th>\n",
       "      <td>1</td>\n",
       "    </tr>\n",
       "  </tbody>\n",
       "</table>\n",
       "</div>"
      ],
      "text/plain": [
       "   Target\n",
       "0       1\n",
       "1       1\n",
       "2       1\n",
       "3       1\n",
       "4       1"
      ]
     },
     "execution_count": 30,
     "metadata": {},
     "output_type": "execute_result"
    }
   ],
   "source": [
    "y_df = pd.DataFrame(y, columns=['Target'])\n",
    "y_df.head()"
   ]
  },
  {
   "cell_type": "code",
   "execution_count": 31,
   "id": "3f67043a",
   "metadata": {},
   "outputs": [
    {
     "data": {
      "text/html": [
       "<div>\n",
       "<style scoped>\n",
       "    .dataframe tbody tr th:only-of-type {\n",
       "        vertical-align: middle;\n",
       "    }\n",
       "\n",
       "    .dataframe tbody tr th {\n",
       "        vertical-align: top;\n",
       "    }\n",
       "\n",
       "    .dataframe thead th {\n",
       "        text-align: right;\n",
       "    }\n",
       "</style>\n",
       "<table border=\"1\" class=\"dataframe\">\n",
       "  <thead>\n",
       "    <tr style=\"text-align: right;\">\n",
       "      <th></th>\n",
       "      <th>Tot_Drug_Cst_sum</th>\n",
       "      <th>Tot_Drug_Cst_mean</th>\n",
       "      <th>Tot_Drug_Cst_median</th>\n",
       "      <th>Tot_Drug_Cst_std</th>\n",
       "      <th>Tot_Drug_Cst_min</th>\n",
       "      <th>Tot_Drug_Cst_max</th>\n",
       "      <th>Tot_Clms_sum</th>\n",
       "      <th>Tot_Clms_mean</th>\n",
       "      <th>Tot_Clms_median</th>\n",
       "      <th>Tot_Clms_std</th>\n",
       "      <th>...</th>\n",
       "      <th>Tot_30day_Fills_min</th>\n",
       "      <th>Tot_30day_Fills_max</th>\n",
       "      <th>Tot_Benes_sum</th>\n",
       "      <th>Tot_Benes_mean</th>\n",
       "      <th>Tot_Benes_median</th>\n",
       "      <th>Tot_Benes_std</th>\n",
       "      <th>Tot_Benes_min</th>\n",
       "      <th>Tot_Benes_max</th>\n",
       "      <th>Total Payment Sum</th>\n",
       "      <th>Target</th>\n",
       "    </tr>\n",
       "  </thead>\n",
       "  <tbody>\n",
       "    <tr>\n",
       "      <th>0</th>\n",
       "      <td>-0.317309</td>\n",
       "      <td>-0.227162</td>\n",
       "      <td>-0.021360</td>\n",
       "      <td>-0.265648</td>\n",
       "      <td>0.113900</td>\n",
       "      <td>-0.280852</td>\n",
       "      <td>-0.539220</td>\n",
       "      <td>-0.528596</td>\n",
       "      <td>-0.313092</td>\n",
       "      <td>-0.323452</td>\n",
       "      <td>...</td>\n",
       "      <td>0.551670</td>\n",
       "      <td>-0.442177</td>\n",
       "      <td>-0.530789</td>\n",
       "      <td>0.024439</td>\n",
       "      <td>0.079069</td>\n",
       "      <td>0.000121</td>\n",
       "      <td>0.131756</td>\n",
       "      <td>-0.014349</td>\n",
       "      <td>-0.018311</td>\n",
       "      <td>1</td>\n",
       "    </tr>\n",
       "    <tr>\n",
       "      <th>1</th>\n",
       "      <td>-0.116470</td>\n",
       "      <td>-0.216518</td>\n",
       "      <td>-0.113193</td>\n",
       "      <td>-0.250141</td>\n",
       "      <td>-0.055166</td>\n",
       "      <td>-0.174498</td>\n",
       "      <td>0.359306</td>\n",
       "      <td>-0.106442</td>\n",
       "      <td>-0.093931</td>\n",
       "      <td>-0.132144</td>\n",
       "      <td>...</td>\n",
       "      <td>-0.332909</td>\n",
       "      <td>-0.042461</td>\n",
       "      <td>0.605377</td>\n",
       "      <td>-0.113222</td>\n",
       "      <td>0.002673</td>\n",
       "      <td>-0.079206</td>\n",
       "      <td>-0.317889</td>\n",
       "      <td>-0.036898</td>\n",
       "      <td>-0.017865</td>\n",
       "      <td>1</td>\n",
       "    </tr>\n",
       "    <tr>\n",
       "      <th>2</th>\n",
       "      <td>-0.287575</td>\n",
       "      <td>-0.262534</td>\n",
       "      <td>-0.139672</td>\n",
       "      <td>-0.275505</td>\n",
       "      <td>-0.054332</td>\n",
       "      <td>-0.212498</td>\n",
       "      <td>-0.322185</td>\n",
       "      <td>-0.349160</td>\n",
       "      <td>-0.470435</td>\n",
       "      <td>-0.315031</td>\n",
       "      <td>...</td>\n",
       "      <td>-0.332909</td>\n",
       "      <td>-0.390193</td>\n",
       "      <td>0.354506</td>\n",
       "      <td>-0.054565</td>\n",
       "      <td>-0.215337</td>\n",
       "      <td>-0.076679</td>\n",
       "      <td>-0.374613</td>\n",
       "      <td>-0.011985</td>\n",
       "      <td>-0.018311</td>\n",
       "      <td>1</td>\n",
       "    </tr>\n",
       "    <tr>\n",
       "      <th>3</th>\n",
       "      <td>-0.319447</td>\n",
       "      <td>-0.300391</td>\n",
       "      <td>-0.146966</td>\n",
       "      <td>-0.186046</td>\n",
       "      <td>-0.044379</td>\n",
       "      <td>-0.288598</td>\n",
       "      <td>-0.546238</td>\n",
       "      <td>-0.659561</td>\n",
       "      <td>-0.619631</td>\n",
       "      <td>-0.260704</td>\n",
       "      <td>...</td>\n",
       "      <td>1.536238</td>\n",
       "      <td>-0.466050</td>\n",
       "      <td>-0.508554</td>\n",
       "      <td>-0.559511</td>\n",
       "      <td>-0.661139</td>\n",
       "      <td>-0.139188</td>\n",
       "      <td>0.074972</td>\n",
       "      <td>-0.188274</td>\n",
       "      <td>-0.018311</td>\n",
       "      <td>1</td>\n",
       "    </tr>\n",
       "    <tr>\n",
       "      <th>4</th>\n",
       "      <td>-0.037646</td>\n",
       "      <td>-0.204762</td>\n",
       "      <td>-0.083749</td>\n",
       "      <td>-0.252664</td>\n",
       "      <td>-0.049745</td>\n",
       "      <td>-0.180282</td>\n",
       "      <td>1.103631</td>\n",
       "      <td>0.389314</td>\n",
       "      <td>0.326286</td>\n",
       "      <td>0.187787</td>\n",
       "      <td>...</td>\n",
       "      <td>-0.323407</td>\n",
       "      <td>-0.021406</td>\n",
       "      <td>0.427702</td>\n",
       "      <td>-0.178907</td>\n",
       "      <td>-0.173163</td>\n",
       "      <td>-0.139179</td>\n",
       "      <td>-0.354927</td>\n",
       "      <td>-0.075096</td>\n",
       "      <td>-0.018311</td>\n",
       "      <td>1</td>\n",
       "    </tr>\n",
       "  </tbody>\n",
       "</table>\n",
       "<p>5 rows × 32 columns</p>\n",
       "</div>"
      ],
      "text/plain": [
       "   Tot_Drug_Cst_sum  Tot_Drug_Cst_mean  Tot_Drug_Cst_median  Tot_Drug_Cst_std  \\\n",
       "0         -0.317309          -0.227162            -0.021360         -0.265648   \n",
       "1         -0.116470          -0.216518            -0.113193         -0.250141   \n",
       "2         -0.287575          -0.262534            -0.139672         -0.275505   \n",
       "3         -0.319447          -0.300391            -0.146966         -0.186046   \n",
       "4         -0.037646          -0.204762            -0.083749         -0.252664   \n",
       "\n",
       "   Tot_Drug_Cst_min  Tot_Drug_Cst_max  Tot_Clms_sum  Tot_Clms_mean  \\\n",
       "0          0.113900         -0.280852     -0.539220      -0.528596   \n",
       "1         -0.055166         -0.174498      0.359306      -0.106442   \n",
       "2         -0.054332         -0.212498     -0.322185      -0.349160   \n",
       "3         -0.044379         -0.288598     -0.546238      -0.659561   \n",
       "4         -0.049745         -0.180282      1.103631       0.389314   \n",
       "\n",
       "   Tot_Clms_median  Tot_Clms_std  ...  Tot_30day_Fills_min  \\\n",
       "0        -0.313092     -0.323452  ...             0.551670   \n",
       "1        -0.093931     -0.132144  ...            -0.332909   \n",
       "2        -0.470435     -0.315031  ...            -0.332909   \n",
       "3        -0.619631     -0.260704  ...             1.536238   \n",
       "4         0.326286      0.187787  ...            -0.323407   \n",
       "\n",
       "   Tot_30day_Fills_max  Tot_Benes_sum  Tot_Benes_mean  Tot_Benes_median  \\\n",
       "0            -0.442177      -0.530789        0.024439          0.079069   \n",
       "1            -0.042461       0.605377       -0.113222          0.002673   \n",
       "2            -0.390193       0.354506       -0.054565         -0.215337   \n",
       "3            -0.466050      -0.508554       -0.559511         -0.661139   \n",
       "4            -0.021406       0.427702       -0.178907         -0.173163   \n",
       "\n",
       "   Tot_Benes_std  Tot_Benes_min  Tot_Benes_max  Total Payment Sum  Target  \n",
       "0       0.000121       0.131756      -0.014349          -0.018311       1  \n",
       "1      -0.079206      -0.317889      -0.036898          -0.017865       1  \n",
       "2      -0.076679      -0.374613      -0.011985          -0.018311       1  \n",
       "3      -0.139188       0.074972      -0.188274          -0.018311       1  \n",
       "4      -0.139179      -0.354927      -0.075096          -0.018311       1  \n",
       "\n",
       "[5 rows x 32 columns]"
      ]
     },
     "execution_count": 31,
     "metadata": {},
     "output_type": "execute_result"
    }
   ],
   "source": [
    "df_new = pd.concat([X_df, y_df], axis =1)\n",
    "df_new.head()"
   ]
  },
  {
   "cell_type": "code",
   "execution_count": null,
   "id": "2bed753a",
   "metadata": {},
   "outputs": [],
   "source": []
  },
  {
   "cell_type": "markdown",
   "id": "1e8324ff",
   "metadata": {},
   "source": [
    "### Feature Importnace and Selection"
   ]
  },
  {
   "cell_type": "code",
   "execution_count": 32,
   "id": "c7564f34",
   "metadata": {},
   "outputs": [
    {
     "name": "stdout",
     "output_type": "stream",
     "text": [
      "Imported 0.1.996 version. Select nrows to a small number when running on huge datasets.\n",
      "output = featurewiz(dataname, target, corr_limit=0.70, verbose=2, sep=',', \n",
      "\t\theader=0, test_data='',feature_engg='', category_encoders='',\n",
      "\t\tdask_xgboost_flag=False, nrows=None)\n",
      "Create new features via 'feature_engg' flag : ['interactions','groupby','target']\n",
      "\n"
     ]
    }
   ],
   "source": [
    "np.random.seed(1234)"
   ]
  },
  {
   "cell_type": "code",
   "execution_count": 33,
   "id": "052b7384",
   "metadata": {},
   "outputs": [
    {
     "name": "stdout",
     "output_type": "stream",
     "text": [
      "############################################################################################\n",
      "############       F A S T   F E A T U R E  E N G G    A N D    S E L E C T I O N ! ########\n",
      "# Be judicious with featurewiz. Don't use it to create too many un-interpretable features! #\n",
      "############################################################################################\n",
      "Skipping feature engineering since no feature_engg input...\n",
      "Skipping category encoding since no category encoders specified in input...\n",
      "#### Single_Label Binary_Classification problem ####\n",
      "    Caution: We will try to reduce the memory usage of dataframe from 548.21 MB\n",
      "        memory usage after optimization is: 134.91 MB\n",
      "        decreased by 75.4%\n",
      "    Loaded train data. Shape = (2245488, 32)\n",
      "    Some column names had special characters which were removed...\n",
      "#### Single_Label Binary_Classification problem ####\n",
      "No test data filename given...\n",
      "Classifying features using a random sample of 10000 rows from dataset...\n",
      "#### Single_Label Binary_Classification problem ####\n",
      "    loading a random sample of 10000 rows into pandas for EDA\n",
      "#######################################################################################\n",
      "######################## C L A S S I F Y I N G  V A R I A B L E S  ####################\n",
      "#######################################################################################\n",
      "        No variables were removed since no ID or low-information variables found in data set\n",
      "No GPU active on this device\n",
      "    Tuning XGBoost using CPU hyper-parameters. This will take time...\n",
      "    After removing redundant variables from further processing, features left = 31\n",
      "No interactions created for categorical vars since feature engg does not specify it\n",
      "    Running SULOV on smaller dataset sample since data size 71 m > 50 m. Continuing ...\n",
      "#######################################################################################\n",
      "#####  Searching for Uncorrelated List Of Variables (SULOV) in 31 features ############\n",
      "#######################################################################################\n",
      "    there are no null values in dataset...\n",
      "    Removing (16) highly correlated variables:\n",
      "    ['Tot_30day_Fills_max', 'Tot_30day_Fills_mean', 'Tot_30day_Fills_median', 'Tot_30day_Fills_std', 'Tot_30day_Fills_sum', 'Tot_Benes_mean', 'Tot_Benes_std', 'Tot_Clms_max', 'Tot_Clms_min', 'Tot_Clms_std', 'Tot_Clms_sum', 'Tot_Day_Suply_mean', 'Tot_Day_Suply_std', 'Tot_Day_Suply_sum', 'Tot_Drug_Cst_max', 'Tot_Drug_Cst_mean']\n",
      "    Following (15) vars selected: ['Tot_Day_Suply_min', 'Tot_Drug_Cst_median', 'Tot_Drug_Cst_min', 'TotalPaymentSum', 'Tot_Clms_median', 'Tot_Benes_median', 'Tot_Benes_max', 'Tot_Benes_min', 'Tot_30day_Fills_min', 'Tot_Benes_sum', 'Tot_Day_Suply_median', 'Tot_Clms_mean', 'Tot_Day_Suply_max', 'Tot_Drug_Cst_std', 'Tot_Drug_Cst_sum']\n"
     ]
    },
    {
     "data": {
      "image/png": "[encoded data removed]",
      "text/plain": [
       "<Figure size 1080x1440 with 1 Axes>"
      ]
     },
     "metadata": {},
     "output_type": "display_data"
    },
    {
     "name": "stdout",
     "output_type": "stream",
     "text": [
      "Time taken for SULOV method = 2 seconds\n",
      "    Adding 0 categorical variables to reduced numeric variables  of 15\n",
      "Final list of selected 15 vars after SULOV = ['Tot_Day_Suply_min', 'Tot_Drug_Cst_median', 'Tot_Drug_Cst_min', 'TotalPaymentSum', 'Tot_Clms_median', 'Tot_Benes_median', 'Tot_Benes_max', 'Tot_Benes_min', 'Tot_30day_Fills_min', 'Tot_Benes_sum', 'Tot_Day_Suply_median', 'Tot_Clms_mean', 'Tot_Day_Suply_max', 'Tot_Drug_Cst_std', 'Tot_Drug_Cst_sum']\n",
      "Converting all features to numeric before sending to XGBoost...\n",
      "#######################################################################################\n",
      "#####    R E C U R S I V E   X G B O O S T : F E A T U R E   S E L E C T I O N  #######\n",
      "#######################################################################################\n",
      "    using regular XGBoost\n",
      "Current number of predictors before recursive XGBoost = 15 \n",
      "    Taking top 7 features per iteration...\n",
      "    XGBoost version using 1.6.2 as tree method: hist\n",
      "Number of booster rounds = 20\n",
      "        using 15 variables...\n",
      "            Time taken for regular XGBoost feature selection = 17 seconds\n",
      "        using 12 variables...\n",
      "            Time taken for regular XGBoost feature selection = 14 seconds\n",
      "        using 9 variables...\n",
      "            Time taken for regular XGBoost feature selection = 13 seconds\n"
     ]
    },
    {
     "data": {
      "image/png": "[encoded data removed]",
      "text/plain": [
       "<Figure size 720x720 with 4 Axes>"
      ]
     },
     "metadata": {
      "needs_background": "light"
     },
     "output_type": "display_data"
    },
    {
     "name": "stdout",
     "output_type": "stream",
     "text": [
      "    Completed XGBoost feature selection in 1 seconds\n",
      "#######################################################################################\n",
      "#####          F E A T U R E   S E L E C T I O N   C O M P L E T E D            #######\n",
      "#######################################################################################\n",
      "Selected 9 important features:\n",
      "['Tot_30day_Fills_min', 'Tot_Benes_min', 'Tot_Drug_Cst_sum', 'Tot_Benes_median', 'TotalPaymentSum', 'Tot_Benes_sum', 'Tot_Day_Suply_median', 'Tot_Drug_Cst_std', 'Tot_Day_Suply_max']\n",
      "Total Time taken for featurewiz selection = 48 seconds\n",
      "Output contains a list of 9 important features and a train dataframe\n"
     ]
    }
   ],
   "source": [
    "# automatic feature selection by using featurewiz package\n",
    "target = ['Target']\n",
    " \n",
    "features, df_sel = featurewiz(df_new, target, corr_limit=0.8, verbose=2, sep=\",\",\n",
    "header=0,test_data=\"\", feature_engg=\"\", category_encoders=\"\")"
   ]
  },
  {
   "cell_type": "code",
   "execution_count": 34,
   "id": "f72b4e15",
   "metadata": {},
   "outputs": [
    {
     "data": {
      "text/plain": [
       "['Tot_30day_Fills_min',\n",
       " 'Tot_Benes_min',\n",
       " 'Tot_Drug_Cst_sum',\n",
       " 'Tot_Benes_median',\n",
       " 'Total Payment Sum',\n",
       " 'Tot_Benes_sum',\n",
       " 'Tot_Day_Suply_median',\n",
       " 'Tot_Drug_Cst_std',\n",
       " 'Tot_Day_Suply_max']"
      ]
     },
     "execution_count": 34,
     "metadata": {},
     "output_type": "execute_result"
    }
   ],
   "source": [
    "features"
   ]
  },
  {
   "cell_type": "code",
   "execution_count": 35,
   "id": "dfc4f2b5",
   "metadata": {},
   "outputs": [
    {
     "data": {
      "text/html": [
       "<div>\n",
       "<style scoped>\n",
       "    .dataframe tbody tr th:only-of-type {\n",
       "        vertical-align: middle;\n",
       "    }\n",
       "\n",
       "    .dataframe tbody tr th {\n",
       "        vertical-align: top;\n",
       "    }\n",
       "\n",
       "    .dataframe thead th {\n",
       "        text-align: right;\n",
       "    }\n",
       "</style>\n",
       "<table border=\"1\" class=\"dataframe\">\n",
       "  <thead>\n",
       "    <tr style=\"text-align: right;\">\n",
       "      <th></th>\n",
       "      <th>Tot_30day_Fills_min</th>\n",
       "      <th>Tot_Benes_min</th>\n",
       "      <th>Tot_Drug_Cst_sum</th>\n",
       "      <th>Tot_Benes_median</th>\n",
       "      <th>Total Payment Sum</th>\n",
       "      <th>Tot_Benes_sum</th>\n",
       "      <th>Tot_Day_Suply_median</th>\n",
       "      <th>Tot_Drug_Cst_std</th>\n",
       "      <th>Tot_Day_Suply_max</th>\n",
       "      <th>Target</th>\n",
       "    </tr>\n",
       "  </thead>\n",
       "  <tbody>\n",
       "    <tr>\n",
       "      <th>0</th>\n",
       "      <td>0.551758</td>\n",
       "      <td>0.131714</td>\n",
       "      <td>-0.317383</td>\n",
       "      <td>0.079041</td>\n",
       "      <td>-0.018311</td>\n",
       "      <td>-0.530762</td>\n",
       "      <td>-0.075256</td>\n",
       "      <td>-0.265625</td>\n",
       "      <td>-0.554688</td>\n",
       "      <td>1</td>\n",
       "    </tr>\n",
       "    <tr>\n",
       "      <th>1</th>\n",
       "      <td>-0.333008</td>\n",
       "      <td>-0.317871</td>\n",
       "      <td>-0.116455</td>\n",
       "      <td>0.002672</td>\n",
       "      <td>-0.017868</td>\n",
       "      <td>0.605469</td>\n",
       "      <td>0.360840</td>\n",
       "      <td>-0.250244</td>\n",
       "      <td>-0.012131</td>\n",
       "      <td>1</td>\n",
       "    </tr>\n",
       "    <tr>\n",
       "      <th>2</th>\n",
       "      <td>-0.333008</td>\n",
       "      <td>-0.374512</td>\n",
       "      <td>-0.287598</td>\n",
       "      <td>-0.215332</td>\n",
       "      <td>-0.018311</td>\n",
       "      <td>0.354492</td>\n",
       "      <td>-0.572754</td>\n",
       "      <td>-0.275391</td>\n",
       "      <td>-0.488281</td>\n",
       "      <td>1</td>\n",
       "    </tr>\n",
       "    <tr>\n",
       "      <th>3</th>\n",
       "      <td>1.536133</td>\n",
       "      <td>0.074951</td>\n",
       "      <td>-0.319336</td>\n",
       "      <td>-0.661133</td>\n",
       "      <td>-0.018311</td>\n",
       "      <td>-0.508789</td>\n",
       "      <td>-0.028824</td>\n",
       "      <td>-0.186035</td>\n",
       "      <td>-0.596191</td>\n",
       "      <td>1</td>\n",
       "    </tr>\n",
       "    <tr>\n",
       "      <th>4</th>\n",
       "      <td>-0.323486</td>\n",
       "      <td>-0.354980</td>\n",
       "      <td>-0.037659</td>\n",
       "      <td>-0.173218</td>\n",
       "      <td>-0.018311</td>\n",
       "      <td>0.427734</td>\n",
       "      <td>-0.024689</td>\n",
       "      <td>-0.252686</td>\n",
       "      <td>-0.027084</td>\n",
       "      <td>1</td>\n",
       "    </tr>\n",
       "  </tbody>\n",
       "</table>\n",
       "</div>"
      ],
      "text/plain": [
       "   Tot_30day_Fills_min  Tot_Benes_min  Tot_Drug_Cst_sum  Tot_Benes_median  \\\n",
       "0             0.551758       0.131714         -0.317383          0.079041   \n",
       "1            -0.333008      -0.317871         -0.116455          0.002672   \n",
       "2            -0.333008      -0.374512         -0.287598         -0.215332   \n",
       "3             1.536133       0.074951         -0.319336         -0.661133   \n",
       "4            -0.323486      -0.354980         -0.037659         -0.173218   \n",
       "\n",
       "   Total Payment Sum  Tot_Benes_sum  Tot_Day_Suply_median  Tot_Drug_Cst_std  \\\n",
       "0          -0.018311      -0.530762             -0.075256         -0.265625   \n",
       "1          -0.017868       0.605469              0.360840         -0.250244   \n",
       "2          -0.018311       0.354492             -0.572754         -0.275391   \n",
       "3          -0.018311      -0.508789             -0.028824         -0.186035   \n",
       "4          -0.018311       0.427734             -0.024689         -0.252686   \n",
       "\n",
       "   Tot_Day_Suply_max  Target  \n",
       "0          -0.554688       1  \n",
       "1          -0.012131       1  \n",
       "2          -0.488281       1  \n",
       "3          -0.596191       1  \n",
       "4          -0.027084       1  "
      ]
     },
     "execution_count": 35,
     "metadata": {},
     "output_type": "execute_result"
    }
   ],
   "source": [
    "df_sel.head()"
   ]
  },
  {
   "cell_type": "code",
   "execution_count": 36,
   "id": "5d14682a",
   "metadata": {},
   "outputs": [
    {
     "data": {
      "text/html": [
       "<div>\n",
       "<style scoped>\n",
       "    .dataframe tbody tr th:only-of-type {\n",
       "        vertical-align: middle;\n",
       "    }\n",
       "\n",
       "    .dataframe tbody tr th {\n",
       "        vertical-align: top;\n",
       "    }\n",
       "\n",
       "    .dataframe thead th {\n",
       "        text-align: right;\n",
       "    }\n",
       "</style>\n",
       "<table border=\"1\" class=\"dataframe\">\n",
       "  <thead>\n",
       "    <tr style=\"text-align: right;\">\n",
       "      <th></th>\n",
       "      <th>npi</th>\n",
       "    </tr>\n",
       "  </thead>\n",
       "  <tbody>\n",
       "    <tr>\n",
       "      <th>0</th>\n",
       "      <td>1712803439</td>\n",
       "    </tr>\n",
       "    <tr>\n",
       "      <th>1</th>\n",
       "      <td>1477040842</td>\n",
       "    </tr>\n",
       "    <tr>\n",
       "      <th>2</th>\n",
       "      <td>1436364689</td>\n",
       "    </tr>\n",
       "    <tr>\n",
       "      <th>3</th>\n",
       "      <td>1927711963</td>\n",
       "    </tr>\n",
       "    <tr>\n",
       "      <th>4</th>\n",
       "      <td>1638667288</td>\n",
       "    </tr>\n",
       "  </tbody>\n",
       "</table>\n",
       "</div>"
      ],
      "text/plain": [
       "          npi\n",
       "0  1712803439\n",
       "1  1477040842\n",
       "2  1436364689\n",
       "3  1927711963\n",
       "4  1638667288"
      ]
     },
     "execution_count": 36,
     "metadata": {},
     "output_type": "execute_result"
    }
   ],
   "source": [
    "npi_df.head()"
   ]
  },
  {
   "cell_type": "code",
   "execution_count": 37,
   "id": "482c7178",
   "metadata": {},
   "outputs": [
    {
     "data": {
      "text/html": [
       "<div>\n",
       "<style scoped>\n",
       "    .dataframe tbody tr th:only-of-type {\n",
       "        vertical-align: middle;\n",
       "    }\n",
       "\n",
       "    .dataframe tbody tr th {\n",
       "        vertical-align: top;\n",
       "    }\n",
       "\n",
       "    .dataframe thead th {\n",
       "        text-align: right;\n",
       "    }\n",
       "</style>\n",
       "<table border=\"1\" class=\"dataframe\">\n",
       "  <thead>\n",
       "    <tr style=\"text-align: right;\">\n",
       "      <th></th>\n",
       "      <th>npi</th>\n",
       "      <th>Tot_30day_Fills_min</th>\n",
       "      <th>Tot_Benes_min</th>\n",
       "      <th>Tot_Drug_Cst_sum</th>\n",
       "      <th>Tot_Benes_median</th>\n",
       "      <th>Total Payment Sum</th>\n",
       "      <th>Tot_Benes_sum</th>\n",
       "      <th>Tot_Day_Suply_median</th>\n",
       "      <th>Tot_Drug_Cst_std</th>\n",
       "      <th>Tot_Day_Suply_max</th>\n",
       "      <th>Target</th>\n",
       "    </tr>\n",
       "  </thead>\n",
       "  <tbody>\n",
       "    <tr>\n",
       "      <th>0</th>\n",
       "      <td>1712803439</td>\n",
       "      <td>0.551758</td>\n",
       "      <td>0.131714</td>\n",
       "      <td>-0.317383</td>\n",
       "      <td>0.079041</td>\n",
       "      <td>-0.018311</td>\n",
       "      <td>-0.530762</td>\n",
       "      <td>-0.075256</td>\n",
       "      <td>-0.265625</td>\n",
       "      <td>-0.554688</td>\n",
       "      <td>1</td>\n",
       "    </tr>\n",
       "    <tr>\n",
       "      <th>1</th>\n",
       "      <td>1477040842</td>\n",
       "      <td>-0.333008</td>\n",
       "      <td>-0.317871</td>\n",
       "      <td>-0.116455</td>\n",
       "      <td>0.002672</td>\n",
       "      <td>-0.017868</td>\n",
       "      <td>0.605469</td>\n",
       "      <td>0.360840</td>\n",
       "      <td>-0.250244</td>\n",
       "      <td>-0.012131</td>\n",
       "      <td>1</td>\n",
       "    </tr>\n",
       "    <tr>\n",
       "      <th>2</th>\n",
       "      <td>1436364689</td>\n",
       "      <td>-0.333008</td>\n",
       "      <td>-0.374512</td>\n",
       "      <td>-0.287598</td>\n",
       "      <td>-0.215332</td>\n",
       "      <td>-0.018311</td>\n",
       "      <td>0.354492</td>\n",
       "      <td>-0.572754</td>\n",
       "      <td>-0.275391</td>\n",
       "      <td>-0.488281</td>\n",
       "      <td>1</td>\n",
       "    </tr>\n",
       "    <tr>\n",
       "      <th>3</th>\n",
       "      <td>1927711963</td>\n",
       "      <td>1.536133</td>\n",
       "      <td>0.074951</td>\n",
       "      <td>-0.319336</td>\n",
       "      <td>-0.661133</td>\n",
       "      <td>-0.018311</td>\n",
       "      <td>-0.508789</td>\n",
       "      <td>-0.028824</td>\n",
       "      <td>-0.186035</td>\n",
       "      <td>-0.596191</td>\n",
       "      <td>1</td>\n",
       "    </tr>\n",
       "    <tr>\n",
       "      <th>4</th>\n",
       "      <td>1638667288</td>\n",
       "      <td>-0.323486</td>\n",
       "      <td>-0.354980</td>\n",
       "      <td>-0.037659</td>\n",
       "      <td>-0.173218</td>\n",
       "      <td>-0.018311</td>\n",
       "      <td>0.427734</td>\n",
       "      <td>-0.024689</td>\n",
       "      <td>-0.252686</td>\n",
       "      <td>-0.027084</td>\n",
       "      <td>1</td>\n",
       "    </tr>\n",
       "  </tbody>\n",
       "</table>\n",
       "</div>"
      ],
      "text/plain": [
       "          npi  Tot_30day_Fills_min  Tot_Benes_min  Tot_Drug_Cst_sum  \\\n",
       "0  1712803439             0.551758       0.131714         -0.317383   \n",
       "1  1477040842            -0.333008      -0.317871         -0.116455   \n",
       "2  1436364689            -0.333008      -0.374512         -0.287598   \n",
       "3  1927711963             1.536133       0.074951         -0.319336   \n",
       "4  1638667288            -0.323486      -0.354980         -0.037659   \n",
       "\n",
       "   Tot_Benes_median  Total Payment Sum  Tot_Benes_sum  Tot_Day_Suply_median  \\\n",
       "0          0.079041          -0.018311      -0.530762             -0.075256   \n",
       "1          0.002672          -0.017868       0.605469              0.360840   \n",
       "2         -0.215332          -0.018311       0.354492             -0.572754   \n",
       "3         -0.661133          -0.018311      -0.508789             -0.028824   \n",
       "4         -0.173218          -0.018311       0.427734             -0.024689   \n",
       "\n",
       "   Tot_Drug_Cst_std  Tot_Day_Suply_max  Target  \n",
       "0         -0.265625          -0.554688       1  \n",
       "1         -0.250244          -0.012131       1  \n",
       "2         -0.275391          -0.488281       1  \n",
       "3         -0.186035          -0.596191       1  \n",
       "4         -0.252686          -0.027084       1  "
      ]
     },
     "execution_count": 37,
     "metadata": {},
     "output_type": "execute_result"
    }
   ],
   "source": [
    "df_sel = pd.concat([npi_df, df_sel], axis =1)\n",
    "df_sel.head()"
   ]
  },
  {
   "cell_type": "code",
   "execution_count": 38,
   "id": "debad2f7",
   "metadata": {},
   "outputs": [
    {
     "data": {
      "text/plain": [
       "(2245488, 11)"
      ]
     },
     "execution_count": 38,
     "metadata": {},
     "output_type": "execute_result"
    }
   ],
   "source": [
    "df_sel.shape"
   ]
  },
  {
   "cell_type": "code",
   "execution_count": 39,
   "id": "ae175f6b",
   "metadata": {},
   "outputs": [],
   "source": [
    "df_sel['npi'] = df_sel['npi'].astype('object')"
   ]
  },
  {
   "cell_type": "code",
   "execution_count": 40,
   "id": "2a51871a",
   "metadata": {},
   "outputs": [
    {
     "name": "stdout",
     "output_type": "stream",
     "text": [
      "<class 'pandas.core.frame.DataFrame'>\n",
      "RangeIndex: 2245488 entries, 0 to 2245487\n",
      "Data columns (total 11 columns):\n",
      " #   Column                Dtype  \n",
      "---  ------                -----  \n",
      " 0   npi                   object \n",
      " 1   Tot_30day_Fills_min   float16\n",
      " 2   Tot_Benes_min         float16\n",
      " 3   Tot_Drug_Cst_sum      float16\n",
      " 4   Tot_Benes_median      float16\n",
      " 5   Total Payment Sum     float16\n",
      " 6   Tot_Benes_sum         float16\n",
      " 7   Tot_Day_Suply_median  float16\n",
      " 8   Tot_Drug_Cst_std      float16\n",
      " 9   Tot_Day_Suply_max     float16\n",
      " 10  Target                int8   \n",
      "dtypes: float16(9), int8(1), object(1)\n",
      "memory usage: 57.8+ MB\n"
     ]
    }
   ],
   "source": [
    "df_sel.info()"
   ]
  },
  {
   "cell_type": "code",
   "execution_count": 41,
   "id": "ac77fdea",
   "metadata": {},
   "outputs": [
    {
     "data": {
      "text/html": [
       "<div>\n",
       "<style scoped>\n",
       "    .dataframe tbody tr th:only-of-type {\n",
       "        vertical-align: middle;\n",
       "    }\n",
       "\n",
       "    .dataframe tbody tr th {\n",
       "        vertical-align: top;\n",
       "    }\n",
       "\n",
       "    .dataframe thead th {\n",
       "        text-align: right;\n",
       "    }\n",
       "</style>\n",
       "<table border=\"1\" class=\"dataframe\">\n",
       "  <thead>\n",
       "    <tr style=\"text-align: right;\">\n",
       "      <th></th>\n",
       "      <th>npi</th>\n",
       "      <th>Tot_30day_Fills_min</th>\n",
       "      <th>Tot_Benes_min</th>\n",
       "      <th>Tot_Drug_Cst_sum</th>\n",
       "      <th>Tot_Benes_median</th>\n",
       "      <th>Total Payment Sum</th>\n",
       "      <th>Tot_Benes_sum</th>\n",
       "      <th>Tot_Day_Suply_median</th>\n",
       "      <th>Tot_Drug_Cst_std</th>\n",
       "      <th>Tot_Day_Suply_max</th>\n",
       "      <th>Target</th>\n",
       "    </tr>\n",
       "  </thead>\n",
       "  <tbody>\n",
       "    <tr>\n",
       "      <th>0</th>\n",
       "      <td>1712803439</td>\n",
       "      <td>0.551758</td>\n",
       "      <td>0.131714</td>\n",
       "      <td>-0.317383</td>\n",
       "      <td>0.079041</td>\n",
       "      <td>-0.018311</td>\n",
       "      <td>-0.530762</td>\n",
       "      <td>-0.075256</td>\n",
       "      <td>-0.265625</td>\n",
       "      <td>-0.554688</td>\n",
       "      <td>1</td>\n",
       "    </tr>\n",
       "    <tr>\n",
       "      <th>1</th>\n",
       "      <td>1477040842</td>\n",
       "      <td>-0.333008</td>\n",
       "      <td>-0.317871</td>\n",
       "      <td>-0.116455</td>\n",
       "      <td>0.002672</td>\n",
       "      <td>-0.017868</td>\n",
       "      <td>0.605469</td>\n",
       "      <td>0.360840</td>\n",
       "      <td>-0.250244</td>\n",
       "      <td>-0.012131</td>\n",
       "      <td>1</td>\n",
       "    </tr>\n",
       "    <tr>\n",
       "      <th>2</th>\n",
       "      <td>1436364689</td>\n",
       "      <td>-0.333008</td>\n",
       "      <td>-0.374512</td>\n",
       "      <td>-0.287598</td>\n",
       "      <td>-0.215332</td>\n",
       "      <td>-0.018311</td>\n",
       "      <td>0.354492</td>\n",
       "      <td>-0.572754</td>\n",
       "      <td>-0.275391</td>\n",
       "      <td>-0.488281</td>\n",
       "      <td>1</td>\n",
       "    </tr>\n",
       "    <tr>\n",
       "      <th>3</th>\n",
       "      <td>1927711963</td>\n",
       "      <td>1.536133</td>\n",
       "      <td>0.074951</td>\n",
       "      <td>-0.319336</td>\n",
       "      <td>-0.661133</td>\n",
       "      <td>-0.018311</td>\n",
       "      <td>-0.508789</td>\n",
       "      <td>-0.028824</td>\n",
       "      <td>-0.186035</td>\n",
       "      <td>-0.596191</td>\n",
       "      <td>1</td>\n",
       "    </tr>\n",
       "    <tr>\n",
       "      <th>4</th>\n",
       "      <td>1638667288</td>\n",
       "      <td>-0.323486</td>\n",
       "      <td>-0.354980</td>\n",
       "      <td>-0.037659</td>\n",
       "      <td>-0.173218</td>\n",
       "      <td>-0.018311</td>\n",
       "      <td>0.427734</td>\n",
       "      <td>-0.024689</td>\n",
       "      <td>-0.252686</td>\n",
       "      <td>-0.027084</td>\n",
       "      <td>1</td>\n",
       "    </tr>\n",
       "  </tbody>\n",
       "</table>\n",
       "</div>"
      ],
      "text/plain": [
       "          npi  Tot_30day_Fills_min  Tot_Benes_min  Tot_Drug_Cst_sum  \\\n",
       "0  1712803439             0.551758       0.131714         -0.317383   \n",
       "1  1477040842            -0.333008      -0.317871         -0.116455   \n",
       "2  1436364689            -0.333008      -0.374512         -0.287598   \n",
       "3  1927711963             1.536133       0.074951         -0.319336   \n",
       "4  1638667288            -0.323486      -0.354980         -0.037659   \n",
       "\n",
       "   Tot_Benes_median  Total Payment Sum  Tot_Benes_sum  Tot_Day_Suply_median  \\\n",
       "0          0.079041          -0.018311      -0.530762             -0.075256   \n",
       "1          0.002672          -0.017868       0.605469              0.360840   \n",
       "2         -0.215332          -0.018311       0.354492             -0.572754   \n",
       "3         -0.661133          -0.018311      -0.508789             -0.028824   \n",
       "4         -0.173218          -0.018311       0.427734             -0.024689   \n",
       "\n",
       "   Tot_Drug_Cst_std  Tot_Day_Suply_max  Target  \n",
       "0         -0.265625          -0.554688       1  \n",
       "1         -0.250244          -0.012131       1  \n",
       "2         -0.275391          -0.488281       1  \n",
       "3         -0.186035          -0.596191       1  \n",
       "4         -0.252686          -0.027084       1  "
      ]
     },
     "execution_count": 41,
     "metadata": {},
     "output_type": "execute_result"
    }
   ],
   "source": [
    "df_sel.head()"
   ]
  },
  {
   "cell_type": "code",
   "execution_count": null,
   "id": "ea43d830",
   "metadata": {},
   "outputs": [],
   "source": []
  },
  {
   "cell_type": "markdown",
   "id": "93ad2766",
   "metadata": {},
   "source": [
    "### Splitting The Dataset"
   ]
  },
  {
   "cell_type": "code",
   "execution_count": 42,
   "id": "dc030822",
   "metadata": {},
   "outputs": [],
   "source": [
    "df_sel = df_sel.iloc[:50000]"
   ]
  },
  {
   "cell_type": "code",
   "execution_count": 43,
   "id": "fcfecf6f",
   "metadata": {},
   "outputs": [],
   "source": [
    "X = df_sel.drop(['npi', 'Target'], axis =1)\n",
    "y = df_sel['Target']"
   ]
  },
  {
   "cell_type": "code",
   "execution_count": 44,
   "id": "516e2989",
   "metadata": {},
   "outputs": [],
   "source": [
    "X_train, X_test, y_train, y_test = train_test_split(X,y,test_size=0.30, random_state=12, stratify= y)"
   ]
  },
  {
   "cell_type": "code",
   "execution_count": 45,
   "id": "4413821c",
   "metadata": {},
   "outputs": [
    {
     "data": {
      "text/plain": [
       "(35000, 9)"
      ]
     },
     "execution_count": 45,
     "metadata": {},
     "output_type": "execute_result"
    }
   ],
   "source": [
    "X_train.shape"
   ]
  },
  {
   "cell_type": "code",
   "execution_count": 46,
   "id": "9521d86d",
   "metadata": {},
   "outputs": [
    {
     "data": {
      "text/plain": [
       "(15000, 9)"
      ]
     },
     "execution_count": 46,
     "metadata": {},
     "output_type": "execute_result"
    }
   ],
   "source": [
    "X_test.shape"
   ]
  },
  {
   "cell_type": "markdown",
   "id": "30421715",
   "metadata": {},
   "source": [
    "### 1. Random Forest Model"
   ]
  },
  {
   "cell_type": "code",
   "execution_count": 47,
   "id": "c798a8f0",
   "metadata": {},
   "outputs": [],
   "source": [
    "## Importing Random Forest Classifier from the sklearn.ensemble\n",
    "from sklearn.ensemble import RandomForestClassifier"
   ]
  },
  {
   "cell_type": "code",
   "execution_count": null,
   "id": "ab13c001",
   "metadata": {},
   "outputs": [],
   "source": []
  },
  {
   "cell_type": "code",
   "execution_count": 48,
   "id": "8b8b7260",
   "metadata": {},
   "outputs": [],
   "source": [
    "## Instantiating the model\n",
    "\n",
    "rf = RandomForestClassifier(n_estimators = 1000)\n",
    "\n",
    "## Training the model with the the train dataset\n",
    "model_rf = rf.fit(X_train, y_train)"
   ]
  },
  {
   "cell_type": "code",
   "execution_count": 49,
   "id": "c33d596f",
   "metadata": {},
   "outputs": [],
   "source": [
    "## Predicitng the the target variables of the test data \n",
    "Y_pred_rf = rf.predict(X_test)"
   ]
  },
  {
   "cell_type": "code",
   "execution_count": 50,
   "id": "c87e282d",
   "metadata": {},
   "outputs": [
    {
     "name": "stdout",
     "output_type": "stream",
     "text": [
      "Random Forest Model accuracy score: 98.8800\n"
     ]
    }
   ],
   "source": [
    "# Calculating and viewing the accuracy score for the decision tree model\n",
    "\n",
    "print('Random Forest Model accuracy score: {0:0.4f}'.format(accuracy_score(y_test, Y_pred_rf)*100))"
   ]
  },
  {
   "cell_type": "code",
   "execution_count": 51,
   "id": "95fd5615",
   "metadata": {},
   "outputs": [
    {
     "name": "stdout",
     "output_type": "stream",
     "text": [
      "Random Forest Model Precision score: 99.0003\n"
     ]
    }
   ],
   "source": [
    "# Calculating and viewing the precision score for the decision tree model\n",
    "\n",
    "precision_rf = precision_score(y_test, Y_pred_rf, pos_label=1)\n",
    "print('Random Forest Model Precision score: {0:0.4f}'.format(precision_rf*100))"
   ]
  },
  {
   "cell_type": "code",
   "execution_count": 52,
   "id": "b0023e1c",
   "metadata": {},
   "outputs": [
    {
     "name": "stdout",
     "output_type": "stream",
     "text": [
      "Random Forest Model Precision score: 98.7633\n"
     ]
    }
   ],
   "source": [
    "# Calculating and viewing the recall score for the decision tree model\n",
    "\n",
    "recall_rf = recall_score(y_test, Y_pred_rf, pos_label=1)\n",
    "print('Random Forest Model Precision score: {0:0.4f}'.format(recall_rf*100))"
   ]
  },
  {
   "cell_type": "code",
   "execution_count": 53,
   "id": "daa7b018",
   "metadata": {},
   "outputs": [
    {
     "name": "stdout",
     "output_type": "stream",
     "text": [
      "Random Forest Model Precision score: 98.8816\n"
     ]
    }
   ],
   "source": [
    "# Calculating and viewing the precision score for the decision tree model\n",
    "\n",
    "f1_score_rf = f1_score(y_test, Y_pred_rf, pos_label=1)\n",
    "print('Random Forest Model Precision score: {0:0.4f}'.format(f1_score_rf*100))"
   ]
  },
  {
   "cell_type": "code",
   "execution_count": 54,
   "id": "1a2c516c",
   "metadata": {},
   "outputs": [
    {
     "name": "stdout",
     "output_type": "stream",
     "text": [
      "Confusion matrix\n",
      "\n",
      " [[7405   75]\n",
      " [  93 7427]]\n",
      "\n",
      "True Positives(TP) =  7427\n",
      "\n",
      "True Negatives(TN) =  7405\n",
      "\n",
      "False Positives(FP) =  75\n",
      "\n",
      "False Negatives(FN) =  93\n"
     ]
    }
   ],
   "source": [
    "#Confusion-matrix\n",
    "# view confusion-matrix\n",
    "# Print the Confusion Matrix and slice it into four pieces\n",
    "\n",
    "from sklearn.metrics import confusion_matrix\n",
    "cm_rf = confusion_matrix(y_test, Y_pred_rf)\n",
    "print('Confusion matrix\\n\\n', cm_rf)\n",
    "print('\\nTrue Positives(TP) = ', cm_rf[1,1])\n",
    "print('\\nTrue Negatives(TN) = ', cm_rf[0,0])\n",
    "print('\\nFalse Positives(FP) = ', cm_rf[0,1])\n",
    "print('\\nFalse Negatives(FN) = ', cm_rf[1,0])"
   ]
  },
  {
   "cell_type": "code",
   "execution_count": 55,
   "id": "d3bc9bd3",
   "metadata": {},
   "outputs": [
    {
     "data": {
      "text/plain": [
       "<AxesSubplot:>"
      ]
     },
     "execution_count": 55,
     "metadata": {},
     "output_type": "execute_result"
    },
    {
     "data": {
      "image/png": "[encoded data removed]",
      "text/plain": [
       "<Figure size 432x432 with 2 Axes>"
      ]
     },
     "metadata": {
      "needs_background": "light"
     },
     "output_type": "display_data"
    }
   ],
   "source": [
    "# visualize confusion matrix with seaborn heatmap\n",
    "\n",
    "plt.figure(figsize=(6, 6))\n",
    "sns.set_style(\"darkgrid\")\n",
    "cm_rf_matrix = pd.DataFrame(data=cm_rf, columns=['Predict Negative:0', 'Predict Positive:1'], \n",
    "                                 index=['Actual Negative:0', 'Actual Positive:1'])\n",
    "\n",
    "sns.heatmap(cm_rf_matrix, annot=True, fmt='d', cmap=plt.cm.Greens)"
   ]
  },
  {
   "cell_type": "code",
   "execution_count": 56,
   "id": "584c3167",
   "metadata": {},
   "outputs": [
    {
     "name": "stdout",
     "output_type": "stream",
     "text": [
      "              precision    recall  f1-score   support\n",
      "\n",
      "           0       0.99      0.99      0.99      7480\n",
      "           1       0.99      0.99      0.99      7520\n",
      "\n",
      "    accuracy                           0.99     15000\n",
      "   macro avg       0.99      0.99      0.99     15000\n",
      "weighted avg       0.99      0.99      0.99     15000\n",
      "\n"
     ]
    }
   ],
   "source": [
    "## Viewing the classification report of the model\n",
    "\n",
    "print(classification_report(y_test, Y_pred_rf))"
   ]
  },
  {
   "cell_type": "code",
   "execution_count": 57,
   "id": "0ecd5cd2",
   "metadata": {},
   "outputs": [
    {
     "data": {
      "image/png": "[encoded data removed]",
      "text/plain": [
       "<Figure size 432x432 with 1 Axes>"
      ]
     },
     "metadata": {},
     "output_type": "display_data"
    }
   ],
   "source": [
    "# get predicted probabilities\n",
    "Y_probabilities = model_rf.predict_proba(X_test)[:,1]\n",
    "\n",
    "# create true and positive rates\n",
    "false_positive_rate, true_positive_rate, threshold = roc_curve(y_test, Y_probabilities,pos_label = 1)\n",
    "\n",
    "# plot ROC curve\n",
    "\n",
    "plt.figure(figsize=(6, 6))\n",
    "sns.set_style(\"whitegrid\")\n",
    "plt.title(\"Reciever Operating Characteristic\")\n",
    "plt.plot(false_positive_rate, true_positive_rate)\n",
    "plt.plot([0, 1], ls=\"--\")\n",
    "plt.plot([0, 0], [1,0], c=\".7\"), plt.plot([1, 1], c=\".7\")\n",
    "plt.ylabel(\"True Positive Rate\")\n",
    "plt.xlabel(\"False Positive Rate\")\n",
    "plt.show()"
   ]
  },
  {
   "cell_type": "code",
   "execution_count": 58,
   "id": "18016074",
   "metadata": {},
   "outputs": [
    {
     "data": {
      "text/plain": [
       "0.9992618791955854"
      ]
     },
     "execution_count": 58,
     "metadata": {},
     "output_type": "execute_result"
    }
   ],
   "source": [
    "# calculate area under curve\n",
    "roc_auc_rf = roc_auc_score(y_test, Y_probabilities)\n",
    "roc_auc_rf"
   ]
  },
  {
   "cell_type": "markdown",
   "id": "2f0e039b",
   "metadata": {},
   "source": [
    "### 2. Decision Tree Model"
   ]
  },
  {
   "cell_type": "code",
   "execution_count": 59,
   "id": "70a6c0ae",
   "metadata": {},
   "outputs": [],
   "source": [
    "## Inputting the decision tress classifier\n",
    "\n",
    "class_tree = DecisionTreeClassifier(splitter='best', random_state=123, min_samples_split=30, min_samples_leaf=10)\n",
    "\n",
    "# Use the trainning data to train the estimator\n",
    "model_dtc=class_tree.fit(X_train, y_train)\n",
    "\n",
    "Y_pred_dtc =model_dtc.predict(X_test)"
   ]
  },
  {
   "cell_type": "code",
   "execution_count": 60,
   "id": "fb579d97",
   "metadata": {},
   "outputs": [
    {
     "name": "stdout",
     "output_type": "stream",
     "text": [
      "DecisionTreeClassifier Model accuracy score: 94.9533\n"
     ]
    }
   ],
   "source": [
    "# Calculating and viewing the accuracy score for the decision tree model\n",
    "\n",
    "accuracy = accuracy_score(y_test, Y_pred_dtc)\n",
    "print('DecisionTreeClassifier Model accuracy score: {0:0.4f}'.format(accuracy_score(y_test, Y_pred_dtc)*100))"
   ]
  },
  {
   "cell_type": "code",
   "execution_count": 61,
   "id": "13e999bf",
   "metadata": {},
   "outputs": [
    {
     "name": "stdout",
     "output_type": "stream",
     "text": [
      "Decision Tree Classifier Model Precision score: 94.6285\n"
     ]
    }
   ],
   "source": [
    "# Calculating and viewing the precision score for the decision tree model\n",
    "\n",
    "precision_dtc = precision_score(y_test, Y_pred_dtc, average='binary', pos_label=1)\n",
    "print('Decision Tree Classifier Model Precision score: {0:0.4f}'.format(precision_dtc*100))"
   ]
  },
  {
   "cell_type": "code",
   "execution_count": 62,
   "id": "50d1e1e2",
   "metadata": {},
   "outputs": [
    {
     "name": "stdout",
     "output_type": "stream",
     "text": [
      "Decision Tree Classifier Model Recall score: 95.3457\n"
     ]
    }
   ],
   "source": [
    "# Calculating and viewing the recall score for the decision tree model\n",
    "\n",
    "recall_dtc = recall_score(y_test, Y_pred_dtc,pos_label=1)\n",
    "print('Decision Tree Classifier Model Recall score: {0:0.4f}'.format(recall_dtc*100))"
   ]
  },
  {
   "cell_type": "code",
   "execution_count": 63,
   "id": "c8ffb11d",
   "metadata": {},
   "outputs": [
    {
     "name": "stdout",
     "output_type": "stream",
     "text": [
      "DecisionTree Classifier Model f1_score: 94.9858\n"
     ]
    }
   ],
   "source": [
    "# Calculating and viewing the f1 score for the decision tree model\n",
    "\n",
    "f1_score_dtc = f1_score(y_test, Y_pred_dtc,  pos_label=1)\n",
    "print('DecisionTree Classifier Model f1_score: {0:0.4f}'.format(f1_score_dtc*100))"
   ]
  },
  {
   "cell_type": "code",
   "execution_count": 64,
   "id": "cd723e21",
   "metadata": {},
   "outputs": [
    {
     "name": "stdout",
     "output_type": "stream",
     "text": [
      "              precision    recall  f1-score   support\n",
      "\n",
      "           0       0.95      0.95      0.95      7480\n",
      "           1       0.95      0.95      0.95      7520\n",
      "\n",
      "    accuracy                           0.95     15000\n",
      "   macro avg       0.95      0.95      0.95     15000\n",
      "weighted avg       0.95      0.95      0.95     15000\n",
      "\n"
     ]
    }
   ],
   "source": [
    "#Classification Metrices for the decision tree model\n",
    "\n",
    "print(classification_report(y_test, Y_pred_dtc))"
   ]
  },
  {
   "cell_type": "code",
   "execution_count": 65,
   "id": "423285c3",
   "metadata": {},
   "outputs": [
    {
     "name": "stdout",
     "output_type": "stream",
     "text": [
      "Confusion matrix\n",
      "\n",
      " [[7073  407]\n",
      " [ 350 7170]]\n",
      "\n",
      "True Positives(TP) =  7170\n",
      "\n",
      "True Negatives(TN) =  7073\n",
      "\n",
      "False Positives(FP) =  407\n",
      "\n",
      "False Negatives(FN) =  350\n"
     ]
    }
   ],
   "source": [
    "#Confusion-matrix\n",
    "# view confusion-matrix\n",
    "# Print the Confusion Matrix and slice it into four pieces\n",
    "\n",
    "cm_dtc = confusion_matrix(y_test, Y_pred_dtc)\n",
    "print('Confusion matrix\\n\\n', cm_dtc)\n",
    "print('\\nTrue Positives(TP) = ', cm_dtc[1,1])\n",
    "print('\\nTrue Negatives(TN) = ', cm_dtc[0,0])\n",
    "print('\\nFalse Positives(FP) = ', cm_dtc[0,1])\n",
    "print('\\nFalse Negatives(FN) = ', cm_dtc[1,0])"
   ]
  },
  {
   "cell_type": "code",
   "execution_count": 66,
   "id": "f723e4a5",
   "metadata": {},
   "outputs": [
    {
     "data": {
      "text/plain": [
       "<AxesSubplot:>"
      ]
     },
     "execution_count": 66,
     "metadata": {},
     "output_type": "execute_result"
    },
    {
     "data": {
      "image/png": "[encoded data removed]",
      "text/plain": [
       "<Figure size 432x432 with 2 Axes>"
      ]
     },
     "metadata": {},
     "output_type": "display_data"
    }
   ],
   "source": [
    "# visualize confusion matrix with seaborn heatmap\n",
    "plt.figure(figsize=(6, 6))\n",
    "sns.set_style(\"darkgrid\")\n",
    "cm_dtc_matrix = pd.DataFrame(data=cm_dtc, columns=['Predict Negative:0', 'Predict Positive:1'], \n",
    "                                 index=['Actual Negative:0', 'Actual Positive:1'])\n",
    "\n",
    "sns.heatmap(cm_dtc_matrix, annot=True, fmt='d', cmap=plt.cm.Greens)"
   ]
  },
  {
   "cell_type": "code",
   "execution_count": 67,
   "id": "140b47a5",
   "metadata": {},
   "outputs": [
    {
     "data": {
      "image/png": "[encoded data removed]",
      "text/plain": [
       "<Figure size 432x432 with 1 Axes>"
      ]
     },
     "metadata": {},
     "output_type": "display_data"
    }
   ],
   "source": [
    "# get predicted probabilities\n",
    "Y_probabilities = model_dtc.predict_proba(X_test)[:,1]\n",
    "\n",
    "# create true and positive rates\n",
    "false_positive_rate, true_positive_rate, threshold = roc_curve(y_test, Y_probabilities,pos_label = 1)\n",
    "\n",
    "# plot ROC curve\n",
    "plt.figure(figsize=(6, 6))\n",
    "sns.set_style(\"whitegrid\")\n",
    "plt.title(\"Reciever Operating Characteristic\")\n",
    "plt.plot(false_positive_rate, true_positive_rate)\n",
    "plt.plot([0, 1], ls=\"--\")\n",
    "plt.plot([0, 0], [1,0], c=\".7\"), plt.plot([1, 1], c=\".7\")\n",
    "plt.ylabel(\"True Positive Rate\")\n",
    "plt.xlabel(\"False Positive Rate\")\n",
    "plt.show()"
   ]
  },
  {
   "cell_type": "code",
   "execution_count": 68,
   "id": "c58d5b0f",
   "metadata": {},
   "outputs": [
    {
     "data": {
      "text/plain": [
       "0.9828502247127091"
      ]
     },
     "execution_count": 68,
     "metadata": {},
     "output_type": "execute_result"
    }
   ],
   "source": [
    "# calculate area under curve\n",
    "roc_auc_dtc = roc_auc_score(y_test, Y_probabilities)\n",
    "roc_auc_dtc"
   ]
  },
  {
   "cell_type": "markdown",
   "id": "71c2be57",
   "metadata": {},
   "source": [
    "### 3. LIGHT GRADIENT BOASTING MACHINE MODEL"
   ]
  },
  {
   "cell_type": "code",
   "execution_count": 70,
   "id": "f6178e6a",
   "metadata": {},
   "outputs": [
    {
     "data": {
      "text/html": [
       "<style>#sk-container-id-1 {color: black;background-color: white;}#sk-container-id-1 pre{padding: 0;}#sk-container-id-1 div.sk-toggleable {background-color: white;}#sk-container-id-1 label.sk-toggleable__label {cursor: pointer;display: block;width: 100%;margin-bottom: 0;padding: 0.3em;box-sizing: border-box;text-align: center;}#sk-container-id-1 label.sk-toggleable__label-arrow:before {content: \"▸\";float: left;margin-right: 0.25em;color: #696969;}#sk-container-id-1 label.sk-toggleable__label-arrow:hover:before {color: black;}#sk-container-id-1 div.sk-estimator:hover label.sk-toggleable__label-arrow:before {color: black;}#sk-container-id-1 div.sk-toggleable__content {max-height: 0;max-width: 0;overflow: hidden;text-align: left;background-color: #f0f8ff;}#sk-container-id-1 div.sk-toggleable__content pre {margin: 0.2em;color: black;border-radius: 0.25em;background-color: #f0f8ff;}#sk-container-id-1 input.sk-toggleable__control:checked~div.sk-toggleable__content {max-height: 200px;max-width: 100%;overflow: auto;}#sk-container-id-1 input.sk-toggleable__control:checked~label.sk-toggleable__label-arrow:before {content: \"▾\";}#sk-container-id-1 div.sk-estimator input.sk-toggleable__control:checked~label.sk-toggleable__label {background-color: #d4ebff;}#sk-container-id-1 div.sk-label input.sk-toggleable__control:checked~label.sk-toggleable__label {background-color: #d4ebff;}#sk-container-id-1 input.sk-hidden--visually {border: 0;clip: rect(1px 1px 1px 1px);clip: rect(1px, 1px, 1px, 1px);height: 1px;margin: -1px;overflow: hidden;padding: 0;position: absolute;width: 1px;}#sk-container-id-1 div.sk-estimator {font-family: monospace;background-color: #f0f8ff;border: 1px dotted black;border-radius: 0.25em;box-sizing: border-box;margin-bottom: 0.5em;}#sk-container-id-1 div.sk-estimator:hover {background-color: #d4ebff;}#sk-container-id-1 div.sk-parallel-item::after {content: \"\";width: 100%;border-bottom: 1px solid gray;flex-grow: 1;}#sk-container-id-1 div.sk-label:hover label.sk-toggleable__label {background-color: #d4ebff;}#sk-container-id-1 div.sk-serial::before {content: \"\";position: absolute;border-left: 1px solid gray;box-sizing: border-box;top: 0;bottom: 0;left: 50%;z-index: 0;}#sk-container-id-1 div.sk-serial {display: flex;flex-direction: column;align-items: center;background-color: white;padding-right: 0.2em;padding-left: 0.2em;position: relative;}#sk-container-id-1 div.sk-item {position: relative;z-index: 1;}#sk-container-id-1 div.sk-parallel {display: flex;align-items: stretch;justify-content: center;background-color: white;position: relative;}#sk-container-id-1 div.sk-item::before, #sk-container-id-1 div.sk-parallel-item::before {content: \"\";position: absolute;border-left: 1px solid gray;box-sizing: border-box;top: 0;bottom: 0;left: 50%;z-index: -1;}#sk-container-id-1 div.sk-parallel-item {display: flex;flex-direction: column;z-index: 1;position: relative;background-color: white;}#sk-container-id-1 div.sk-parallel-item:first-child::after {align-self: flex-end;width: 50%;}#sk-container-id-1 div.sk-parallel-item:last-child::after {align-self: flex-start;width: 50%;}#sk-container-id-1 div.sk-parallel-item:only-child::after {width: 0;}#sk-container-id-1 div.sk-dashed-wrapped {border: 1px dashed gray;margin: 0 0.4em 0.5em 0.4em;box-sizing: border-box;padding-bottom: 0.4em;background-color: white;}#sk-container-id-1 div.sk-label label {font-family: monospace;font-weight: bold;display: inline-block;line-height: 1.2em;}#sk-container-id-1 div.sk-label-container {text-align: center;}#sk-container-id-1 div.sk-container {/* jupyter's `normalize.less` sets `[hidden] { display: none; }` but bootstrap.min.css set `[hidden] { display: none !important; }` so we also need the `!important` here to be able to override the default hidden behavior on the sphinx rendered scikit-learn.org. See: https://github.com/scikit-learn/scikit-learn/issues/21755 */display: inline-block !important;position: relative;}#sk-container-id-1 div.sk-text-repr-fallback {display: none;}</style><div id=\"sk-container-id-1\" class=\"sk-top-container\"><div class=\"sk-text-repr-fallback\"><pre>LGBMClassifier(n_estimators=1000)</pre><b>In a Jupyter environment, please rerun this cell to show the HTML representation or trust the notebook. <br />On GitHub, the HTML representation is unable to render, please try loading this page with nbviewer.org.</b></div><div class=\"sk-container\" hidden><div class=\"sk-item\"><div class=\"sk-estimator sk-toggleable\"><input class=\"sk-toggleable__control sk-hidden--visually\" id=\"sk-estimator-id-1\" type=\"checkbox\" checked><label for=\"sk-estimator-id-1\" class=\"sk-toggleable__label sk-toggleable__label-arrow\">LGBMClassifier</label><div class=\"sk-toggleable__content\"><pre>LGBMClassifier(n_estimators=1000)</pre></div></div></div></div></div>"
      ],
      "text/plain": [
       "LGBMClassifier(n_estimators=1000)"
      ]
     },
     "execution_count": 70,
     "metadata": {},
     "output_type": "execute_result"
    }
   ],
   "source": [
    "## Instantiating the model\n",
    "\n",
    "model_lgb = lgb.LGBMClassifier(n_estimators=1000)\n",
    "\n",
    "## Training the model with the train dataset\n",
    "model_lgb.fit(X_train, y_train)"
   ]
  },
  {
   "cell_type": "code",
   "execution_count": 71,
   "id": "0e98bbe0",
   "metadata": {},
   "outputs": [],
   "source": [
    "# predictng the results of test dataset\n",
    "Y_pred_lgb=model_lgb.predict(X_test)"
   ]
  },
  {
   "cell_type": "code",
   "execution_count": 72,
   "id": "98539015",
   "metadata": {},
   "outputs": [
    {
     "name": "stdout",
     "output_type": "stream",
     "text": [
      "LightGBM Model accuracy score: 99.5933\n"
     ]
    }
   ],
   "source": [
    "# Calculating and viewing the accuracy score for the decision tree model\n",
    "\n",
    "accuracy = accuracy_score(Y_pred_lgb, y_test)\n",
    "print('LightGBM Model accuracy score: {0:0.4f}'.format(accuracy_score(y_test, Y_pred_lgb)*100))"
   ]
  },
  {
   "cell_type": "code",
   "execution_count": 73,
   "id": "99e7d59d",
   "metadata": {},
   "outputs": [
    {
     "name": "stdout",
     "output_type": "stream",
     "text": [
      "LightGBM Model Precision score: 99.6406\n"
     ]
    }
   ],
   "source": [
    "# Calculating and viewing the precision score for the decision tree model\n",
    "\n",
    "precision_lgb = precision_score(y_test, Y_pred_lgb, pos_label=1)\n",
    "print('LightGBM Model Precision score: {0:0.4f}'.format(precision_lgb*100))"
   ]
  },
  {
   "cell_type": "code",
   "execution_count": 74,
   "id": "b9cd3f0b",
   "metadata": {},
   "outputs": [
    {
     "name": "stdout",
     "output_type": "stream",
     "text": [
      "LightGBM Model Recall score: 99.5479\n"
     ]
    }
   ],
   "source": [
    "# Calculating and viewing the recall score for the decision tree model\n",
    "\n",
    "recall_lgb = recall_score(y_test, Y_pred_lgb, pos_label=1)\n",
    "print('LightGBM Model Recall score: {0:0.4f}'.format(recall_lgb*100))"
   ]
  },
  {
   "cell_type": "code",
   "execution_count": 75,
   "id": "22f7613a",
   "metadata": {},
   "outputs": [
    {
     "name": "stdout",
     "output_type": "stream",
     "text": [
      "LightGBM Model f1 score: 99.5942\n"
     ]
    }
   ],
   "source": [
    "# Calculating and viewing the f1 score for the decision tree model\n",
    "\n",
    "f1_score_lgb = f1_score(y_test, Y_pred_lgb, pos_label=1)\n",
    "print('LightGBM Model f1 score: {0:0.4f}'.format(f1_score_lgb*100))"
   ]
  },
  {
   "cell_type": "code",
   "execution_count": 76,
   "id": "ab8526fd",
   "metadata": {},
   "outputs": [
    {
     "name": "stdout",
     "output_type": "stream",
     "text": [
      "Confusion matrix\n",
      "\n",
      " [[7453   27]\n",
      " [  34 7486]]\n",
      "\n",
      "True Positives(TP) =  7486\n",
      "\n",
      "True Negatives(TN) =  7453\n",
      "\n",
      "False Positives(FP) =  27\n",
      "\n",
      "False Negatives(FN) =  34\n"
     ]
    }
   ],
   "source": [
    "#Confusion-matrix\n",
    "# view confusion-matrix\n",
    "# Print the Confusion Matrix and slice it into four pieces\n",
    "\n",
    "from sklearn.metrics import confusion_matrix\n",
    "cm_lgb = confusion_matrix(y_test, Y_pred_lgb)\n",
    "print('Confusion matrix\\n\\n', cm_lgb)\n",
    "print('\\nTrue Positives(TP) = ', cm_lgb[1,1])\n",
    "print('\\nTrue Negatives(TN) = ', cm_lgb[0,0])\n",
    "print('\\nFalse Positives(FP) = ', cm_lgb[0,1])\n",
    "print('\\nFalse Negatives(FN) = ', cm_lgb[1,0])"
   ]
  },
  {
   "cell_type": "code",
   "execution_count": 77,
   "id": "925b9f9e",
   "metadata": {},
   "outputs": [
    {
     "data": {
      "text/plain": [
       "<AxesSubplot:>"
      ]
     },
     "execution_count": 77,
     "metadata": {},
     "output_type": "execute_result"
    },
    {
     "data": {
      "image/png": "[encoded data removed]",
      "text/plain": [
       "<Figure size 432x432 with 2 Axes>"
      ]
     },
     "metadata": {},
     "output_type": "display_data"
    }
   ],
   "source": [
    "# visualize confusion matrix with seaborn heatmap\n",
    "\n",
    "plt.figure(figsize=(6, 6))\n",
    "sns.set_style(\"darkgrid\")\n",
    "cm_lgb_matrix = pd.DataFrame(data=cm_lgb, columns=['Predict Negative:0', 'Predict Positive:1'], \n",
    "                                 index=['Actual Negative:0', 'Actual Positive:1'])\n",
    "\n",
    "sns.heatmap(cm_lgb_matrix, annot=True, fmt='d', cmap=plt.cm.Reds)"
   ]
  },
  {
   "cell_type": "code",
   "execution_count": 78,
   "id": "001d080b",
   "metadata": {},
   "outputs": [
    {
     "name": "stdout",
     "output_type": "stream",
     "text": [
      "              precision    recall  f1-score   support\n",
      "\n",
      "           0       1.00      1.00      1.00      7480\n",
      "           1       1.00      1.00      1.00      7520\n",
      "\n",
      "    accuracy                           1.00     15000\n",
      "   macro avg       1.00      1.00      1.00     15000\n",
      "weighted avg       1.00      1.00      1.00     15000\n",
      "\n"
     ]
    }
   ],
   "source": [
    "#Classification Metrices\n",
    "\n",
    "## Viewing the classification report of the model\n",
    "print(classification_report(y_test, Y_pred_lgb))"
   ]
  },
  {
   "cell_type": "code",
   "execution_count": 79,
   "id": "1eba5c3c",
   "metadata": {},
   "outputs": [
    {
     "data": {
      "image/png": "[encoded data removed]",
      "text/plain": [
       "<Figure size 432x432 with 1 Axes>"
      ]
     },
     "metadata": {},
     "output_type": "display_data"
    }
   ],
   "source": [
    "# get predicted probabilities\n",
    "Y_probabilities = model_lgb.predict_proba(X_test)[:,1]\n",
    "\n",
    "# create true and positive rates\n",
    "false_positive_rate, true_positive_rate, threshold = roc_curve(y_test, Y_probabilities,pos_label = 1)\n",
    "\n",
    "# plot ROC curve\n",
    "plt.figure(figsize=(6, 6))\n",
    "sns.set_style(\"whitegrid\")\n",
    "plt.title(\"Reciever Operating Characteristic\")\n",
    "plt.plot(false_positive_rate, true_positive_rate)\n",
    "plt.plot([0, 1], ls=\"--\")\n",
    "plt.plot([0, 0], [1,0], c=\".7\"), plt.plot([1, 1], c=\".7\")\n",
    "plt.ylabel(\"True Positive Rate\")\n",
    "plt.xlabel(\"False Positive Rate\")\n",
    "plt.show()"
   ]
  },
  {
   "cell_type": "code",
   "execution_count": 80,
   "id": "1dcf57e2",
   "metadata": {},
   "outputs": [
    {
     "data": {
      "text/plain": [
       "0.9999001948458301"
      ]
     },
     "execution_count": 80,
     "metadata": {},
     "output_type": "execute_result"
    }
   ],
   "source": [
    "# calculate area under curve\n",
    "roc_auc_lgb = roc_auc_score(y_test, Y_probabilities)\n",
    "roc_auc_lgb"
   ]
  },
  {
   "cell_type": "markdown",
   "id": "b972e074",
   "metadata": {},
   "source": [
    "### 4. Logistic  Regression"
   ]
  },
  {
   "cell_type": "code",
   "execution_count": 82,
   "id": "907ddd87",
   "metadata": {},
   "outputs": [],
   "source": [
    "## Instantiating the model\n",
    "logistic_regression = LogisticRegression(max_iter=1000)\n",
    "\n",
    "## Training the model with the training dataset\n",
    "model_lgr = logistic_regression.fit(X_train, y_train)\n",
    "\n",
    "# predict the results\n",
    "Y_pred_lgr=model_lgr.predict(X_test)"
   ]
  },
  {
   "cell_type": "code",
   "execution_count": 83,
   "id": "0525f327",
   "metadata": {},
   "outputs": [
    {
     "name": "stdout",
     "output_type": "stream",
     "text": [
      "Logistic Regression Model accuracy score: 58.9000\n"
     ]
    }
   ],
   "source": [
    "# Calculating and viewing the accuracy score for the decision tree model\n",
    "\n",
    "accuracy=accuracy_score(Y_pred_lgr, y_test)\n",
    "print('Logistic Regression Model accuracy score: {0:0.4f}'.format(accuracy_score(y_test, Y_pred_lgr)*100))"
   ]
  },
  {
   "cell_type": "code",
   "execution_count": 84,
   "id": "d2d7aff2",
   "metadata": {},
   "outputs": [
    {
     "name": "stdout",
     "output_type": "stream",
     "text": [
      "Logistic Regression Model Precision score: 57.5203\n"
     ]
    }
   ],
   "source": [
    "# Calculating and viewing the precision score for the decision tree model\n",
    "\n",
    "precision_lgr = precision_score(y_test, Y_pred_lgr, pos_label=1)\n",
    "print('Logistic Regression Model Precision score: {0:0.4f}'.format(precision_lgr*100))"
   ]
  },
  {
   "cell_type": "code",
   "execution_count": 85,
   "id": "3e22185c",
   "metadata": {},
   "outputs": [
    {
     "name": "stdout",
     "output_type": "stream",
     "text": [
      "Logistic Regression Model Recall score: 68.9096\n"
     ]
    }
   ],
   "source": [
    "# Calculating and viewing the precision score for the decision tree model\n",
    "\n",
    "recall_lgr = recall_score(y_test, Y_pred_lgr, pos_label=1)\n",
    "print('Logistic Regression Model Recall score: {0:0.4f}'.format(recall_lgr*100))"
   ]
  },
  {
   "cell_type": "code",
   "execution_count": 86,
   "id": "effc238a",
   "metadata": {},
   "outputs": [
    {
     "name": "stdout",
     "output_type": "stream",
     "text": [
      "Logistic Regression Model f1 score: 62.7019\n"
     ]
    }
   ],
   "source": [
    "# Calculating and viewing the precision score for the decision tree model\n",
    "\n",
    "f1_score_lgr = f1_score(y_test, Y_pred_lgr, pos_label=1)\n",
    "print('Logistic Regression Model f1 score: {0:0.4f}'.format(f1_score_lgr*100))"
   ]
  },
  {
   "cell_type": "code",
   "execution_count": 87,
   "id": "0b050948",
   "metadata": {},
   "outputs": [
    {
     "name": "stdout",
     "output_type": "stream",
     "text": [
      "Confusion matrix\n",
      "\n",
      " [[3653 3827]\n",
      " [2338 5182]]\n",
      "\n",
      "True Positives(TP) =  5182\n",
      "\n",
      "True Negatives(TN) =  3653\n",
      "\n",
      "False Positives(FP) =  3827\n",
      "\n",
      "False Negatives(FN) =  2338\n"
     ]
    }
   ],
   "source": [
    "#Confusion-matrix\n",
    "# view confusion-matrix\n",
    "# Print the Confusion Matrix and slice it into four pieces\n",
    "\n",
    "from sklearn.metrics import confusion_matrix\n",
    "cm_lgr = confusion_matrix(y_test, Y_pred_lgr)\n",
    "print('Confusion matrix\\n\\n', cm_lgr)\n",
    "print('\\nTrue Positives(TP) = ', cm_lgr[1,1])\n",
    "print('\\nTrue Negatives(TN) = ', cm_lgr[0,0])\n",
    "print('\\nFalse Positives(FP) = ', cm_lgr[0,1])\n",
    "print('\\nFalse Negatives(FN) = ', cm_lgr[1,0])"
   ]
  },
  {
   "cell_type": "code",
   "execution_count": 88,
   "id": "7432a458",
   "metadata": {},
   "outputs": [
    {
     "data": {
      "text/plain": [
       "<AxesSubplot:>"
      ]
     },
     "execution_count": 88,
     "metadata": {},
     "output_type": "execute_result"
    },
    {
     "data": {
      "image/png": "[encoded data removed]",
      "text/plain": [
       "<Figure size 432x432 with 2 Axes>"
      ]
     },
     "metadata": {},
     "output_type": "display_data"
    }
   ],
   "source": [
    "# visualize confusion matrix with seaborn heatmap\n",
    "\n",
    "plt.figure(figsize=(6, 6))\n",
    "sns.set_style(\"darkgrid\")\n",
    "cm_lgr_matrix = pd.DataFrame(data=cm_lgr, columns=['Predict Negative:0', 'Predict Positive:1'], \n",
    "                                 index=['Actual Negative:0', 'Actual Positive:1'])\n",
    "\n",
    "sns.heatmap(cm_lgr_matrix, annot=True, fmt='d', cmap=plt.cm.Blues)"
   ]
  },
  {
   "cell_type": "code",
   "execution_count": 89,
   "id": "8fe26c06",
   "metadata": {},
   "outputs": [
    {
     "name": "stdout",
     "output_type": "stream",
     "text": [
      "              precision    recall  f1-score   support\n",
      "\n",
      "           0       0.61      0.49      0.54      7480\n",
      "           1       0.58      0.69      0.63      7520\n",
      "\n",
      "    accuracy                           0.59     15000\n",
      "   macro avg       0.59      0.59      0.58     15000\n",
      "weighted avg       0.59      0.59      0.58     15000\n",
      "\n"
     ]
    }
   ],
   "source": [
    "#Classification Metrices\n",
    "\n",
    "## Viewing the classification report of the model\n",
    "\n",
    "print(classification_report(y_test, Y_pred_lgr))"
   ]
  },
  {
   "cell_type": "code",
   "execution_count": 90,
   "id": "ce1bb074",
   "metadata": {},
   "outputs": [
    {
     "data": {
      "image/png": "[encoded data removed]",
      "text/plain": [
       "<Figure size 432x432 with 1 Axes>"
      ]
     },
     "metadata": {},
     "output_type": "display_data"
    }
   ],
   "source": [
    "from sklearn.metrics import roc_curve, roc_auc_score\n",
    "\n",
    "# get predicted probabilities\n",
    "Y_probabilities = model_lgr.predict_proba(X_test)[:,1]\n",
    "\n",
    "# create true and positive rates\n",
    "false_positive_rate, true_positive_rate, threshold = roc_curve(y_test, Y_probabilities,pos_label = 1)\n",
    "\n",
    "# plot ROC curve\n",
    "plt.figure(figsize=(6, 6))\n",
    "sns.set_style(\"whitegrid\")\n",
    "plt.title(\"Reciever Operating Characteristic\")\n",
    "plt.plot(false_positive_rate, true_positive_rate)\n",
    "plt.plot([0, 1], ls=\"--\")\n",
    "plt.plot([0, 0], [1,0], c=\".7\"), plt.plot([1, 1], c=\".7\")\n",
    "plt.ylabel(\"True Positive Rate\")\n",
    "plt.xlabel(\"False Positive Rate\")\n",
    "plt.show()"
   ]
  },
  {
   "cell_type": "code",
   "execution_count": 91,
   "id": "37b48a2d",
   "metadata": {},
   "outputs": [
    {
     "data": {
      "text/plain": [
       "0.6475459736602571"
      ]
     },
     "execution_count": 91,
     "metadata": {},
     "output_type": "execute_result"
    }
   ],
   "source": [
    "# calculate area under curve\n",
    "roc_auc_lgr = roc_auc_score(y_test, Y_probabilities)\n",
    "roc_auc_lgr"
   ]
  },
  {
   "cell_type": "markdown",
   "id": "4abb9b7d",
   "metadata": {},
   "source": [
    "### 5. XG Boast Classifier"
   ]
  },
  {
   "cell_type": "code",
   "execution_count": 93,
   "id": "d0890c13",
   "metadata": {},
   "outputs": [
    {
     "data": {
      "text/html": [
       "<style>#sk-container-id-2 {color: black;background-color: white;}#sk-container-id-2 pre{padding: 0;}#sk-container-id-2 div.sk-toggleable {background-color: white;}#sk-container-id-2 label.sk-toggleable__label {cursor: pointer;display: block;width: 100%;margin-bottom: 0;padding: 0.3em;box-sizing: border-box;text-align: center;}#sk-container-id-2 label.sk-toggleable__label-arrow:before {content: \"▸\";float: left;margin-right: 0.25em;color: #696969;}#sk-container-id-2 label.sk-toggleable__label-arrow:hover:before {color: black;}#sk-container-id-2 div.sk-estimator:hover label.sk-toggleable__label-arrow:before {color: black;}#sk-container-id-2 div.sk-toggleable__content {max-height: 0;max-width: 0;overflow: hidden;text-align: left;background-color: #f0f8ff;}#sk-container-id-2 div.sk-toggleable__content pre {margin: 0.2em;color: black;border-radius: 0.25em;background-color: #f0f8ff;}#sk-container-id-2 input.sk-toggleable__control:checked~div.sk-toggleable__content {max-height: 200px;max-width: 100%;overflow: auto;}#sk-container-id-2 input.sk-toggleable__control:checked~label.sk-toggleable__label-arrow:before {content: \"▾\";}#sk-container-id-2 div.sk-estimator input.sk-toggleable__control:checked~label.sk-toggleable__label {background-color: #d4ebff;}#sk-container-id-2 div.sk-label input.sk-toggleable__control:checked~label.sk-toggleable__label {background-color: #d4ebff;}#sk-container-id-2 input.sk-hidden--visually {border: 0;clip: rect(1px 1px 1px 1px);clip: rect(1px, 1px, 1px, 1px);height: 1px;margin: -1px;overflow: hidden;padding: 0;position: absolute;width: 1px;}#sk-container-id-2 div.sk-estimator {font-family: monospace;background-color: #f0f8ff;border: 1px dotted black;border-radius: 0.25em;box-sizing: border-box;margin-bottom: 0.5em;}#sk-container-id-2 div.sk-estimator:hover {background-color: #d4ebff;}#sk-container-id-2 div.sk-parallel-item::after {content: \"\";width: 100%;border-bottom: 1px solid gray;flex-grow: 1;}#sk-container-id-2 div.sk-label:hover label.sk-toggleable__label {background-color: #d4ebff;}#sk-container-id-2 div.sk-serial::before {content: \"\";position: absolute;border-left: 1px solid gray;box-sizing: border-box;top: 0;bottom: 0;left: 50%;z-index: 0;}#sk-container-id-2 div.sk-serial {display: flex;flex-direction: column;align-items: center;background-color: white;padding-right: 0.2em;padding-left: 0.2em;position: relative;}#sk-container-id-2 div.sk-item {position: relative;z-index: 1;}#sk-container-id-2 div.sk-parallel {display: flex;align-items: stretch;justify-content: center;background-color: white;position: relative;}#sk-container-id-2 div.sk-item::before, #sk-container-id-2 div.sk-parallel-item::before {content: \"\";position: absolute;border-left: 1px solid gray;box-sizing: border-box;top: 0;bottom: 0;left: 50%;z-index: -1;}#sk-container-id-2 div.sk-parallel-item {display: flex;flex-direction: column;z-index: 1;position: relative;background-color: white;}#sk-container-id-2 div.sk-parallel-item:first-child::after {align-self: flex-end;width: 50%;}#sk-container-id-2 div.sk-parallel-item:last-child::after {align-self: flex-start;width: 50%;}#sk-container-id-2 div.sk-parallel-item:only-child::after {width: 0;}#sk-container-id-2 div.sk-dashed-wrapped {border: 1px dashed gray;margin: 0 0.4em 0.5em 0.4em;box-sizing: border-box;padding-bottom: 0.4em;background-color: white;}#sk-container-id-2 div.sk-label label {font-family: monospace;font-weight: bold;display: inline-block;line-height: 1.2em;}#sk-container-id-2 div.sk-label-container {text-align: center;}#sk-container-id-2 div.sk-container {/* jupyter's `normalize.less` sets `[hidden] { display: none; }` but bootstrap.min.css set `[hidden] { display: none !important; }` so we also need the `!important` here to be able to override the default hidden behavior on the sphinx rendered scikit-learn.org. See: https://github.com/scikit-learn/scikit-learn/issues/21755 */display: inline-block !important;position: relative;}#sk-container-id-2 div.sk-text-repr-fallback {display: none;}</style><div id=\"sk-container-id-2\" class=\"sk-top-container\"><div class=\"sk-text-repr-fallback\"><pre>XGBClassifier(base_score=0.5, booster=&#x27;gbtree&#x27;, callbacks=None,\n",
       "              colsample_bylevel=1, colsample_bynode=1, colsample_bytree=1,\n",
       "              early_stopping_rounds=None, enable_categorical=False,\n",
       "              eval_metric=None, gamma=0, gpu_id=-1, grow_policy=&#x27;depthwise&#x27;,\n",
       "              importance_type=None, interaction_constraints=&#x27;&#x27;,\n",
       "              learning_rate=0.300000012, max_bin=256, max_cat_to_onehot=4,\n",
       "              max_delta_step=0, max_depth=6, max_leaves=0, min_child_weight=1,\n",
       "              missing=nan, monotone_constraints=&#x27;()&#x27;, n_estimators=1000,\n",
       "              n_jobs=0, num_parallel_tree=1, predictor=&#x27;auto&#x27;, random_state=1,\n",
       "              reg_alpha=0, reg_lambda=1, ...)</pre><b>In a Jupyter environment, please rerun this cell to show the HTML representation or trust the notebook. <br />On GitHub, the HTML representation is unable to render, please try loading this page with nbviewer.org.</b></div><div class=\"sk-container\" hidden><div class=\"sk-item\"><div class=\"sk-estimator sk-toggleable\"><input class=\"sk-toggleable__control sk-hidden--visually\" id=\"sk-estimator-id-2\" type=\"checkbox\" checked><label for=\"sk-estimator-id-2\" class=\"sk-toggleable__label sk-toggleable__label-arrow\">XGBClassifier</label><div class=\"sk-toggleable__content\"><pre>XGBClassifier(base_score=0.5, booster=&#x27;gbtree&#x27;, callbacks=None,\n",
       "              colsample_bylevel=1, colsample_bynode=1, colsample_bytree=1,\n",
       "              early_stopping_rounds=None, enable_categorical=False,\n",
       "              eval_metric=None, gamma=0, gpu_id=-1, grow_policy=&#x27;depthwise&#x27;,\n",
       "              importance_type=None, interaction_constraints=&#x27;&#x27;,\n",
       "              learning_rate=0.300000012, max_bin=256, max_cat_to_onehot=4,\n",
       "              max_delta_step=0, max_depth=6, max_leaves=0, min_child_weight=1,\n",
       "              missing=nan, monotone_constraints=&#x27;()&#x27;, n_estimators=1000,\n",
       "              n_jobs=0, num_parallel_tree=1, predictor=&#x27;auto&#x27;, random_state=1,\n",
       "              reg_alpha=0, reg_lambda=1, ...)</pre></div></div></div></div></div>"
      ],
      "text/plain": [
       "XGBClassifier(base_score=0.5, booster='gbtree', callbacks=None,\n",
       "              colsample_bylevel=1, colsample_bynode=1, colsample_bytree=1,\n",
       "              early_stopping_rounds=None, enable_categorical=False,\n",
       "              eval_metric=None, gamma=0, gpu_id=-1, grow_policy='depthwise',\n",
       "              importance_type=None, interaction_constraints='',\n",
       "              learning_rate=0.300000012, max_bin=256, max_cat_to_onehot=4,\n",
       "              max_delta_step=0, max_depth=6, max_leaves=0, min_child_weight=1,\n",
       "              missing=nan, monotone_constraints='()', n_estimators=1000,\n",
       "              n_jobs=0, num_parallel_tree=1, predictor='auto', random_state=1,\n",
       "              reg_alpha=0, reg_lambda=1, ...)"
      ]
     },
     "execution_count": 93,
     "metadata": {},
     "output_type": "execute_result"
    }
   ],
   "source": [
    "## Instantiaitng the library\n",
    "model_xgb= xgb.XGBClassifier(n_estimators=1000, random_state=1)\n",
    "\n",
    "## Training the model using the train data\n",
    "model_xgb.fit(X_train, y_train)"
   ]
  },
  {
   "cell_type": "code",
   "execution_count": 94,
   "id": "3306ef86",
   "metadata": {},
   "outputs": [],
   "source": [
    "# predict the results using the test dataset\n",
    "Y_pred_xgb = model_xgb.predict(X_test)"
   ]
  },
  {
   "cell_type": "code",
   "execution_count": 95,
   "id": "fdf934d2",
   "metadata": {},
   "outputs": [
    {
     "name": "stdout",
     "output_type": "stream",
     "text": [
      "xgboost Model accuracy score: 99.7067\n"
     ]
    }
   ],
   "source": [
    "# Calculating and viewing the accuracy score for the decision tree model\n",
    "\n",
    "accuracy=accuracy_score(Y_pred_xgb, y_test)\n",
    "print('xgboost Model accuracy score: {0:0.4f}'.format(accuracy_score(y_test, Y_pred_xgb)*100))"
   ]
  },
  {
   "cell_type": "code",
   "execution_count": 96,
   "id": "979a5ea0",
   "metadata": {},
   "outputs": [
    {
     "name": "stdout",
     "output_type": "stream",
     "text": [
      "xgboost Model Precision score: 99.6283\n"
     ]
    }
   ],
   "source": [
    "# Calculating and viewing the precision score for the decision tree model\n",
    "\n",
    "precision_xgb = precision_score(y_test, Y_pred_xgb, pos_label=1)\n",
    "print('xgboost Model Precision score: {0:0.4f}'.format(precision_xgb*100))"
   ]
  },
  {
   "cell_type": "code",
   "execution_count": 97,
   "id": "9ef43eca",
   "metadata": {},
   "outputs": [
    {
     "name": "stdout",
     "output_type": "stream",
     "text": [
      "xgboost Model Recall score: 99.7872\n"
     ]
    }
   ],
   "source": [
    "# Calculating and viewing the recall score for the decision tree model\n",
    "\n",
    "recall_xgb = recall_score(y_test, Y_pred_xgb, pos_label= 1)\n",
    "print('xgboost Model Recall score: {0:0.4f}'.format(recall_xgb*100))"
   ]
  },
  {
   "cell_type": "code",
   "execution_count": 98,
   "id": "dae9024d",
   "metadata": {},
   "outputs": [
    {
     "name": "stdout",
     "output_type": "stream",
     "text": [
      "xgboost Model f1 score: 99.7077\n"
     ]
    }
   ],
   "source": [
    "# Calculating and viewing the f1 score for the decision tree model\n",
    "\n",
    "f1_score_xgb = f1_score(y_test, Y_pred_xgb, pos_label=1)\n",
    "print('xgboost Model f1 score: {0:0.4f}'.format(f1_score_xgb*100))"
   ]
  },
  {
   "cell_type": "code",
   "execution_count": 99,
   "id": "23079ea7",
   "metadata": {},
   "outputs": [
    {
     "name": "stdout",
     "output_type": "stream",
     "text": [
      "Confusion matrix\n",
      "\n",
      " [[7452   28]\n",
      " [  16 7504]]\n",
      "\n",
      "True Positives(TP) =  7504\n",
      "\n",
      "True Negatives(TN) =  7452\n",
      "\n",
      "False Positives(FP) =  28\n",
      "\n",
      "False Negatives(FN) =  16\n"
     ]
    }
   ],
   "source": [
    "#Confusion-matrix\n",
    "# view confusion-matrix\n",
    "# Print the Confusion Matrix and slice it into four pieces\n",
    "\n",
    "\n",
    "cm_xgb = confusion_matrix(y_test, Y_pred_xgb)\n",
    "print('Confusion matrix\\n\\n', cm_xgb)\n",
    "print('\\nTrue Positives(TP) = ', cm_xgb[1,1])\n",
    "print('\\nTrue Negatives(TN) = ', cm_xgb[0,0])\n",
    "print('\\nFalse Positives(FP) = ', cm_xgb[0,1])\n",
    "print('\\nFalse Negatives(FN) = ', cm_xgb[1,0])"
   ]
  },
  {
   "cell_type": "code",
   "execution_count": 100,
   "id": "2453a68d",
   "metadata": {},
   "outputs": [
    {
     "data": {
      "text/plain": [
       "<AxesSubplot:>"
      ]
     },
     "execution_count": 100,
     "metadata": {},
     "output_type": "execute_result"
    },
    {
     "data": {
      "image/png": "[encoded data removed]",
      "text/plain": [
       "<Figure size 432x432 with 2 Axes>"
      ]
     },
     "metadata": {},
     "output_type": "display_data"
    }
   ],
   "source": [
    "# visualize confusion matrix with seaborn heatmap\n",
    "\n",
    "plt.figure(figsize=(6, 6))\n",
    "sns.set_style(\"darkgrid\")\n",
    "cm_xgb_matrix = pd.DataFrame(data=cm_xgb, columns=['Predict Negative:0', 'Predict Positive:1'], \n",
    "                                 index=['Actual Negative:0', 'Actual Positive:1'])\n",
    "\n",
    "sns.heatmap(cm_xgb_matrix, annot=True, fmt='d', cmap=plt.cm.Reds)"
   ]
  },
  {
   "cell_type": "code",
   "execution_count": 101,
   "id": "b9025a99",
   "metadata": {},
   "outputs": [
    {
     "name": "stdout",
     "output_type": "stream",
     "text": [
      "              precision    recall  f1-score   support\n",
      "\n",
      "           0       1.00      1.00      1.00      7480\n",
      "           1       1.00      1.00      1.00      7520\n",
      "\n",
      "    accuracy                           1.00     15000\n",
      "   macro avg       1.00      1.00      1.00     15000\n",
      "weighted avg       1.00      1.00      1.00     15000\n",
      "\n"
     ]
    }
   ],
   "source": [
    "## Viewing the classification report of the model\n",
    "\n",
    "print(classification_report(y_test, Y_pred_xgb))"
   ]
  },
  {
   "cell_type": "code",
   "execution_count": 102,
   "id": "712bd1b1",
   "metadata": {},
   "outputs": [
    {
     "data": {
      "image/png": "[encoded data removed]",
      "text/plain": [
       "<Figure size 432x432 with 1 Axes>"
      ]
     },
     "metadata": {},
     "output_type": "display_data"
    }
   ],
   "source": [
    "from sklearn.metrics import roc_curve, roc_auc_score\n",
    "\n",
    "# get predicted probabilities\n",
    "Y_probabilities = model_xgb.predict_proba(X_test)[:,1]\n",
    "\n",
    "# create true and positive rates\n",
    "false_positive_rate, true_positive_rate, threshold = roc_curve(y_test, Y_probabilities,pos_label = 1)\n",
    "\n",
    "# plot ROC curve\n",
    "\n",
    "plt.figure(figsize=(6, 6))\n",
    "sns.set_style(\"whitegrid\")\n",
    "plt.title(\"Reciever Operating Characteristic\")\n",
    "plt.plot(false_positive_rate, true_positive_rate)\n",
    "plt.plot([0, 1], ls=\"--\")\n",
    "plt.plot([0, 0], [1,0], c=\".7\"), plt.plot([1, 1], c=\".7\")\n",
    "plt.ylabel(\"True Positive Rate\")\n",
    "plt.xlabel(\"False Positive Rate\")\n",
    "plt.show()"
   ]
  },
  {
   "cell_type": "code",
   "execution_count": 103,
   "id": "6e06be81",
   "metadata": {},
   "outputs": [
    {
     "data": {
      "text/plain": [
       "0.9998834125042667"
      ]
     },
     "execution_count": 103,
     "metadata": {},
     "output_type": "execute_result"
    }
   ],
   "source": [
    "# calculate area under curve\n",
    "roc_auc_xgb = roc_auc_score(y_test, Y_probabilities)\n",
    "roc_auc_xgb"
   ]
  },
  {
   "cell_type": "markdown",
   "id": "711a76d5",
   "metadata": {},
   "source": [
    "### Summary of Evaluation Metrics\n",
    "\n",
    "### Step 1. Create Pandas Series for all the Matrices Used"
   ]
  },
  {
   "cell_type": "markdown",
   "id": "beafb111",
   "metadata": {},
   "source": [
    "#### Pandas Series for Accuracy Score"
   ]
  },
  {
   "cell_type": "code",
   "execution_count": 104,
   "id": "9cce9d44",
   "metadata": {},
   "outputs": [
    {
     "data": {
      "text/plain": [
       "Decision Tree                      94.953333\n",
       "Logistic Regression                58.900000\n",
       "Light Gradient Boasitng Machine    99.593333\n",
       "XG Boast Machine                   99.706667\n",
       "Random Forest                      98.880000\n",
       "dtype: float64"
      ]
     },
     "execution_count": 104,
     "metadata": {},
     "output_type": "execute_result"
    }
   ],
   "source": [
    "Accuracy_Score = {'Decision Tree': accuracy_score(y_test, Y_pred_dtc)*100, 'Logistic Regression': accuracy_score(y_test, Y_pred_lgr)*100, 'Light Gradient Boasitng Machine': accuracy_score(y_test, Y_pred_lgb)*100,\n",
    "             'XG Boast Machine': accuracy_score(y_test, Y_pred_xgb)*100, 'Random Forest': accuracy_score(y_test, Y_pred_rf)*100}\n",
    "Accuracy_Score = pd.Series(Accuracy_Score)\n",
    "Accuracy_Score"
   ]
  },
  {
   "cell_type": "markdown",
   "id": "65465011",
   "metadata": {},
   "source": [
    "#### Pandas Series for Precision Score"
   ]
  },
  {
   "cell_type": "code",
   "execution_count": 105,
   "id": "d626179b",
   "metadata": {},
   "outputs": [
    {
     "data": {
      "text/plain": [
       "Decision Tree                      94.628481\n",
       "Logistic Regression                57.520258\n",
       "Light Gradient Boasitng Machine    99.640623\n",
       "XG Boast Machine                   99.628253\n",
       "Random Forest                      99.000267\n",
       "dtype: float64"
      ]
     },
     "execution_count": 105,
     "metadata": {},
     "output_type": "execute_result"
    }
   ],
   "source": [
    "Precision_Score = {'Decision Tree': precision_dtc*100, 'Logistic Regression': precision_lgr*100, 'Light Gradient Boasitng Machine': precision_lgb*100,\n",
    "             'XG Boast Machine': precision_xgb*100, 'Random Forest': precision_rf*100}\n",
    "Precision_Score = pd.Series(Precision_Score)\n",
    "Precision_Score"
   ]
  },
  {
   "cell_type": "markdown",
   "id": "975fa5dd",
   "metadata": {},
   "source": [
    "#### Pandas Series for Recall Score"
   ]
  },
  {
   "cell_type": "code",
   "execution_count": 106,
   "id": "77baec7e",
   "metadata": {},
   "outputs": [
    {
     "data": {
      "text/plain": [
       "Decision Tree                      95.345745\n",
       "Logistic Regression                68.909574\n",
       "Light Gradient Boasitng Machine    99.547872\n",
       "XG Boast Machine                   99.787234\n",
       "Random Forest                      98.763298\n",
       "dtype: float64"
      ]
     },
     "execution_count": 106,
     "metadata": {},
     "output_type": "execute_result"
    }
   ],
   "source": [
    "Recall_Score = {'Decision Tree': recall_dtc*100, 'Logistic Regression': recall_lgr*100, 'Light Gradient Boasitng Machine': recall_lgb*100,\n",
    "             'XG Boast Machine': recall_xgb*100, 'Random Forest': recall_rf*100}\n",
    "Recall_Score = pd.Series(Recall_Score)\n",
    "Recall_Score"
   ]
  },
  {
   "cell_type": "markdown",
   "id": "6d884f6c",
   "metadata": {},
   "source": [
    "#### Pandas Series for f1 Score"
   ]
  },
  {
   "cell_type": "code",
   "execution_count": 107,
   "id": "bfbe3fa6",
   "metadata": {},
   "outputs": [
    {
     "data": {
      "text/plain": [
       "Decision Tree                      94.985759\n",
       "Logistic Regression                62.701918\n",
       "Light Gradient Boasitng Machine    99.594226\n",
       "XG Boast Machine                   99.707680\n",
       "Random Forest                      98.881640\n",
       "dtype: float64"
      ]
     },
     "execution_count": 107,
     "metadata": {},
     "output_type": "execute_result"
    }
   ],
   "source": [
    "f1_Score = {'Decision Tree': f1_score_dtc*100, 'Logistic Regression': f1_score_lgr*100, 'Light Gradient Boasitng Machine': f1_score_lgb*100,\n",
    "             'XG Boast Machine': f1_score_xgb*100, 'Random Forest': f1_score_rf*100}\n",
    "f1_Score = pd.Series(f1_Score)\n",
    "f1_Score"
   ]
  },
  {
   "cell_type": "markdown",
   "id": "e991eb8b",
   "metadata": {},
   "source": [
    "#### Pandas Series for ROC_AUC Score"
   ]
  },
  {
   "cell_type": "code",
   "execution_count": 108,
   "id": "3cbdfd35",
   "metadata": {},
   "outputs": [
    {
     "data": {
      "text/plain": [
       "Decision Tree                      98.285022\n",
       "Logistic Regression                64.754597\n",
       "Light Gradient Boasitng Machine    99.990019\n",
       "XG Boast Machine                   99.988341\n",
       "Random Forest                      99.926188\n",
       "dtype: float64"
      ]
     },
     "execution_count": 108,
     "metadata": {},
     "output_type": "execute_result"
    }
   ],
   "source": [
    "ROC_AUC_Score = {'Decision Tree': roc_auc_dtc*100, 'Logistic Regression': roc_auc_lgr*100, 'Light Gradient Boasitng Machine': roc_auc_lgb*100,\n",
    "             'XG Boast Machine': roc_auc_xgb*100, 'Random Forest': roc_auc_rf*100}\n",
    "ROC_AUC_Score = pd.Series(ROC_AUC_Score)\n",
    "ROC_AUC_Score"
   ]
  },
  {
   "cell_type": "markdown",
   "id": "16ba3f74",
   "metadata": {},
   "source": [
    "#### Pandas Series for the different models built"
   ]
  },
  {
   "cell_type": "code",
   "execution_count": 109,
   "id": "ebcf2fe7",
   "metadata": {},
   "outputs": [
    {
     "data": {
      "text/plain": [
       "Decision Tree                             Decison_Tree_Model\n",
       "Logistic Regression                Logistic_Regression_Model\n",
       "Light Gradient Boasitng Machine                   LGBM_Model\n",
       "XG Boast Machine                                  XGBM_Model\n",
       "Random Forest                            Random_Forest_Model\n",
       "dtype: object"
      ]
     },
     "execution_count": 109,
     "metadata": {},
     "output_type": "execute_result"
    }
   ],
   "source": [
    "Models = {'Decision Tree': \"Decison_Tree_Model\", 'Logistic Regression': \"Logistic_Regression_Model\", 'Light Gradient Boasitng Machine': \"LGBM_Model\",\n",
    "             'XG Boast Machine': \"XGBM_Model\", 'Random Forest': \"Random_Forest_Model\"}\n",
    "Models = pd.Series(Models)\n",
    "Models"
   ]
  },
  {
   "cell_type": "markdown",
   "id": "5d3a0c9f",
   "metadata": {},
   "source": [
    "### Step 2. Concating all the series together to get a dataframe"
   ]
  },
  {
   "cell_type": "code",
   "execution_count": 110,
   "id": "0f95391d",
   "metadata": {},
   "outputs": [],
   "source": [
    "cmm = pd.DataFrame({'Models':Models, 'Accuracy_Score': Accuracy_Score,'Precision_Score': Precision_Score,\n",
    "                    'Recall_Score': Recall_Score,'f1_Score': f1_Score, \n",
    "                    'ROC_AUC_Score': ROC_AUC_Score})"
   ]
  },
  {
   "cell_type": "markdown",
   "id": "32f7d904",
   "metadata": {},
   "source": [
    "### A DataFrame That Shows The Five (5) Models Built Against The Different Evalaution Matrices Used"
   ]
  },
  {
   "cell_type": "code",
   "execution_count": 111,
   "id": "e6424637",
   "metadata": {},
   "outputs": [
    {
     "data": {
      "text/html": [
       "<div>\n",
       "<style scoped>\n",
       "    .dataframe tbody tr th:only-of-type {\n",
       "        vertical-align: middle;\n",
       "    }\n",
       "\n",
       "    .dataframe tbody tr th {\n",
       "        vertical-align: top;\n",
       "    }\n",
       "\n",
       "    .dataframe thead th {\n",
       "        text-align: right;\n",
       "    }\n",
       "</style>\n",
       "<table border=\"1\" class=\"dataframe\">\n",
       "  <thead>\n",
       "    <tr style=\"text-align: right;\">\n",
       "      <th></th>\n",
       "      <th>Models</th>\n",
       "      <th>Accuracy_Score</th>\n",
       "      <th>Precision_Score</th>\n",
       "      <th>Recall_Score</th>\n",
       "      <th>f1_Score</th>\n",
       "      <th>ROC_AUC_Score</th>\n",
       "    </tr>\n",
       "  </thead>\n",
       "  <tbody>\n",
       "    <tr>\n",
       "      <th>0</th>\n",
       "      <td>Decison_Tree_Model</td>\n",
       "      <td>94.953333</td>\n",
       "      <td>94.628481</td>\n",
       "      <td>95.345745</td>\n",
       "      <td>94.985759</td>\n",
       "      <td>98.285022</td>\n",
       "    </tr>\n",
       "    <tr>\n",
       "      <th>1</th>\n",
       "      <td>Logistic_Regression_Model</td>\n",
       "      <td>58.900000</td>\n",
       "      <td>57.520258</td>\n",
       "      <td>68.909574</td>\n",
       "      <td>62.701918</td>\n",
       "      <td>64.754597</td>\n",
       "    </tr>\n",
       "    <tr>\n",
       "      <th>2</th>\n",
       "      <td>LGBM_Model</td>\n",
       "      <td>99.593333</td>\n",
       "      <td>99.640623</td>\n",
       "      <td>99.547872</td>\n",
       "      <td>99.594226</td>\n",
       "      <td>99.990019</td>\n",
       "    </tr>\n",
       "    <tr>\n",
       "      <th>3</th>\n",
       "      <td>XGBM_Model</td>\n",
       "      <td>99.706667</td>\n",
       "      <td>99.628253</td>\n",
       "      <td>99.787234</td>\n",
       "      <td>99.707680</td>\n",
       "      <td>99.988341</td>\n",
       "    </tr>\n",
       "    <tr>\n",
       "      <th>4</th>\n",
       "      <td>Random_Forest_Model</td>\n",
       "      <td>98.880000</td>\n",
       "      <td>99.000267</td>\n",
       "      <td>98.763298</td>\n",
       "      <td>98.881640</td>\n",
       "      <td>99.926188</td>\n",
       "    </tr>\n",
       "  </tbody>\n",
       "</table>\n",
       "</div>"
      ],
      "text/plain": [
       "                      Models  Accuracy_Score  Precision_Score  Recall_Score  \\\n",
       "0         Decison_Tree_Model       94.953333        94.628481     95.345745   \n",
       "1  Logistic_Regression_Model       58.900000        57.520258     68.909574   \n",
       "2                 LGBM_Model       99.593333        99.640623     99.547872   \n",
       "3                 XGBM_Model       99.706667        99.628253     99.787234   \n",
       "4        Random_Forest_Model       98.880000        99.000267     98.763298   \n",
       "\n",
       "    f1_Score  ROC_AUC_Score  \n",
       "0  94.985759      98.285022  \n",
       "1  62.701918      64.754597  \n",
       "2  99.594226      99.990019  \n",
       "3  99.707680      99.988341  \n",
       "4  98.881640      99.926188  "
      ]
     },
     "execution_count": 111,
     "metadata": {},
     "output_type": "execute_result"
    }
   ],
   "source": [
    "cmm_df = cmm.reset_index(drop=True)\n",
    "cmm_df"
   ]
  },
  {
   "cell_type": "code",
   "execution_count": null,
   "id": "fa874472",
   "metadata": {},
   "outputs": [],
   "source": []
  }
 ],
 "metadata": {
  "kernelspec": {
   "display_name": "Python 3 (ipykernel)",
   "language": "python",
   "name": "python3"
  },
  "language_info": {
   "codemirror_mode": {
    "name": "ipython",
    "version": 3
   },
   "file_extension": ".py",
   "mimetype": "text/x-python",
   "name": "python",
   "nbconvert_exporter": "python",
   "pygments_lexer": "ipython3",
   "version": "3.9.7"
  }
 },
 "nbformat": 4,
 "nbformat_minor": 5
}
